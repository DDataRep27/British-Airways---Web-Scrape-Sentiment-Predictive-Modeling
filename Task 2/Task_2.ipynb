{
  "cells": [
    {
      "cell_type": "markdown",
      "metadata": {
        "id": "bIaYyXZtWal_"
      },
      "source": [
        "# Task 2\n",
        "\n",
        "---\n",
        "\n",
        "## Predictive modeling of customer bookings\n",
        "Customers are more empowered than ever because they have access to a wealth of information at their fingertips. This is one of the reasons the buying cycle is very different to what it used to be. Today, if you’re hoping that a customer purchases your flights or holidays as they come into the airport, you’ve already lost! Being reactive in this situation is not ideal; airlines must be proactive in order to acquire customers before they embark on their holiday."
      ]
    },
    {
      "cell_type": "markdown",
      "metadata": {
        "id": "0ce6687f"
      },
      "source": [
        "# Problem Statement"
      ]
    },
    {
      "cell_type": "markdown",
      "metadata": {
        "id": "e4398839"
      },
      "source": [
        "* Manipulate and prepare the provided customer booking data so that you can build a high-quality predictive model. This is possible with the use of data and predictive models. The most important factor with a predictive model is the quality of the data you use to train the machine learning algorithms.\n",
        "\n",
        "* With your predictive model, it is important to interpret the results in order to understand how “predictive” the data really was and whether we can feasibly use it to predict the target outcome (customers buying holidays). Therefore, you should evaluate the model's performance and output how each variable contributes to the predictive model's power.\n"
      ]
    },
    {
      "cell_type": "markdown",
      "metadata": {
        "id": "18318657"
      },
      "source": [
        "## Import Necessary Libraries"
      ]
    },
    {
      "cell_type": "code",
      "source": [
        "#!pip install matplotlib==3.4"
      ],
      "metadata": {
        "id": "Xaqp1giHZpVD"
      },
      "execution_count": 345,
      "outputs": []
    },
    {
      "cell_type": "code",
      "execution_count": 442,
      "metadata": {
        "id": "9z4-vuomWamO"
      },
      "outputs": [],
      "source": [
        "import pandas as pd\n",
        "import numpy as np\n",
        "import matplotlib.pyplot as plt\n",
        "%matplotlib inline\n",
        "import seaborn as sns\n",
        "\n",
        "import sklearn\n",
        "from sklearn.model_selection import train_test_split, cross_val_score, StratifiedKFold\n",
        "from sklearn.preprocessing import StandardScaler, RobustScaler\n",
        "from sklearn.linear_model import LogisticRegression\n",
        "from sklearn.tree import DecisionTreeClassifier\n",
        "from sklearn.ensemble import RandomForestClassifier, AdaBoostClassifier\n",
        "from xgboost import XGBClassifier\n",
        "from sklearn.metrics import plot_confusion_matrix, classification_report, roc_auc_score, f1_score, balanced_accuracy_score\n",
        "from sklearn.feature_selection import RFE, SelectFromModel\n",
        "from sklearn.pipeline import Pipeline\n",
        "\n",
        "from imblearn.over_sampling import SMOTE\n",
        "from imblearn.combine import SMOTEENN\n",
        "\n",
        "import warnings\n",
        "warnings.filterwarnings('ignore')\n"
      ]
    },
    {
      "cell_type": "markdown",
      "source": [
        "## Import Dataset"
      ],
      "metadata": {
        "id": "iulNRApcUxF-"
      }
    },
    {
      "cell_type": "code",
      "execution_count": 347,
      "metadata": {
        "colab": {
          "base_uri": "https://localhost:8080/",
          "height": 270
        },
        "id": "Cy9fgH-vWamR",
        "outputId": "fe679321-2668-4150-cd97-4c16bbd96cac"
      },
      "outputs": [
        {
          "output_type": "execute_result",
          "data": {
            "text/plain": [
              "   num_passengers sales_channel  trip_type  purchase_lead  length_of_stay  \\\n",
              "0               2      Internet  RoundTrip            262              19   \n",
              "1               1      Internet  RoundTrip            112              20   \n",
              "2               2      Internet  RoundTrip            243              22   \n",
              "3               1      Internet  RoundTrip             96              31   \n",
              "4               2      Internet  RoundTrip             68              22   \n",
              "\n",
              "   flight_hour flight_day   route booking_origin  wants_extra_baggage  \\\n",
              "0            7        Sat  AKLDEL    New Zealand                    1   \n",
              "1            3        Sat  AKLDEL    New Zealand                    0   \n",
              "2           17        Wed  AKLDEL          India                    1   \n",
              "3            4        Sat  AKLDEL    New Zealand                    0   \n",
              "4           15        Wed  AKLDEL          India                    1   \n",
              "\n",
              "   wants_preferred_seat  wants_in_flight_meals  flight_duration  \\\n",
              "0                     0                      0             5.52   \n",
              "1                     0                      0             5.52   \n",
              "2                     1                      0             5.52   \n",
              "3                     0                      1             5.52   \n",
              "4                     0                      1             5.52   \n",
              "\n",
              "   booking_complete  \n",
              "0                 0  \n",
              "1                 0  \n",
              "2                 0  \n",
              "3                 0  \n",
              "4                 0  "
            ],
            "text/html": [
              "\n",
              "  <div id=\"df-2f4c239e-8ae6-4af1-abe0-468926207e11\">\n",
              "    <div class=\"colab-df-container\">\n",
              "      <div>\n",
              "<style scoped>\n",
              "    .dataframe tbody tr th:only-of-type {\n",
              "        vertical-align: middle;\n",
              "    }\n",
              "\n",
              "    .dataframe tbody tr th {\n",
              "        vertical-align: top;\n",
              "    }\n",
              "\n",
              "    .dataframe thead th {\n",
              "        text-align: right;\n",
              "    }\n",
              "</style>\n",
              "<table border=\"1\" class=\"dataframe\">\n",
              "  <thead>\n",
              "    <tr style=\"text-align: right;\">\n",
              "      <th></th>\n",
              "      <th>num_passengers</th>\n",
              "      <th>sales_channel</th>\n",
              "      <th>trip_type</th>\n",
              "      <th>purchase_lead</th>\n",
              "      <th>length_of_stay</th>\n",
              "      <th>flight_hour</th>\n",
              "      <th>flight_day</th>\n",
              "      <th>route</th>\n",
              "      <th>booking_origin</th>\n",
              "      <th>wants_extra_baggage</th>\n",
              "      <th>wants_preferred_seat</th>\n",
              "      <th>wants_in_flight_meals</th>\n",
              "      <th>flight_duration</th>\n",
              "      <th>booking_complete</th>\n",
              "    </tr>\n",
              "  </thead>\n",
              "  <tbody>\n",
              "    <tr>\n",
              "      <th>0</th>\n",
              "      <td>2</td>\n",
              "      <td>Internet</td>\n",
              "      <td>RoundTrip</td>\n",
              "      <td>262</td>\n",
              "      <td>19</td>\n",
              "      <td>7</td>\n",
              "      <td>Sat</td>\n",
              "      <td>AKLDEL</td>\n",
              "      <td>New Zealand</td>\n",
              "      <td>1</td>\n",
              "      <td>0</td>\n",
              "      <td>0</td>\n",
              "      <td>5.52</td>\n",
              "      <td>0</td>\n",
              "    </tr>\n",
              "    <tr>\n",
              "      <th>1</th>\n",
              "      <td>1</td>\n",
              "      <td>Internet</td>\n",
              "      <td>RoundTrip</td>\n",
              "      <td>112</td>\n",
              "      <td>20</td>\n",
              "      <td>3</td>\n",
              "      <td>Sat</td>\n",
              "      <td>AKLDEL</td>\n",
              "      <td>New Zealand</td>\n",
              "      <td>0</td>\n",
              "      <td>0</td>\n",
              "      <td>0</td>\n",
              "      <td>5.52</td>\n",
              "      <td>0</td>\n",
              "    </tr>\n",
              "    <tr>\n",
              "      <th>2</th>\n",
              "      <td>2</td>\n",
              "      <td>Internet</td>\n",
              "      <td>RoundTrip</td>\n",
              "      <td>243</td>\n",
              "      <td>22</td>\n",
              "      <td>17</td>\n",
              "      <td>Wed</td>\n",
              "      <td>AKLDEL</td>\n",
              "      <td>India</td>\n",
              "      <td>1</td>\n",
              "      <td>1</td>\n",
              "      <td>0</td>\n",
              "      <td>5.52</td>\n",
              "      <td>0</td>\n",
              "    </tr>\n",
              "    <tr>\n",
              "      <th>3</th>\n",
              "      <td>1</td>\n",
              "      <td>Internet</td>\n",
              "      <td>RoundTrip</td>\n",
              "      <td>96</td>\n",
              "      <td>31</td>\n",
              "      <td>4</td>\n",
              "      <td>Sat</td>\n",
              "      <td>AKLDEL</td>\n",
              "      <td>New Zealand</td>\n",
              "      <td>0</td>\n",
              "      <td>0</td>\n",
              "      <td>1</td>\n",
              "      <td>5.52</td>\n",
              "      <td>0</td>\n",
              "    </tr>\n",
              "    <tr>\n",
              "      <th>4</th>\n",
              "      <td>2</td>\n",
              "      <td>Internet</td>\n",
              "      <td>RoundTrip</td>\n",
              "      <td>68</td>\n",
              "      <td>22</td>\n",
              "      <td>15</td>\n",
              "      <td>Wed</td>\n",
              "      <td>AKLDEL</td>\n",
              "      <td>India</td>\n",
              "      <td>1</td>\n",
              "      <td>0</td>\n",
              "      <td>1</td>\n",
              "      <td>5.52</td>\n",
              "      <td>0</td>\n",
              "    </tr>\n",
              "  </tbody>\n",
              "</table>\n",
              "</div>\n",
              "      <button class=\"colab-df-convert\" onclick=\"convertToInteractive('df-2f4c239e-8ae6-4af1-abe0-468926207e11')\"\n",
              "              title=\"Convert this dataframe to an interactive table.\"\n",
              "              style=\"display:none;\">\n",
              "        \n",
              "  <svg xmlns=\"http://www.w3.org/2000/svg\" height=\"24px\"viewBox=\"0 0 24 24\"\n",
              "       width=\"24px\">\n",
              "    <path d=\"M0 0h24v24H0V0z\" fill=\"none\"/>\n",
              "    <path d=\"M18.56 5.44l.94 2.06.94-2.06 2.06-.94-2.06-.94-.94-2.06-.94 2.06-2.06.94zm-11 1L8.5 8.5l.94-2.06 2.06-.94-2.06-.94L8.5 2.5l-.94 2.06-2.06.94zm10 10l.94 2.06.94-2.06 2.06-.94-2.06-.94-.94-2.06-.94 2.06-2.06.94z\"/><path d=\"M17.41 7.96l-1.37-1.37c-.4-.4-.92-.59-1.43-.59-.52 0-1.04.2-1.43.59L10.3 9.45l-7.72 7.72c-.78.78-.78 2.05 0 2.83L4 21.41c.39.39.9.59 1.41.59.51 0 1.02-.2 1.41-.59l7.78-7.78 2.81-2.81c.8-.78.8-2.07 0-2.86zM5.41 20L4 18.59l7.72-7.72 1.47 1.35L5.41 20z\"/>\n",
              "  </svg>\n",
              "      </button>\n",
              "      \n",
              "  <style>\n",
              "    .colab-df-container {\n",
              "      display:flex;\n",
              "      flex-wrap:wrap;\n",
              "      gap: 12px;\n",
              "    }\n",
              "\n",
              "    .colab-df-convert {\n",
              "      background-color: #E8F0FE;\n",
              "      border: none;\n",
              "      border-radius: 50%;\n",
              "      cursor: pointer;\n",
              "      display: none;\n",
              "      fill: #1967D2;\n",
              "      height: 32px;\n",
              "      padding: 0 0 0 0;\n",
              "      width: 32px;\n",
              "    }\n",
              "\n",
              "    .colab-df-convert:hover {\n",
              "      background-color: #E2EBFA;\n",
              "      box-shadow: 0px 1px 2px rgba(60, 64, 67, 0.3), 0px 1px 3px 1px rgba(60, 64, 67, 0.15);\n",
              "      fill: #174EA6;\n",
              "    }\n",
              "\n",
              "    [theme=dark] .colab-df-convert {\n",
              "      background-color: #3B4455;\n",
              "      fill: #D2E3FC;\n",
              "    }\n",
              "\n",
              "    [theme=dark] .colab-df-convert:hover {\n",
              "      background-color: #434B5C;\n",
              "      box-shadow: 0px 1px 3px 1px rgba(0, 0, 0, 0.15);\n",
              "      filter: drop-shadow(0px 1px 2px rgba(0, 0, 0, 0.3));\n",
              "      fill: #FFFFFF;\n",
              "    }\n",
              "  </style>\n",
              "\n",
              "      <script>\n",
              "        const buttonEl =\n",
              "          document.querySelector('#df-2f4c239e-8ae6-4af1-abe0-468926207e11 button.colab-df-convert');\n",
              "        buttonEl.style.display =\n",
              "          google.colab.kernel.accessAllowed ? 'block' : 'none';\n",
              "\n",
              "        async function convertToInteractive(key) {\n",
              "          const element = document.querySelector('#df-2f4c239e-8ae6-4af1-abe0-468926207e11');\n",
              "          const dataTable =\n",
              "            await google.colab.kernel.invokeFunction('convertToInteractive',\n",
              "                                                     [key], {});\n",
              "          if (!dataTable) return;\n",
              "\n",
              "          const docLinkHtml = 'Like what you see? Visit the ' +\n",
              "            '<a target=\"_blank\" href=https://colab.research.google.com/notebooks/data_table.ipynb>data table notebook</a>'\n",
              "            + ' to learn more about interactive tables.';\n",
              "          element.innerHTML = '';\n",
              "          dataTable['output_type'] = 'display_data';\n",
              "          await google.colab.output.renderOutput(dataTable, element);\n",
              "          const docLink = document.createElement('div');\n",
              "          docLink.innerHTML = docLinkHtml;\n",
              "          element.appendChild(docLink);\n",
              "        }\n",
              "      </script>\n",
              "    </div>\n",
              "  </div>\n",
              "  "
            ]
          },
          "metadata": {},
          "execution_count": 347
        }
      ],
      "source": [
        "df = pd.read_csv(\"/content/customer_booking.csv\", encoding=\"ISO-8859-1\")\n",
        "df.head()"
      ]
    },
    {
      "cell_type": "markdown",
      "metadata": {
        "id": "VgXGYK5JWamU"
      },
      "source": [
        "The `.head()` method allows us to view the first 5 rows in the dataset, this is useful for visual inspection of our columns"
      ]
    },
    {
      "cell_type": "code",
      "execution_count": 348,
      "metadata": {
        "colab": {
          "base_uri": "https://localhost:8080/"
        },
        "id": "Po_SYFxFWamV",
        "outputId": "2e68f481-6774-4740-a447-ac0b4865eede"
      },
      "outputs": [
        {
          "output_type": "stream",
          "name": "stdout",
          "text": [
            "<class 'pandas.core.frame.DataFrame'>\n",
            "RangeIndex: 50000 entries, 0 to 49999\n",
            "Data columns (total 14 columns):\n",
            " #   Column                 Non-Null Count  Dtype  \n",
            "---  ------                 --------------  -----  \n",
            " 0   num_passengers         50000 non-null  int64  \n",
            " 1   sales_channel          50000 non-null  object \n",
            " 2   trip_type              50000 non-null  object \n",
            " 3   purchase_lead          50000 non-null  int64  \n",
            " 4   length_of_stay         50000 non-null  int64  \n",
            " 5   flight_hour            50000 non-null  int64  \n",
            " 6   flight_day             50000 non-null  object \n",
            " 7   route                  50000 non-null  object \n",
            " 8   booking_origin         50000 non-null  object \n",
            " 9   wants_extra_baggage    50000 non-null  int64  \n",
            " 10  wants_preferred_seat   50000 non-null  int64  \n",
            " 11  wants_in_flight_meals  50000 non-null  int64  \n",
            " 12  flight_duration        50000 non-null  float64\n",
            " 13  booking_complete       50000 non-null  int64  \n",
            "dtypes: float64(1), int64(8), object(5)\n",
            "memory usage: 5.3+ MB\n"
          ]
        }
      ],
      "source": [
        "df.info()"
      ]
    },
    {
      "cell_type": "markdown",
      "metadata": {
        "id": "7DAB41IvWamW"
      },
      "source": [
        "The `.info()` method gives us a data description, telling us the names of the columns, their data types and how many null values we have. Fortunately, we have no null values. It looks like some of these columns should be converted into different data types, e.g. flight_day.\n",
        "\n",
        "To provide more context, below is a more detailed data description, explaining exactly what each column means:\n",
        "\n",
        "- `num_passengers` = number of passengers travelling\n",
        "- `sales_channel` = sales channel booking was made on\n",
        "- `trip_type` = trip Type (Round Trip, One Way, Circle Trip)\n",
        "- `purchase_lead` = number of days between travel date and booking date\n",
        "- `length_of_stay` = number of days spent at destination\n",
        "- `flight_hour` = hour of flight departure\n",
        "- `flight_day` = day of week of flight departure\n",
        "- `route` = origin -> destination flight route\n",
        "- `booking_origin` = country from where booking was made\n",
        "- `wants_extra_baggage` = if the customer wanted extra baggage in the booking\n",
        "- `wants_preferred_seat` = if the customer wanted a preferred seat in the booking\n",
        "- `wants_in_flight_meals` = if the customer wanted in-flight meals in the booking\n",
        "- `flight_duration` = total duration of flight (in hours)\n",
        "- `booking_complete` = flag indicating if the customer completed the booking\n",
        "\n",
        "Before we compute any statistics on the data, lets do any necessary data conversion"
      ]
    },
    {
      "cell_type": "markdown",
      "metadata": {
        "id": "6ae65eda"
      },
      "source": [
        "## EDA"
      ]
    },
    {
      "cell_type": "markdown",
      "metadata": {
        "id": "27242804"
      },
      "source": [
        "### Data understanding & checking missing/null values"
      ]
    },
    {
      "cell_type": "code",
      "source": [
        "#Checking unique values in numerical columns\n",
        "col = df.columns[df.dtypes!='object']\n",
        "\n",
        "for i in col:\n",
        "    x = df[i].unique()\n",
        "    print(f'{i}: {x}\\n')"
      ],
      "metadata": {
        "colab": {
          "base_uri": "https://localhost:8080/"
        },
        "id": "-HBiMAYpFqFm",
        "outputId": "da992ac9-ceb0-4e4a-9ba6-c61af971a994"
      },
      "execution_count": 349,
      "outputs": [
        {
          "output_type": "stream",
          "name": "stdout",
          "text": [
            "num_passengers: [2 1 3 4 6 5 7 9 8]\n",
            "\n",
            "purchase_lead: [262 112 243  96  68   3 201 238  80 378 185   8 265 245 192 259  19  67\n",
            " 351 228  21  23  25  16  66  51  37 101   7   5  33  20  56  13  71 346\n",
            "   9  65 221 107  14  77  24  47  22  11  35 272 250 161 128 190 311  27\n",
            " 314 102   2  26  32  57 198 120  69 281 282  15  31 316 232 156 196 283\n",
            "  34  63   6 227 181 138 134  85  93 118  90 168 127  18 153 186 263 172\n",
            " 230  42  81 140 285 179 341 173 180 366 229 174  82  75 163 105 276 110\n",
            "  83 154  55  45  54 193  10 166  97 239 182  99  53  28 384  70 126 142\n",
            "  87  86 313  41  91 206 197 268 157 145 241 139  59 396 280  79 380 132\n",
            " 121 419  58 115 236 225 116 191 275 417 159  92 106 218 295  12 305 235\n",
            " 332 125 204 310 368 169 214 155 325 130 189 226 122  88 211 188 129 149\n",
            "  38 194 183  40  95 135 222  64 162 150  73 133  89 151 349  29 123 298\n",
            " 195  84 410 216 111 109   0 210 326 240  39 294 304 160 363 231  62   1\n",
            " 178 253  30 199 171 269 301  72 224 246  44  94 113  49 254 296  74 343\n",
            " 347  61 352 255 267 213 237 244 119  50 293 207 252  60 358 292 203 321\n",
            "  46 286 393  17 337 408  52 329 164 249 414 377 402 131  43  98 411 291\n",
            " 318 136 152 287 279 277 331 359 146 336 219 258 403 320 212  36 177 144\n",
            " 348 215 242 266 233 114 317  76 345 108 290 386 330 394 170 209 175 389\n",
            " 302 372  48 124 208 205 143 100  78 373 641 256 165   4 423 412 274 158\n",
            " 388 335 322 288 406 278 333 141 270 104 247 382 361 271 248 284 200 137\n",
            " 167 103 364 234 308 383 370 409 300 339 444 391 117 344 147 338 202 307\n",
            " 261 334 260 187 309 223 303 471 306 273 390 251 369 379 176 257 184 398\n",
            " 148 355 357 424 387 401 220 217 577 415 397 340 416 376 323 289 297 374\n",
            " 557 324 264 407 360 350 426 420 353 299 328 362 375 385 315 614 463 381\n",
            " 342 429 425 584 433 319 392 399 365 404 422 395 312 327 428 516 354 367\n",
            " 405 356 453 460 427 371 413 446 573 564 536 704 514 400 440 548 436 439\n",
            " 437 421 418 431 553 445 442 430 495 432 633 434 625 477 443 605 435 483\n",
            " 606 867]\n",
            "\n",
            "length_of_stay: [ 19  20  22  31  48  33  30  25  43  24  17  34  18  37  29 155  88  27\n",
            "  21  28  47  35  82  26  90  23  84  61  40  96  69  89  58  56 110 165\n",
            " 111  38 207  91   1 274  44  57 106  68  87  51 196  77  41 278 108 180\n",
            "  72  32  62  45  50  59 125 124  46  55  60  36  65 208 204  83  42  85\n",
            "  64  86  54 238 275  39  95  70  93  49 107 121 203 188  78 209 126  80\n",
            " 200 255  63  92 118  79 181  76  94 305 149 177 183 162  71 109  52 140\n",
            "  66 184 152  53 291 329  75 130 142 175  73 304 186 116 101 223 415 312\n",
            " 143  81 144 134 135 117 120 138 153  74 261 103 104 112 157 266  98 318\n",
            "  67 273 105 148 102 119 122 603 465 409 128 233  99 113 147 127  97 170\n",
            " 156 160 182 115 158   0 357 173 228 205 178 123 352 141 139 129 301 176\n",
            " 332 217 358 285 163 359 348 392 179 132 431 236 353 137 146 174 224 164\n",
            " 306 252 171 347 185 150 361 189 343 151 133 230 215 256 365 168 335 349\n",
            " 355 331 199 254 100 321 245 350 326 351 356 360 262 364 229 193 194 131\n",
            " 114 191 235 239 225 190 166 280 136 330 169 345 362 240 145 159 267 363\n",
            " 192 161 322 315 289 244 327 308 610 172 260 778 167 226 379 334 313 342\n",
            " 284 237 532 513 201 206 221 242 369 290 297 388 282 218 286 271 259 510\n",
            " 272 292 197 277 268 435 276 220 338 303 222 187 247 198 195 214 337 241\n",
            " 311 279 316 287 478 399 210 341 250 202 573 216 211 773 339 294 154 517\n",
            " 462 577 231 293 213 263   2   3   4   5   6]\n",
            "\n",
            "flight_hour: [ 7  3 17  4 15 20  6 14 12  2 19 10  8 23  9 13 11  0  1  5 16 18 22 21]\n",
            "\n",
            "wants_extra_baggage: [1 0]\n",
            "\n",
            "wants_preferred_seat: [0 1]\n",
            "\n",
            "wants_in_flight_meals: [0 1]\n",
            "\n",
            "flight_duration: [5.52 5.07 7.57 6.62 7.   4.75 8.83 7.42 6.42 5.33 4.67 5.62 8.58 8.67\n",
            " 4.72 8.15 6.33 5.   4.83 9.5  5.13]\n",
            "\n",
            "booking_complete: [0 1]\n",
            "\n"
          ]
        }
      ]
    },
    {
      "cell_type": "code",
      "source": [
        "#Checking unique values in categorical columns\n",
        "col = df.columns[df.dtypes=='object']\n",
        "\n",
        "for i in col:\n",
        "    x = df[i].unique()\n",
        "    print(f'{i}: {x}\\n')"
      ],
      "metadata": {
        "colab": {
          "base_uri": "https://localhost:8080/"
        },
        "id": "sM0SB5ZTaW3L",
        "outputId": "2dcf0761-1864-4d7b-8ec8-f5b415aaa893"
      },
      "execution_count": 350,
      "outputs": [
        {
          "output_type": "stream",
          "name": "stdout",
          "text": [
            "sales_channel: ['Internet' 'Mobile']\n",
            "\n",
            "trip_type: ['RoundTrip' 'CircleTrip' 'OneWay']\n",
            "\n",
            "flight_day: ['Sat' 'Wed' 'Thu' 'Mon' 'Sun' 'Tue' 'Fri']\n",
            "\n",
            "route: ['AKLDEL' 'AKLHGH' 'AKLHND' 'AKLICN' 'AKLKIX' 'AKLKTM' 'AKLKUL' 'AKLMRU'\n",
            " 'AKLPEK' 'AKLPVG' 'AKLTPE' 'AORICN' 'AORKIX' 'AORKTM' 'AORMEL' 'BBIMEL'\n",
            " 'BBIOOL' 'BBIPER' 'BBISYD' 'BDOCTS' 'BDOCTU' 'BDOHGH' 'BDOICN' 'BDOIKA'\n",
            " 'BDOKIX' 'BDOMEL' 'BDOOOL' 'BDOPEK' 'BDOPER' 'BDOPUS' 'BDOPVG' 'BDOSYD'\n",
            " 'BDOTPE' 'BDOXIY' 'BKICKG' 'BKICTS' 'BKICTU' 'BKIHND' 'BKIICN' 'BKIKIX'\n",
            " 'BKIKTM' 'BKIMEL' 'BKIMRU' 'BKIOOL' 'BKIPEK' 'BKIPER' 'BKIPUS' 'BKIPVG'\n",
            " 'BKISYD' 'BKIXIY' 'BLRICN' 'BLRMEL' 'BLRPER' 'BLRSYD' 'BOMMEL' 'BOMOOL'\n",
            " 'BOMPER' 'BOMSYD' 'BTJJED' 'BTUICN' 'BTUPER' 'BTUSYD' 'BTUWUH' 'BWNCKG'\n",
            " 'BWNDEL' 'BWNHGH' 'BWNIKA' 'BWNKTM' 'BWNMEL' 'BWNOOL' 'BWNPER' 'BWNSYD'\n",
            " 'BWNTPE' 'CANDEL' 'CANIKA' 'CANMEL' 'CANMRU' 'CANOOL' 'CANPER' 'CANSYD'\n",
            " 'CCUMEL' 'CCUMRU' 'CCUOOL' 'CCUPER' 'CCUSYD' 'CCUTPE' 'CEBMEL' 'CEBOOL'\n",
            " 'CEBPER' 'CEBSYD' 'CGKCKG' 'CGKCTS' 'CGKCTU' 'CGKDEL' 'CGKHGH' 'CGKHND'\n",
            " 'CGKICN' 'CGKIKA' 'CGKJED' 'CGKKIX' 'CGKKTM' 'CGKMEL' 'CGKMRU' 'CGKOOL'\n",
            " 'CGKPEK' 'CGKPER' 'CGKPUS' 'CGKPVG' 'CGKSYD' 'CGKTPE' 'CGKWUH' 'CGKXIY'\n",
            " 'CKGCOK' 'CKGDPS' 'CKGJHB' 'CKGKCH' 'CKGLOP' 'CKGMAA' 'CKGMEL' 'CKGMYY'\n",
            " 'CKGOOL' 'CKGPEN' 'CKGPER' 'CKGPNH' 'CKGSBW' 'CKGSIN' 'CKGSUB' 'CKGSYD'\n",
            " 'CKGTGG' 'CKGTRZ' 'CKGTWU' 'CMBCTS' 'CMBCTU' 'CMBHGH' 'CMBHND' 'CMBICN'\n",
            " 'CMBKIX' 'CMBMEL' 'CMBMRU' 'CMBOOL' 'CMBPEK' 'CMBPER' 'CMBPVG' 'CMBSYD'\n",
            " 'CMBWUH' 'CNXHND' 'CNXICN' 'CNXKIX' 'CNXMEL' 'CNXOOL' 'CNXPEK' 'CNXPER'\n",
            " 'CNXPVG' 'CNXSYD' 'CNXTPE' 'COKCTU' 'COKHGH' 'COKICN' 'COKKIX' 'COKMEL'\n",
            " 'COKOOL' 'COKPER' 'COKPUS' 'COKSYD' 'COKTPE' 'COKWUH' 'CRKMEL' 'CRKOOL'\n",
            " 'CRKSYD' 'CSXPER' 'CTSDMK' 'CTSDPS' 'CTSHKT' 'CTSJHB' 'CTSKBR' 'CTSKCH'\n",
            " 'CTSKNO' 'CTSLGK' 'CTSMEL' 'CTSMYY' 'CTSOOL' 'CTSPEN' 'CTSPER' 'CTSSGN'\n",
            " 'CTSSIN' 'CTSSUB' 'CTSSYD' 'CTUDPS' 'CTUHKT' 'CTUIKA' 'CTUJHB' 'CTUKBV'\n",
            " 'CTUKCH' 'CTUKNO' 'CTUMAA' 'CTUMEL' 'CTUMRU' 'CTUMYY' 'CTUOOL' 'CTUPEN'\n",
            " 'CTUPER' 'CTUSBW' 'CTUSIN' 'CTUSUB' 'CTUSYD' 'CTUTGG' 'CTUTRZ' 'CTUTWU'\n",
            " 'CXRMEL' 'DACHGH' 'DACHND' 'DACICN' 'DACKIX' 'DACMEL' 'DACOOL' 'DACPER'\n",
            " 'DACSYD' 'DACTPE' 'DADMEL' 'DADOOL' 'DADSYD' 'DELDMK' 'DELDPS' 'DELHKG'\n",
            " 'DELHKT' 'DELHND' 'DELJHB' 'DELJOG' 'DELKBV' 'DELKCH' 'DELKIX' 'DELKNO'\n",
            " 'DELLGK' 'DELMEL' 'DELMFM' 'DELMNL' 'DELMRU' 'DELMYY' 'DELOOL' 'DELPEN'\n",
            " 'DELPER' 'DELPNH' 'DELSBW' 'DELSGN' 'DELSIN' 'DELSUB' 'DELSYD' 'DELSZX'\n",
            " 'DMKHGH' 'DMKHND' 'DMKICN' 'DMKIKA' 'DMKKIX' 'DMKKTM' 'DMKMEL' 'DMKMRU'\n",
            " 'DMKOOL' 'DMKPEK' 'DMKPER' 'DMKPUS' 'DMKPVG' 'DMKSYD' 'DMKTPE' 'DPSHGH'\n",
            " 'DPSHND' 'DPSICN' 'DPSIKA' 'DPSKIX' 'DPSKTM' 'DPSMEL' 'DPSMRU' 'DPSOOL'\n",
            " 'DPSPEK' 'DPSPUS' 'DPSPVG' 'DPSSYD' 'DPSTPE' 'DPSXIY' 'GOIKUL' 'GOIMEL'\n",
            " 'GOIOOL' 'GOIPER' 'GOISYD' 'HANKTM' 'HANMEL' 'HANOOL' 'HANPER' 'HANSYD'\n",
            " 'HDYHGH' 'HDYKTM' 'HDYMEL' 'HDYOOL' 'HDYPEK' 'HDYPER' 'HDYPVG' 'HDYSYD'\n",
            " 'HDYTPE' 'HGHHKT' 'HGHJHB' 'HGHJOG' 'HGHKBR' 'HGHKBV' 'HGHKCH' 'HGHKNO'\n",
            " 'HGHLGK' 'HGHLOP' 'HGHMAA' 'HGHMEL' 'HGHMYY' 'HGHOOL' 'HGHPEN' 'HGHPER'\n",
            " 'HGHSBW' 'HGHSUB' 'HGHSYD' 'HGHTRZ' 'HKGIKA' 'HKGKTM' 'HKGMEL' 'HKGMRU'\n",
            " 'HKGOOL' 'HKGPER' 'HKGSYD' 'HKTHND' 'HKTICN' 'HKTKIX' 'HKTKTM' 'HKTMEL'\n",
            " 'HKTMRU' 'HKTOOL' 'HKTPEK' 'HKTPER' 'HKTPUS' 'HKTPVG' 'HKTSYD' 'HKTTPE'\n",
            " 'HKTXIY' 'HNDIKA' 'HNDJOG' 'HNDKBR' 'HNDKBV' 'HNDKCH' 'HNDKNO' 'HNDKTM'\n",
            " 'HNDLGK' 'HNDLOP' 'HNDMAA' 'HNDMEL' 'HNDMLE' 'HNDOOL' 'HNDPEN' 'HNDPER'\n",
            " 'HNDPNH' 'HNDREP' 'HNDRGN' 'HNDSBW' 'HNDSGN' 'HNDSIN' 'HNDSUB' 'HNDSYD'\n",
            " 'HNDTRZ' 'HYDMEL' 'HYDOOL' 'HYDPER' 'HYDSYD' 'HYDWUH' 'ICNIKA' 'ICNJED'\n",
            " 'ICNJHB' 'ICNKBR' 'ICNKBV' 'ICNKCH' 'ICNKNO' 'ICNKTM' 'ICNLGK' 'ICNMAA'\n",
            " 'ICNMEL' 'ICNMLE' 'ICNMYY' 'ICNOOL' 'ICNPEN' 'ICNPER' 'ICNREP' 'ICNRGN'\n",
            " 'ICNSBW' 'ICNSDK' 'ICNSGN' 'ICNSIN' 'ICNSUB' 'ICNSYD' 'ICNTRZ' 'ICNVTZ'\n",
            " 'IKAKCH' 'IKAKIX' 'IKALOP' 'IKAMEL' 'IKAMFM' 'IKAMNL' 'IKAOOL' 'IKAPEK'\n",
            " 'IKAPEN' 'IKAPER' 'IKAPUS' 'IKAPVG' 'IKASGN' 'IKASIN' 'IKASUB' 'IKASYD'\n",
            " 'IKATPE' 'JEDJOG' 'JEDKNO' 'JEDMEL' 'JEDMNL' 'JEDPDG' 'JEDPEN' 'JEDSUB'\n",
            " 'JHBKIX' 'JHBKTM' 'JHBMEL' 'JHBMRU' 'JHBPEK' 'JHBPUS' 'JHBPVG' 'JHBSYD'\n",
            " 'JHBTPE' 'JHBWUH' 'JHBXIY' 'JOGKIX' 'JOGKTM' 'JOGMEL' 'JOGOOL' 'JOGPER'\n",
            " 'JOGPVG' 'JOGSYD' 'JOGTPE' 'KBRKIX' 'KBRKTM' 'KBRMEL' 'KBROOL' 'KBRPEK'\n",
            " 'KBRPER' 'KBRPVG' 'KBRSYD' 'KBRTPE' 'KBVKTM' 'KBVMEL' 'KBVOOL' 'KBVPEK'\n",
            " 'KBVPER' 'KBVPVG' 'KBVSYD' 'KCHKIX' 'KCHKTM' 'KCHMEL' 'KCHMRU' 'KCHOOL'\n",
            " 'KCHPEK' 'KCHPER' 'KCHPUS' 'KCHPVG' 'KCHSYD' 'KCHTPE' 'KCHXIY' 'KHHMEL'\n",
            " 'KHHOOL' 'KHHPER' 'KHHSYD' 'KIXKNO' 'KIXKTM' 'KIXLGK' 'KIXLOP' 'KIXMAA'\n",
            " 'KIXMEL' 'KIXMLE' 'KIXMYY' 'KIXOOL' 'KIXPEN' 'KIXPER' 'KIXPNH' 'KIXREP'\n",
            " 'KIXRGN' 'KIXSBW' 'KIXSGN' 'KIXSIN' 'KIXSUB' 'KIXSYD' 'KIXTGG' 'KIXTRZ'\n",
            " 'KLOMEL' 'KLOOOL' 'KNOKTM' 'KNOMEL' 'KNOOOL' 'KNOPEK' 'KNOPER' 'KNOPUS'\n",
            " 'KNOPVG' 'KNOSYD' 'KNOTPE' 'KNOXIY' 'KOSMEL' 'KOSOOL' 'KOSPEK' 'KOSSYD'\n",
            " 'KTMMEL' 'KTMMFM' 'KTMMYY' 'KTMPEN' 'KTMPER' 'KTMREP' 'KTMSGN' 'KTMSIN'\n",
            " 'KTMSUB' 'KTMSYD' 'KTMTGG' 'KTMTPE' 'KTMURT' 'KWLPER' 'LBUPER' 'LGKMEL'\n",
            " 'LGKOOL' 'LGKPER' 'LGKPUS' 'LGKPVG' 'LGKSYD' 'LGKTPE' 'LOPOOL' 'LOPPEK'\n",
            " 'LOPPVG' 'LOPSYD' 'LOPTPE' 'LOPXIY' 'LPQMEL' 'LPQOOL' 'LPQPER' 'LPQTPE'\n",
            " 'MAAMEL' 'MAAMRU' 'MAAOOL' 'MAAPER' 'MAAPVG' 'MAASYD' 'MAATPE' 'MAAWUH'\n",
            " 'MELMFM' 'MELMLE' 'MELMNL' 'MELMRU' 'MELMYY' 'MELPEK' 'MELPEN' 'MELPNH'\n",
            " 'MELPUS' 'MELPVG' 'MELREP' 'MELRGN' 'MELSBW' 'MELSGN' 'MELSIN' 'MELSUB'\n",
            " 'MELSWA' 'MELSZX' 'MELTGG' 'MELTPE' 'MELTRZ' 'MELTWU' 'MELURT' 'MELUTP'\n",
            " 'MELVTE' 'MELVTZ' 'MELWUH' 'MELXIY' 'MFMOOL' 'MFMPER' 'MFMSYD' 'MLEPEK'\n",
            " 'MLEPER' 'MLESYD' 'MNLMRU' 'MNLOOL' 'MNLPER' 'MNLSYD' 'MRUOOL' 'MRUPEK'\n",
            " 'MRUPEN' 'MRUPER' 'MRUPVG' 'MRUSGN' 'MRUSIN' 'MRUSUB' 'MRUSYD' 'MRUSZX'\n",
            " 'MYYOOL' 'MYYPER' 'MYYPUS' 'MYYSYD' 'MYYXIY' 'NRTSYD' 'OOLPEK' 'OOLPEN'\n",
            " 'OOLPNH' 'OOLPUS' 'OOLPVG' 'OOLREP' 'OOLRGN' 'OOLSBW' 'OOLSDK' 'OOLSGN'\n",
            " 'OOLSIN' 'OOLSUB' 'OOLSZX' 'OOLTGG' 'OOLTPE' 'OOLTRZ' 'OOLTWU' 'OOLURT'\n",
            " 'OOLUTP' 'OOLVTE' 'OOLWUH' 'OOLXIY' 'PEKPEN' 'PEKPER' 'PEKREP' 'PEKRGN'\n",
            " 'PEKSBW' 'PEKSIN' 'PEKSUB' 'PEKSYD' 'PEKTGG' 'PEKTRZ' 'PEKTWU' 'PENPER'\n",
            " 'PENPUS' 'PENPVG' 'PENSYD' 'PENTPE' 'PENWUH' 'PENXIY' 'PERPNH' 'PERPUS'\n",
            " 'PERPVG' 'PERREP' 'PERRGN' 'PERSBW' 'PERSDK' 'PERSGN' 'PERSIN' 'PERSWA'\n",
            " 'PERSZX' 'PERTGG' 'PERTPE' 'PERTRZ' 'PERTWU' 'PERUTP' 'PERVTE' 'PERVTZ'\n",
            " 'PERWUH' 'PERXIY' 'PNHSYD' 'PNHTPE' 'PNKTPE' 'PUSRGN' 'PUSSBW' 'PUSSGN'\n",
            " 'PUSSIN' 'PUSSUB' 'PUSSYD' 'PUSTRZ' 'PVGREP' 'PVGRGN' 'PVGSIN' 'PVGSUB'\n",
            " 'PVGSYD' 'PVGTGG' 'PVGTWU' 'PVGURT' 'REPSYD' 'REPTPE' 'RGNSYD' 'RGNTPE'\n",
            " 'SBWSYD' 'SBWTPE' 'SBWXIY' 'SDKSYD' 'SGNSYD' 'SGNXIY' 'SINSYD' 'SINTPE'\n",
            " 'SINWUH' 'SINXIY' 'SRGTPE' 'SUBSYD' 'SUBTPE' 'SUBXIY' 'SYDSZX' 'SYDTPE'\n",
            " 'SYDTRZ' 'SYDTWU' 'SYDVTE' 'SYDVTZ' 'SYDXIY' 'TGGTPE' 'TGGXIY' 'TPETRZ'\n",
            " 'TPEVTE' 'TRZWUH' 'TRZXIY' 'TWUXIY' 'HGHSGN' 'ICNTGG' 'JHBOOL' 'KBRXIY'\n",
            " 'KBVTPE' 'KIXTWU' 'LBUTPE' 'PVGSGN' 'SBWWUH' 'DELREP' 'DPSWUH' 'HKGJED'\n",
            " 'KBVKIX' 'KBVPUS' 'KIXLPQ' 'LGKPEK' 'LGKXIY' 'LOPPER' 'PEKSGN' 'PERSUB'\n",
            " 'TPETWU' 'BDOWUH' 'BKIDEL' 'CKGSGN' 'CTUKBR' 'CTULGK' 'CTUREP' 'DACMRU'\n",
            " 'DACPEK' 'DELRGN' 'HDYXIY' 'HGHTGG' 'HKTWUH' 'ICNVTE' 'KBRPUS' 'KCHWUH'\n",
            " 'KLOSYD' 'KNOWUH' 'MLETPE' 'SDKTPE' 'SUBWUH' 'TWUWUH' 'AORPUS' 'BTUCKG'\n",
            " 'BWNWUH' 'CKGKNO' 'CKGLGK' 'CNXDEL' 'CNXPUS' 'CTSJOG' 'CTSSBW' 'CTUDMK'\n",
            " 'CTULOP' 'DELKBR' 'DELURT' 'HDYKIX' 'HGHSIN' 'HGHTWU' 'HYDMRU' 'IKASZX'\n",
            " 'KBVWUH' 'KBVXIY' 'KIXLBU' 'LGKWUH' 'MELNRT' 'MLEOOL' 'MRUTPE' 'TPEURT'\n",
            " 'URTXIY' 'AORPER' 'CKGHKT' 'CKGMRU' 'CNXXIY' 'COKCTS' 'CSXMRU' 'CSXSYD'\n",
            " 'CTUMLE' 'CTUSGN' 'CTUSRG' 'CTUURT' 'DACPUS' 'HGHMRU' 'HKTIKA' 'HKTJED'\n",
            " 'ICNMRU' 'JEDMFM' 'KBRWUH' 'KIXMRU' 'KTMTWU' 'MLEPVG' 'MRUXIY']\n",
            "\n",
            "booking_origin: ['New Zealand' 'India' 'United Kingdom' 'China' 'South Korea' 'Japan'\n",
            " 'Malaysia' 'Singapore' 'Switzerland' 'Germany' 'Indonesia'\n",
            " 'Czech Republic' 'Vietnam' 'Thailand' 'Spain' 'Romania' 'Ireland' 'Italy'\n",
            " 'Slovakia' 'United Arab Emirates' 'Tonga' 'Réunion' '(not set)'\n",
            " 'Saudi Arabia' 'Netherlands' 'Qatar' 'Hong Kong' 'Philippines'\n",
            " 'Sri Lanka' 'France' 'Croatia' 'United States' 'Laos' 'Hungary'\n",
            " 'Portugal' 'Cyprus' 'Australia' 'Cambodia' 'Poland' 'Belgium' 'Oman'\n",
            " 'Bangladesh' 'Kazakhstan' 'Brazil' 'Turkey' 'Kenya' 'Taiwan' 'Brunei'\n",
            " 'Chile' 'Bulgaria' 'Ukraine' 'Denmark' 'Colombia' 'Iran' 'Bahrain'\n",
            " 'Solomon Islands' 'Slovenia' 'Mauritius' 'Nepal' 'Russia' 'Kuwait'\n",
            " 'Mexico' 'Sweden' 'Austria' 'Lebanon' 'Jordan' 'Greece' 'Mongolia'\n",
            " 'Canada' 'Tanzania' 'Peru' 'Timor-Leste' 'Argentina' 'New Caledonia'\n",
            " 'Macau' 'Myanmar (Burma)' 'Norway' 'Panama' 'Bhutan' 'Norfolk Island'\n",
            " 'Finland' 'Nicaragua' 'Maldives' 'Egypt' 'Israel' 'Tunisia'\n",
            " 'South Africa' 'Papua New Guinea' 'Paraguay' 'Estonia' 'Seychelles'\n",
            " 'Afghanistan' 'Guam' 'Czechia' 'Malta' 'Vanuatu' 'Belarus' 'Pakistan'\n",
            " 'Iraq' 'Ghana' 'Gibraltar' 'Guatemala' 'Algeria' 'Svalbard & Jan Mayen']\n",
            "\n"
          ]
        }
      ]
    },
    {
      "cell_type": "code",
      "execution_count": 351,
      "metadata": {
        "colab": {
          "base_uri": "https://localhost:8080/",
          "height": 364
        },
        "id": "fgehfBdSWamf",
        "outputId": "621496ed-60cd-46fc-817b-0c58b396cc5e"
      },
      "outputs": [
        {
          "output_type": "execute_result",
          "data": {
            "text/plain": [
              "       num_passengers  purchase_lead  length_of_stay  flight_hour  \\\n",
              "count    50000.000000   50000.000000     50000.00000  50000.00000   \n",
              "mean         1.591240      84.940480        23.04456      9.06634   \n",
              "std          1.020165      90.451378        33.88767      5.41266   \n",
              "min          1.000000       0.000000         0.00000      0.00000   \n",
              "25%          1.000000      21.000000         5.00000      5.00000   \n",
              "50%          1.000000      51.000000        17.00000      9.00000   \n",
              "75%          2.000000     115.000000        28.00000     13.00000   \n",
              "max          9.000000     867.000000       778.00000     23.00000   \n",
              "\n",
              "       wants_extra_baggage  wants_preferred_seat  wants_in_flight_meals  \\\n",
              "count         50000.000000          50000.000000           50000.000000   \n",
              "mean              0.668780              0.296960               0.427140   \n",
              "std               0.470657              0.456923               0.494668   \n",
              "min               0.000000              0.000000               0.000000   \n",
              "25%               0.000000              0.000000               0.000000   \n",
              "50%               1.000000              0.000000               0.000000   \n",
              "75%               1.000000              1.000000               1.000000   \n",
              "max               1.000000              1.000000               1.000000   \n",
              "\n",
              "       flight_duration  booking_complete  \n",
              "count     50000.000000      50000.000000  \n",
              "mean          7.277561          0.149560  \n",
              "std           1.496863          0.356643  \n",
              "min           4.670000          0.000000  \n",
              "25%           5.620000          0.000000  \n",
              "50%           7.570000          0.000000  \n",
              "75%           8.830000          0.000000  \n",
              "max           9.500000          1.000000  "
            ],
            "text/html": [
              "\n",
              "  <div id=\"df-d0838799-58ba-4d4b-b637-46ddd3644acb\">\n",
              "    <div class=\"colab-df-container\">\n",
              "      <div>\n",
              "<style scoped>\n",
              "    .dataframe tbody tr th:only-of-type {\n",
              "        vertical-align: middle;\n",
              "    }\n",
              "\n",
              "    .dataframe tbody tr th {\n",
              "        vertical-align: top;\n",
              "    }\n",
              "\n",
              "    .dataframe thead th {\n",
              "        text-align: right;\n",
              "    }\n",
              "</style>\n",
              "<table border=\"1\" class=\"dataframe\">\n",
              "  <thead>\n",
              "    <tr style=\"text-align: right;\">\n",
              "      <th></th>\n",
              "      <th>num_passengers</th>\n",
              "      <th>purchase_lead</th>\n",
              "      <th>length_of_stay</th>\n",
              "      <th>flight_hour</th>\n",
              "      <th>wants_extra_baggage</th>\n",
              "      <th>wants_preferred_seat</th>\n",
              "      <th>wants_in_flight_meals</th>\n",
              "      <th>flight_duration</th>\n",
              "      <th>booking_complete</th>\n",
              "    </tr>\n",
              "  </thead>\n",
              "  <tbody>\n",
              "    <tr>\n",
              "      <th>count</th>\n",
              "      <td>50000.000000</td>\n",
              "      <td>50000.000000</td>\n",
              "      <td>50000.00000</td>\n",
              "      <td>50000.00000</td>\n",
              "      <td>50000.000000</td>\n",
              "      <td>50000.000000</td>\n",
              "      <td>50000.000000</td>\n",
              "      <td>50000.000000</td>\n",
              "      <td>50000.000000</td>\n",
              "    </tr>\n",
              "    <tr>\n",
              "      <th>mean</th>\n",
              "      <td>1.591240</td>\n",
              "      <td>84.940480</td>\n",
              "      <td>23.04456</td>\n",
              "      <td>9.06634</td>\n",
              "      <td>0.668780</td>\n",
              "      <td>0.296960</td>\n",
              "      <td>0.427140</td>\n",
              "      <td>7.277561</td>\n",
              "      <td>0.149560</td>\n",
              "    </tr>\n",
              "    <tr>\n",
              "      <th>std</th>\n",
              "      <td>1.020165</td>\n",
              "      <td>90.451378</td>\n",
              "      <td>33.88767</td>\n",
              "      <td>5.41266</td>\n",
              "      <td>0.470657</td>\n",
              "      <td>0.456923</td>\n",
              "      <td>0.494668</td>\n",
              "      <td>1.496863</td>\n",
              "      <td>0.356643</td>\n",
              "    </tr>\n",
              "    <tr>\n",
              "      <th>min</th>\n",
              "      <td>1.000000</td>\n",
              "      <td>0.000000</td>\n",
              "      <td>0.00000</td>\n",
              "      <td>0.00000</td>\n",
              "      <td>0.000000</td>\n",
              "      <td>0.000000</td>\n",
              "      <td>0.000000</td>\n",
              "      <td>4.670000</td>\n",
              "      <td>0.000000</td>\n",
              "    </tr>\n",
              "    <tr>\n",
              "      <th>25%</th>\n",
              "      <td>1.000000</td>\n",
              "      <td>21.000000</td>\n",
              "      <td>5.00000</td>\n",
              "      <td>5.00000</td>\n",
              "      <td>0.000000</td>\n",
              "      <td>0.000000</td>\n",
              "      <td>0.000000</td>\n",
              "      <td>5.620000</td>\n",
              "      <td>0.000000</td>\n",
              "    </tr>\n",
              "    <tr>\n",
              "      <th>50%</th>\n",
              "      <td>1.000000</td>\n",
              "      <td>51.000000</td>\n",
              "      <td>17.00000</td>\n",
              "      <td>9.00000</td>\n",
              "      <td>1.000000</td>\n",
              "      <td>0.000000</td>\n",
              "      <td>0.000000</td>\n",
              "      <td>7.570000</td>\n",
              "      <td>0.000000</td>\n",
              "    </tr>\n",
              "    <tr>\n",
              "      <th>75%</th>\n",
              "      <td>2.000000</td>\n",
              "      <td>115.000000</td>\n",
              "      <td>28.00000</td>\n",
              "      <td>13.00000</td>\n",
              "      <td>1.000000</td>\n",
              "      <td>1.000000</td>\n",
              "      <td>1.000000</td>\n",
              "      <td>8.830000</td>\n",
              "      <td>0.000000</td>\n",
              "    </tr>\n",
              "    <tr>\n",
              "      <th>max</th>\n",
              "      <td>9.000000</td>\n",
              "      <td>867.000000</td>\n",
              "      <td>778.00000</td>\n",
              "      <td>23.00000</td>\n",
              "      <td>1.000000</td>\n",
              "      <td>1.000000</td>\n",
              "      <td>1.000000</td>\n",
              "      <td>9.500000</td>\n",
              "      <td>1.000000</td>\n",
              "    </tr>\n",
              "  </tbody>\n",
              "</table>\n",
              "</div>\n",
              "      <button class=\"colab-df-convert\" onclick=\"convertToInteractive('df-d0838799-58ba-4d4b-b637-46ddd3644acb')\"\n",
              "              title=\"Convert this dataframe to an interactive table.\"\n",
              "              style=\"display:none;\">\n",
              "        \n",
              "  <svg xmlns=\"http://www.w3.org/2000/svg\" height=\"24px\"viewBox=\"0 0 24 24\"\n",
              "       width=\"24px\">\n",
              "    <path d=\"M0 0h24v24H0V0z\" fill=\"none\"/>\n",
              "    <path d=\"M18.56 5.44l.94 2.06.94-2.06 2.06-.94-2.06-.94-.94-2.06-.94 2.06-2.06.94zm-11 1L8.5 8.5l.94-2.06 2.06-.94-2.06-.94L8.5 2.5l-.94 2.06-2.06.94zm10 10l.94 2.06.94-2.06 2.06-.94-2.06-.94-.94-2.06-.94 2.06-2.06.94z\"/><path d=\"M17.41 7.96l-1.37-1.37c-.4-.4-.92-.59-1.43-.59-.52 0-1.04.2-1.43.59L10.3 9.45l-7.72 7.72c-.78.78-.78 2.05 0 2.83L4 21.41c.39.39.9.59 1.41.59.51 0 1.02-.2 1.41-.59l7.78-7.78 2.81-2.81c.8-.78.8-2.07 0-2.86zM5.41 20L4 18.59l7.72-7.72 1.47 1.35L5.41 20z\"/>\n",
              "  </svg>\n",
              "      </button>\n",
              "      \n",
              "  <style>\n",
              "    .colab-df-container {\n",
              "      display:flex;\n",
              "      flex-wrap:wrap;\n",
              "      gap: 12px;\n",
              "    }\n",
              "\n",
              "    .colab-df-convert {\n",
              "      background-color: #E8F0FE;\n",
              "      border: none;\n",
              "      border-radius: 50%;\n",
              "      cursor: pointer;\n",
              "      display: none;\n",
              "      fill: #1967D2;\n",
              "      height: 32px;\n",
              "      padding: 0 0 0 0;\n",
              "      width: 32px;\n",
              "    }\n",
              "\n",
              "    .colab-df-convert:hover {\n",
              "      background-color: #E2EBFA;\n",
              "      box-shadow: 0px 1px 2px rgba(60, 64, 67, 0.3), 0px 1px 3px 1px rgba(60, 64, 67, 0.15);\n",
              "      fill: #174EA6;\n",
              "    }\n",
              "\n",
              "    [theme=dark] .colab-df-convert {\n",
              "      background-color: #3B4455;\n",
              "      fill: #D2E3FC;\n",
              "    }\n",
              "\n",
              "    [theme=dark] .colab-df-convert:hover {\n",
              "      background-color: #434B5C;\n",
              "      box-shadow: 0px 1px 3px 1px rgba(0, 0, 0, 0.15);\n",
              "      filter: drop-shadow(0px 1px 2px rgba(0, 0, 0, 0.3));\n",
              "      fill: #FFFFFF;\n",
              "    }\n",
              "  </style>\n",
              "\n",
              "      <script>\n",
              "        const buttonEl =\n",
              "          document.querySelector('#df-d0838799-58ba-4d4b-b637-46ddd3644acb button.colab-df-convert');\n",
              "        buttonEl.style.display =\n",
              "          google.colab.kernel.accessAllowed ? 'block' : 'none';\n",
              "\n",
              "        async function convertToInteractive(key) {\n",
              "          const element = document.querySelector('#df-d0838799-58ba-4d4b-b637-46ddd3644acb');\n",
              "          const dataTable =\n",
              "            await google.colab.kernel.invokeFunction('convertToInteractive',\n",
              "                                                     [key], {});\n",
              "          if (!dataTable) return;\n",
              "\n",
              "          const docLinkHtml = 'Like what you see? Visit the ' +\n",
              "            '<a target=\"_blank\" href=https://colab.research.google.com/notebooks/data_table.ipynb>data table notebook</a>'\n",
              "            + ' to learn more about interactive tables.';\n",
              "          element.innerHTML = '';\n",
              "          dataTable['output_type'] = 'display_data';\n",
              "          await google.colab.output.renderOutput(dataTable, element);\n",
              "          const docLink = document.createElement('div');\n",
              "          docLink.innerHTML = docLinkHtml;\n",
              "          element.appendChild(docLink);\n",
              "        }\n",
              "      </script>\n",
              "    </div>\n",
              "  </div>\n",
              "  "
            ]
          },
          "metadata": {},
          "execution_count": 351
        }
      ],
      "source": [
        "#Summary of data for numerical data\n",
        "df.describe()"
      ]
    },
    {
      "cell_type": "code",
      "source": [
        "#Summary of data for categorical data\n",
        "df.describe(include='O')"
      ],
      "metadata": {
        "colab": {
          "base_uri": "https://localhost:8080/",
          "height": 174
        },
        "id": "In3kIdUYnZYf",
        "outputId": "ea777fdd-0888-4bef-edab-9fe52a086b1f"
      },
      "execution_count": 352,
      "outputs": [
        {
          "output_type": "execute_result",
          "data": {
            "text/plain": [
              "       sales_channel  trip_type flight_day   route booking_origin\n",
              "count          50000      50000      50000   50000          50000\n",
              "unique             2          3          7     799            104\n",
              "top         Internet  RoundTrip        Mon  AKLKUL      Australia\n",
              "freq           44382      49497       8102    2680          17872"
            ],
            "text/html": [
              "\n",
              "  <div id=\"df-66512ca7-e60c-41a4-a91d-30d847e7586d\">\n",
              "    <div class=\"colab-df-container\">\n",
              "      <div>\n",
              "<style scoped>\n",
              "    .dataframe tbody tr th:only-of-type {\n",
              "        vertical-align: middle;\n",
              "    }\n",
              "\n",
              "    .dataframe tbody tr th {\n",
              "        vertical-align: top;\n",
              "    }\n",
              "\n",
              "    .dataframe thead th {\n",
              "        text-align: right;\n",
              "    }\n",
              "</style>\n",
              "<table border=\"1\" class=\"dataframe\">\n",
              "  <thead>\n",
              "    <tr style=\"text-align: right;\">\n",
              "      <th></th>\n",
              "      <th>sales_channel</th>\n",
              "      <th>trip_type</th>\n",
              "      <th>flight_day</th>\n",
              "      <th>route</th>\n",
              "      <th>booking_origin</th>\n",
              "    </tr>\n",
              "  </thead>\n",
              "  <tbody>\n",
              "    <tr>\n",
              "      <th>count</th>\n",
              "      <td>50000</td>\n",
              "      <td>50000</td>\n",
              "      <td>50000</td>\n",
              "      <td>50000</td>\n",
              "      <td>50000</td>\n",
              "    </tr>\n",
              "    <tr>\n",
              "      <th>unique</th>\n",
              "      <td>2</td>\n",
              "      <td>3</td>\n",
              "      <td>7</td>\n",
              "      <td>799</td>\n",
              "      <td>104</td>\n",
              "    </tr>\n",
              "    <tr>\n",
              "      <th>top</th>\n",
              "      <td>Internet</td>\n",
              "      <td>RoundTrip</td>\n",
              "      <td>Mon</td>\n",
              "      <td>AKLKUL</td>\n",
              "      <td>Australia</td>\n",
              "    </tr>\n",
              "    <tr>\n",
              "      <th>freq</th>\n",
              "      <td>44382</td>\n",
              "      <td>49497</td>\n",
              "      <td>8102</td>\n",
              "      <td>2680</td>\n",
              "      <td>17872</td>\n",
              "    </tr>\n",
              "  </tbody>\n",
              "</table>\n",
              "</div>\n",
              "      <button class=\"colab-df-convert\" onclick=\"convertToInteractive('df-66512ca7-e60c-41a4-a91d-30d847e7586d')\"\n",
              "              title=\"Convert this dataframe to an interactive table.\"\n",
              "              style=\"display:none;\">\n",
              "        \n",
              "  <svg xmlns=\"http://www.w3.org/2000/svg\" height=\"24px\"viewBox=\"0 0 24 24\"\n",
              "       width=\"24px\">\n",
              "    <path d=\"M0 0h24v24H0V0z\" fill=\"none\"/>\n",
              "    <path d=\"M18.56 5.44l.94 2.06.94-2.06 2.06-.94-2.06-.94-.94-2.06-.94 2.06-2.06.94zm-11 1L8.5 8.5l.94-2.06 2.06-.94-2.06-.94L8.5 2.5l-.94 2.06-2.06.94zm10 10l.94 2.06.94-2.06 2.06-.94-2.06-.94-.94-2.06-.94 2.06-2.06.94z\"/><path d=\"M17.41 7.96l-1.37-1.37c-.4-.4-.92-.59-1.43-.59-.52 0-1.04.2-1.43.59L10.3 9.45l-7.72 7.72c-.78.78-.78 2.05 0 2.83L4 21.41c.39.39.9.59 1.41.59.51 0 1.02-.2 1.41-.59l7.78-7.78 2.81-2.81c.8-.78.8-2.07 0-2.86zM5.41 20L4 18.59l7.72-7.72 1.47 1.35L5.41 20z\"/>\n",
              "  </svg>\n",
              "      </button>\n",
              "      \n",
              "  <style>\n",
              "    .colab-df-container {\n",
              "      display:flex;\n",
              "      flex-wrap:wrap;\n",
              "      gap: 12px;\n",
              "    }\n",
              "\n",
              "    .colab-df-convert {\n",
              "      background-color: #E8F0FE;\n",
              "      border: none;\n",
              "      border-radius: 50%;\n",
              "      cursor: pointer;\n",
              "      display: none;\n",
              "      fill: #1967D2;\n",
              "      height: 32px;\n",
              "      padding: 0 0 0 0;\n",
              "      width: 32px;\n",
              "    }\n",
              "\n",
              "    .colab-df-convert:hover {\n",
              "      background-color: #E2EBFA;\n",
              "      box-shadow: 0px 1px 2px rgba(60, 64, 67, 0.3), 0px 1px 3px 1px rgba(60, 64, 67, 0.15);\n",
              "      fill: #174EA6;\n",
              "    }\n",
              "\n",
              "    [theme=dark] .colab-df-convert {\n",
              "      background-color: #3B4455;\n",
              "      fill: #D2E3FC;\n",
              "    }\n",
              "\n",
              "    [theme=dark] .colab-df-convert:hover {\n",
              "      background-color: #434B5C;\n",
              "      box-shadow: 0px 1px 3px 1px rgba(0, 0, 0, 0.15);\n",
              "      filter: drop-shadow(0px 1px 2px rgba(0, 0, 0, 0.3));\n",
              "      fill: #FFFFFF;\n",
              "    }\n",
              "  </style>\n",
              "\n",
              "      <script>\n",
              "        const buttonEl =\n",
              "          document.querySelector('#df-66512ca7-e60c-41a4-a91d-30d847e7586d button.colab-df-convert');\n",
              "        buttonEl.style.display =\n",
              "          google.colab.kernel.accessAllowed ? 'block' : 'none';\n",
              "\n",
              "        async function convertToInteractive(key) {\n",
              "          const element = document.querySelector('#df-66512ca7-e60c-41a4-a91d-30d847e7586d');\n",
              "          const dataTable =\n",
              "            await google.colab.kernel.invokeFunction('convertToInteractive',\n",
              "                                                     [key], {});\n",
              "          if (!dataTable) return;\n",
              "\n",
              "          const docLinkHtml = 'Like what you see? Visit the ' +\n",
              "            '<a target=\"_blank\" href=https://colab.research.google.com/notebooks/data_table.ipynb>data table notebook</a>'\n",
              "            + ' to learn more about interactive tables.';\n",
              "          element.innerHTML = '';\n",
              "          dataTable['output_type'] = 'display_data';\n",
              "          await google.colab.output.renderOutput(dataTable, element);\n",
              "          const docLink = document.createElement('div');\n",
              "          docLink.innerHTML = docLinkHtml;\n",
              "          element.appendChild(docLink);\n",
              "        }\n",
              "      </script>\n",
              "    </div>\n",
              "  </div>\n",
              "  "
            ]
          },
          "metadata": {},
          "execution_count": 352
        }
      ]
    },
    {
      "cell_type": "markdown",
      "metadata": {
        "id": "_NfaqqjZWamg"
      },
      "source": [
        "The `.describe()` method gives us a summary of descriptive statistics over the entire dataset (only works for numeric columns). This gives us a quick overview of a few things such as the mean, min, max and overall distribution of each column.\n",
        "\n",
        "From this point, you should continue exploring the dataset with some visualisations and other metrics that you think may be useful. Then, you should prepare your dataset for predictive modelling. Finally, you should train your machine learning model, evaluate it with performance metrics and output visualisations for the contributing variables. All of this analysis should be summarised in your single slide."
      ]
    },
    {
      "cell_type": "markdown",
      "metadata": {
        "id": "lRUtQzgtWamg"
      },
      "source": []
    },
    {
      "cell_type": "code",
      "source": [
        "#Checking the duplicate data\n",
        "df[df.duplicated()]"
      ],
      "metadata": {
        "colab": {
          "base_uri": "https://localhost:8080/",
          "height": 487
        },
        "id": "UQjOCpQxaEkg",
        "outputId": "5add8bac-8ebc-4ea1-e81b-0afa5180c1f8"
      },
      "execution_count": 353,
      "outputs": [
        {
          "output_type": "execute_result",
          "data": {
            "text/plain": [
              "       num_passengers sales_channel  trip_type  purchase_lead  length_of_stay  \\\n",
              "196                 5      Internet  RoundTrip            206              17   \n",
              "316                 5      Internet  RoundTrip            206              17   \n",
              "384                 5      Internet  RoundTrip            206              17   \n",
              "456                 1      Internet  RoundTrip             30              85   \n",
              "513                 3      Internet  RoundTrip            109              20   \n",
              "...               ...           ...        ...            ...             ...   \n",
              "49852               2      Internet  RoundTrip            204               6   \n",
              "49902               1        Mobile  RoundTrip            106               6   \n",
              "49934               1      Internet  RoundTrip              2               6   \n",
              "49944               1      Internet  RoundTrip              2               6   \n",
              "49961               1      Internet  RoundTrip             30               6   \n",
              "\n",
              "       flight_hour flight_day   route booking_origin  wants_extra_baggage  \\\n",
              "196             13        Sun  AKLKUL       Malaysia                    1   \n",
              "316             13        Sun  AKLKUL       Malaysia                    1   \n",
              "384             13        Sun  AKLKUL       Malaysia                    1   \n",
              "456             15        Fri  AKLKUL       Malaysia                    1   \n",
              "513              4        Tue  AKLKUL      Singapore                    1   \n",
              "...            ...        ...     ...            ...                  ...   \n",
              "49852           14        Tue  PENTPE       Malaysia                    1   \n",
              "49902           11        Fri  PENTPE         Taiwan                    1   \n",
              "49934            3        Thu  PENTPE       Malaysia                    0   \n",
              "49944            3        Thu  PENTPE       Malaysia                    0   \n",
              "49961            7        Thu  PENTPE         Taiwan                    0   \n",
              "\n",
              "       wants_preferred_seat  wants_in_flight_meals  flight_duration  \\\n",
              "196                       0                      0             8.83   \n",
              "316                       0                      0             8.83   \n",
              "384                       0                      0             8.83   \n",
              "456                       0                      0             8.83   \n",
              "513                       0                      1             8.83   \n",
              "...                     ...                    ...              ...   \n",
              "49852                     0                      0             4.67   \n",
              "49902                     0                      0             4.67   \n",
              "49934                     0                      1             4.67   \n",
              "49944                     0                      1             4.67   \n",
              "49961                     0                      0             4.67   \n",
              "\n",
              "       booking_complete  \n",
              "196                   0  \n",
              "316                   0  \n",
              "384                   0  \n",
              "456                   1  \n",
              "513                   0  \n",
              "...                 ...  \n",
              "49852                 0  \n",
              "49902                 0  \n",
              "49934                 0  \n",
              "49944                 0  \n",
              "49961                 0  \n",
              "\n",
              "[719 rows x 14 columns]"
            ],
            "text/html": [
              "\n",
              "  <div id=\"df-c42a9f82-5a25-4aed-8141-d1935ed86865\">\n",
              "    <div class=\"colab-df-container\">\n",
              "      <div>\n",
              "<style scoped>\n",
              "    .dataframe tbody tr th:only-of-type {\n",
              "        vertical-align: middle;\n",
              "    }\n",
              "\n",
              "    .dataframe tbody tr th {\n",
              "        vertical-align: top;\n",
              "    }\n",
              "\n",
              "    .dataframe thead th {\n",
              "        text-align: right;\n",
              "    }\n",
              "</style>\n",
              "<table border=\"1\" class=\"dataframe\">\n",
              "  <thead>\n",
              "    <tr style=\"text-align: right;\">\n",
              "      <th></th>\n",
              "      <th>num_passengers</th>\n",
              "      <th>sales_channel</th>\n",
              "      <th>trip_type</th>\n",
              "      <th>purchase_lead</th>\n",
              "      <th>length_of_stay</th>\n",
              "      <th>flight_hour</th>\n",
              "      <th>flight_day</th>\n",
              "      <th>route</th>\n",
              "      <th>booking_origin</th>\n",
              "      <th>wants_extra_baggage</th>\n",
              "      <th>wants_preferred_seat</th>\n",
              "      <th>wants_in_flight_meals</th>\n",
              "      <th>flight_duration</th>\n",
              "      <th>booking_complete</th>\n",
              "    </tr>\n",
              "  </thead>\n",
              "  <tbody>\n",
              "    <tr>\n",
              "      <th>196</th>\n",
              "      <td>5</td>\n",
              "      <td>Internet</td>\n",
              "      <td>RoundTrip</td>\n",
              "      <td>206</td>\n",
              "      <td>17</td>\n",
              "      <td>13</td>\n",
              "      <td>Sun</td>\n",
              "      <td>AKLKUL</td>\n",
              "      <td>Malaysia</td>\n",
              "      <td>1</td>\n",
              "      <td>0</td>\n",
              "      <td>0</td>\n",
              "      <td>8.83</td>\n",
              "      <td>0</td>\n",
              "    </tr>\n",
              "    <tr>\n",
              "      <th>316</th>\n",
              "      <td>5</td>\n",
              "      <td>Internet</td>\n",
              "      <td>RoundTrip</td>\n",
              "      <td>206</td>\n",
              "      <td>17</td>\n",
              "      <td>13</td>\n",
              "      <td>Sun</td>\n",
              "      <td>AKLKUL</td>\n",
              "      <td>Malaysia</td>\n",
              "      <td>1</td>\n",
              "      <td>0</td>\n",
              "      <td>0</td>\n",
              "      <td>8.83</td>\n",
              "      <td>0</td>\n",
              "    </tr>\n",
              "    <tr>\n",
              "      <th>384</th>\n",
              "      <td>5</td>\n",
              "      <td>Internet</td>\n",
              "      <td>RoundTrip</td>\n",
              "      <td>206</td>\n",
              "      <td>17</td>\n",
              "      <td>13</td>\n",
              "      <td>Sun</td>\n",
              "      <td>AKLKUL</td>\n",
              "      <td>Malaysia</td>\n",
              "      <td>1</td>\n",
              "      <td>0</td>\n",
              "      <td>0</td>\n",
              "      <td>8.83</td>\n",
              "      <td>0</td>\n",
              "    </tr>\n",
              "    <tr>\n",
              "      <th>456</th>\n",
              "      <td>1</td>\n",
              "      <td>Internet</td>\n",
              "      <td>RoundTrip</td>\n",
              "      <td>30</td>\n",
              "      <td>85</td>\n",
              "      <td>15</td>\n",
              "      <td>Fri</td>\n",
              "      <td>AKLKUL</td>\n",
              "      <td>Malaysia</td>\n",
              "      <td>1</td>\n",
              "      <td>0</td>\n",
              "      <td>0</td>\n",
              "      <td>8.83</td>\n",
              "      <td>1</td>\n",
              "    </tr>\n",
              "    <tr>\n",
              "      <th>513</th>\n",
              "      <td>3</td>\n",
              "      <td>Internet</td>\n",
              "      <td>RoundTrip</td>\n",
              "      <td>109</td>\n",
              "      <td>20</td>\n",
              "      <td>4</td>\n",
              "      <td>Tue</td>\n",
              "      <td>AKLKUL</td>\n",
              "      <td>Singapore</td>\n",
              "      <td>1</td>\n",
              "      <td>0</td>\n",
              "      <td>1</td>\n",
              "      <td>8.83</td>\n",
              "      <td>0</td>\n",
              "    </tr>\n",
              "    <tr>\n",
              "      <th>...</th>\n",
              "      <td>...</td>\n",
              "      <td>...</td>\n",
              "      <td>...</td>\n",
              "      <td>...</td>\n",
              "      <td>...</td>\n",
              "      <td>...</td>\n",
              "      <td>...</td>\n",
              "      <td>...</td>\n",
              "      <td>...</td>\n",
              "      <td>...</td>\n",
              "      <td>...</td>\n",
              "      <td>...</td>\n",
              "      <td>...</td>\n",
              "      <td>...</td>\n",
              "    </tr>\n",
              "    <tr>\n",
              "      <th>49852</th>\n",
              "      <td>2</td>\n",
              "      <td>Internet</td>\n",
              "      <td>RoundTrip</td>\n",
              "      <td>204</td>\n",
              "      <td>6</td>\n",
              "      <td>14</td>\n",
              "      <td>Tue</td>\n",
              "      <td>PENTPE</td>\n",
              "      <td>Malaysia</td>\n",
              "      <td>1</td>\n",
              "      <td>0</td>\n",
              "      <td>0</td>\n",
              "      <td>4.67</td>\n",
              "      <td>0</td>\n",
              "    </tr>\n",
              "    <tr>\n",
              "      <th>49902</th>\n",
              "      <td>1</td>\n",
              "      <td>Mobile</td>\n",
              "      <td>RoundTrip</td>\n",
              "      <td>106</td>\n",
              "      <td>6</td>\n",
              "      <td>11</td>\n",
              "      <td>Fri</td>\n",
              "      <td>PENTPE</td>\n",
              "      <td>Taiwan</td>\n",
              "      <td>1</td>\n",
              "      <td>0</td>\n",
              "      <td>0</td>\n",
              "      <td>4.67</td>\n",
              "      <td>0</td>\n",
              "    </tr>\n",
              "    <tr>\n",
              "      <th>49934</th>\n",
              "      <td>1</td>\n",
              "      <td>Internet</td>\n",
              "      <td>RoundTrip</td>\n",
              "      <td>2</td>\n",
              "      <td>6</td>\n",
              "      <td>3</td>\n",
              "      <td>Thu</td>\n",
              "      <td>PENTPE</td>\n",
              "      <td>Malaysia</td>\n",
              "      <td>0</td>\n",
              "      <td>0</td>\n",
              "      <td>1</td>\n",
              "      <td>4.67</td>\n",
              "      <td>0</td>\n",
              "    </tr>\n",
              "    <tr>\n",
              "      <th>49944</th>\n",
              "      <td>1</td>\n",
              "      <td>Internet</td>\n",
              "      <td>RoundTrip</td>\n",
              "      <td>2</td>\n",
              "      <td>6</td>\n",
              "      <td>3</td>\n",
              "      <td>Thu</td>\n",
              "      <td>PENTPE</td>\n",
              "      <td>Malaysia</td>\n",
              "      <td>0</td>\n",
              "      <td>0</td>\n",
              "      <td>1</td>\n",
              "      <td>4.67</td>\n",
              "      <td>0</td>\n",
              "    </tr>\n",
              "    <tr>\n",
              "      <th>49961</th>\n",
              "      <td>1</td>\n",
              "      <td>Internet</td>\n",
              "      <td>RoundTrip</td>\n",
              "      <td>30</td>\n",
              "      <td>6</td>\n",
              "      <td>7</td>\n",
              "      <td>Thu</td>\n",
              "      <td>PENTPE</td>\n",
              "      <td>Taiwan</td>\n",
              "      <td>0</td>\n",
              "      <td>0</td>\n",
              "      <td>0</td>\n",
              "      <td>4.67</td>\n",
              "      <td>0</td>\n",
              "    </tr>\n",
              "  </tbody>\n",
              "</table>\n",
              "<p>719 rows × 14 columns</p>\n",
              "</div>\n",
              "      <button class=\"colab-df-convert\" onclick=\"convertToInteractive('df-c42a9f82-5a25-4aed-8141-d1935ed86865')\"\n",
              "              title=\"Convert this dataframe to an interactive table.\"\n",
              "              style=\"display:none;\">\n",
              "        \n",
              "  <svg xmlns=\"http://www.w3.org/2000/svg\" height=\"24px\"viewBox=\"0 0 24 24\"\n",
              "       width=\"24px\">\n",
              "    <path d=\"M0 0h24v24H0V0z\" fill=\"none\"/>\n",
              "    <path d=\"M18.56 5.44l.94 2.06.94-2.06 2.06-.94-2.06-.94-.94-2.06-.94 2.06-2.06.94zm-11 1L8.5 8.5l.94-2.06 2.06-.94-2.06-.94L8.5 2.5l-.94 2.06-2.06.94zm10 10l.94 2.06.94-2.06 2.06-.94-2.06-.94-.94-2.06-.94 2.06-2.06.94z\"/><path d=\"M17.41 7.96l-1.37-1.37c-.4-.4-.92-.59-1.43-.59-.52 0-1.04.2-1.43.59L10.3 9.45l-7.72 7.72c-.78.78-.78 2.05 0 2.83L4 21.41c.39.39.9.59 1.41.59.51 0 1.02-.2 1.41-.59l7.78-7.78 2.81-2.81c.8-.78.8-2.07 0-2.86zM5.41 20L4 18.59l7.72-7.72 1.47 1.35L5.41 20z\"/>\n",
              "  </svg>\n",
              "      </button>\n",
              "      \n",
              "  <style>\n",
              "    .colab-df-container {\n",
              "      display:flex;\n",
              "      flex-wrap:wrap;\n",
              "      gap: 12px;\n",
              "    }\n",
              "\n",
              "    .colab-df-convert {\n",
              "      background-color: #E8F0FE;\n",
              "      border: none;\n",
              "      border-radius: 50%;\n",
              "      cursor: pointer;\n",
              "      display: none;\n",
              "      fill: #1967D2;\n",
              "      height: 32px;\n",
              "      padding: 0 0 0 0;\n",
              "      width: 32px;\n",
              "    }\n",
              "\n",
              "    .colab-df-convert:hover {\n",
              "      background-color: #E2EBFA;\n",
              "      box-shadow: 0px 1px 2px rgba(60, 64, 67, 0.3), 0px 1px 3px 1px rgba(60, 64, 67, 0.15);\n",
              "      fill: #174EA6;\n",
              "    }\n",
              "\n",
              "    [theme=dark] .colab-df-convert {\n",
              "      background-color: #3B4455;\n",
              "      fill: #D2E3FC;\n",
              "    }\n",
              "\n",
              "    [theme=dark] .colab-df-convert:hover {\n",
              "      background-color: #434B5C;\n",
              "      box-shadow: 0px 1px 3px 1px rgba(0, 0, 0, 0.15);\n",
              "      filter: drop-shadow(0px 1px 2px rgba(0, 0, 0, 0.3));\n",
              "      fill: #FFFFFF;\n",
              "    }\n",
              "  </style>\n",
              "\n",
              "      <script>\n",
              "        const buttonEl =\n",
              "          document.querySelector('#df-c42a9f82-5a25-4aed-8141-d1935ed86865 button.colab-df-convert');\n",
              "        buttonEl.style.display =\n",
              "          google.colab.kernel.accessAllowed ? 'block' : 'none';\n",
              "\n",
              "        async function convertToInteractive(key) {\n",
              "          const element = document.querySelector('#df-c42a9f82-5a25-4aed-8141-d1935ed86865');\n",
              "          const dataTable =\n",
              "            await google.colab.kernel.invokeFunction('convertToInteractive',\n",
              "                                                     [key], {});\n",
              "          if (!dataTable) return;\n",
              "\n",
              "          const docLinkHtml = 'Like what you see? Visit the ' +\n",
              "            '<a target=\"_blank\" href=https://colab.research.google.com/notebooks/data_table.ipynb>data table notebook</a>'\n",
              "            + ' to learn more about interactive tables.';\n",
              "          element.innerHTML = '';\n",
              "          dataTable['output_type'] = 'display_data';\n",
              "          await google.colab.output.renderOutput(dataTable, element);\n",
              "          const docLink = document.createElement('div');\n",
              "          docLink.innerHTML = docLinkHtml;\n",
              "          element.appendChild(docLink);\n",
              "        }\n",
              "      </script>\n",
              "    </div>\n",
              "  </div>\n",
              "  "
            ]
          },
          "metadata": {},
          "execution_count": 353
        }
      ]
    },
    {
      "cell_type": "code",
      "source": [
        "#Dropping the duplicate data\n",
        "df.drop_duplicates(inplace=True, ignore_index=True)"
      ],
      "metadata": {
        "id": "tupVzvycaEh2"
      },
      "execution_count": 354,
      "outputs": []
    },
    {
      "cell_type": "code",
      "source": [
        "#Checking the target column count\n",
        "df.booking_complete.value_counts()"
      ],
      "metadata": {
        "colab": {
          "base_uri": "https://localhost:8080/"
        },
        "id": "8cQZXwuhaEWD",
        "outputId": "1a795d10-25cd-4ddd-8caa-fb08c0957183"
      },
      "execution_count": 355,
      "outputs": [
        {
          "output_type": "execute_result",
          "data": {
            "text/plain": [
              "0    41890\n",
              "1     7391\n",
              "Name: booking_complete, dtype: int64"
            ]
          },
          "metadata": {},
          "execution_count": 355
        }
      ]
    },
    {
      "cell_type": "code",
      "source": [
        "#Checking the top 30 coutries & their count\n",
        "df.booking_origin.value_counts().head(30)"
      ],
      "metadata": {
        "colab": {
          "base_uri": "https://localhost:8080/"
        },
        "id": "1dXjH_bzhzkH",
        "outputId": "6583e97b-e7d7-4667-ddb3-b935fcfdafa2"
      },
      "execution_count": 356,
      "outputs": [
        {
          "output_type": "execute_result",
          "data": {
            "text/plain": [
              "Australia               17691\n",
              "Malaysia                 7055\n",
              "South Korea              4502\n",
              "Japan                    3819\n",
              "China                    3284\n",
              "Indonesia                2317\n",
              "Taiwan                   2042\n",
              "Thailand                 1993\n",
              "India                    1258\n",
              "New Zealand              1060\n",
              "Singapore                1034\n",
              "United States             453\n",
              "Vietnam                   386\n",
              "Macau                     301\n",
              "Hong Kong                 294\n",
              "Philippines               265\n",
              "United Kingdom            173\n",
              "Brunei                    161\n",
              "Cambodia                  131\n",
              "(not set)                  78\n",
              "Sri Lanka                  73\n",
              "Italy                      58\n",
              "France                     58\n",
              "Canada                     57\n",
              "Germany                    54\n",
              "Myanmar (Burma)            51\n",
              "Netherlands                45\n",
              "Mauritius                  43\n",
              "United Arab Emirates       42\n",
              "Nepal                      39\n",
              "Name: booking_origin, dtype: int64"
            ]
          },
          "metadata": {},
          "execution_count": 356
        }
      ]
    },
    {
      "cell_type": "code",
      "source": [
        "#Checking the sales_channel count\n",
        "df.sales_channel.value_counts().head(30)"
      ],
      "metadata": {
        "colab": {
          "base_uri": "https://localhost:8080/"
        },
        "id": "mgw-_vTuaEL5",
        "outputId": "5b753115-986d-4b42-f4f6-bfd11f6ef4ac"
      },
      "execution_count": 357,
      "outputs": [
        {
          "output_type": "execute_result",
          "data": {
            "text/plain": [
              "Internet    43917\n",
              "Mobile       5364\n",
              "Name: sales_channel, dtype: int64"
            ]
          },
          "metadata": {},
          "execution_count": 357
        }
      ]
    },
    {
      "cell_type": "code",
      "source": [
        "#Checking the count of trip_type\n",
        "df.trip_type.value_counts()"
      ],
      "metadata": {
        "colab": {
          "base_uri": "https://localhost:8080/"
        },
        "id": "U1KoIA_LaEHz",
        "outputId": "91224519-250e-4f56-c36b-811be72bcfdd"
      },
      "execution_count": 358,
      "outputs": [
        {
          "output_type": "execute_result",
          "data": {
            "text/plain": [
              "RoundTrip     48779\n",
              "OneWay          386\n",
              "CircleTrip      116\n",
              "Name: trip_type, dtype: int64"
            ]
          },
          "metadata": {},
          "execution_count": 358
        }
      ]
    },
    {
      "cell_type": "code",
      "source": [
        "#Checking the count of flight_days\n",
        "df.flight_day.value_counts()"
      ],
      "metadata": {
        "colab": {
          "base_uri": "https://localhost:8080/"
        },
        "id": "JFKLF-cbaEFb",
        "outputId": "eedc6580-1398-4f60-d6d3-33dcba695860"
      },
      "execution_count": 359,
      "outputs": [
        {
          "output_type": "execute_result",
          "data": {
            "text/plain": [
              "Mon    7988\n",
              "Wed    7562\n",
              "Tue    7558\n",
              "Thu    7323\n",
              "Fri    6685\n",
              "Sun    6442\n",
              "Sat    5723\n",
              "Name: flight_day, dtype: int64"
            ]
          },
          "metadata": {},
          "execution_count": 359
        }
      ]
    },
    {
      "cell_type": "code",
      "source": [
        "#Visualising the sales_channel by booking status\n",
        "plt.figure(figsize=(8,5))\n",
        "ax = sns.countplot(x='booking_complete', data=df, hue='sales_channel', palette='RdBu')\n",
        "for i in ax.containers:\n",
        "    ax.bar_label(i)\n",
        "plt.title('Booking by sales channel')\n",
        "plt.xticks(ticks = [0,1], labels=['No', 'Yes'])\n",
        "plt.show()\n",
        "\n"
      ],
      "metadata": {
        "colab": {
          "base_uri": "https://localhost:8080/",
          "height": 351
        },
        "id": "D16itipDOwVq",
        "outputId": "f783db66-09d6-4f57-8b59-a9e79276f478"
      },
      "execution_count": 360,
      "outputs": [
        {
          "output_type": "display_data",
          "data": {
            "text/plain": [
              "<Figure size 576x360 with 1 Axes>"
            ],
            "image/png": "[encoded data removed]"
          },
          "metadata": {
            "needs_background": "light"
          }
        }
      ]
    },
    {
      "cell_type": "code",
      "source": [
        "len(df[df['sales_channel']=='Internet']['booking_complete'])"
      ],
      "metadata": {
        "colab": {
          "base_uri": "https://localhost:8080/"
        },
        "id": "ilJzgGcsSSDS",
        "outputId": "bf651eff-7cf1-4a3b-aed6-26009f796d6e"
      },
      "execution_count": 361,
      "outputs": [
        {
          "output_type": "execute_result",
          "data": {
            "text/plain": [
              "43917"
            ]
          },
          "metadata": {},
          "execution_count": 361
        }
      ]
    },
    {
      "cell_type": "code",
      "source": [
        "len(df[(df['sales_channel']=='Internet') & (df['booking_complete']==1)])"
      ],
      "metadata": {
        "colab": {
          "base_uri": "https://localhost:8080/"
        },
        "id": "_JYaHG6rOwN9",
        "outputId": "1e2c37dd-5e75-49b7-be8a-66307389ba18"
      },
      "execution_count": 362,
      "outputs": [
        {
          "output_type": "execute_result",
          "data": {
            "text/plain": [
              "6802"
            ]
          },
          "metadata": {},
          "execution_count": 362
        }
      ]
    },
    {
      "cell_type": "code",
      "source": [
        "len(df[(df['sales_channel']=='Internet') & (df['booking_complete']!=1)])"
      ],
      "metadata": {
        "colab": {
          "base_uri": "https://localhost:8080/"
        },
        "id": "bwmMFMrXS66i",
        "outputId": "853556c8-ca01-4089-ce83-1cd659c15b98"
      },
      "execution_count": 363,
      "outputs": [
        {
          "output_type": "execute_result",
          "data": {
            "text/plain": [
              "37115"
            ]
          },
          "metadata": {},
          "execution_count": 363
        }
      ]
    },
    {
      "cell_type": "code",
      "source": [
        "len(df[df['sales_channel']=='Mobile']['booking_complete'])"
      ],
      "metadata": {
        "colab": {
          "base_uri": "https://localhost:8080/"
        },
        "id": "cirn2X3MTCvg",
        "outputId": "363fbdef-6296-437d-9325-3f11542fef88"
      },
      "execution_count": 364,
      "outputs": [
        {
          "output_type": "execute_result",
          "data": {
            "text/plain": [
              "5364"
            ]
          },
          "metadata": {},
          "execution_count": 364
        }
      ]
    },
    {
      "cell_type": "code",
      "source": [
        "len(df[(df['sales_channel']=='Mobile') & (df['booking_complete']!=1)])"
      ],
      "metadata": {
        "colab": {
          "base_uri": "https://localhost:8080/"
        },
        "id": "WYgp3qXtTCqh",
        "outputId": "f193098f-8bea-48e2-b621-0d0d49d65e09"
      },
      "execution_count": 365,
      "outputs": [
        {
          "output_type": "execute_result",
          "data": {
            "text/plain": [
              "4775"
            ]
          },
          "metadata": {},
          "execution_count": 365
        }
      ]
    },
    {
      "cell_type": "code",
      "source": [
        "len(df[(df['sales_channel']=='Mobile') & (df['booking_complete']==1)])"
      ],
      "metadata": {
        "colab": {
          "base_uri": "https://localhost:8080/"
        },
        "id": "kKiUygDUTIPW",
        "outputId": "3502e889-f150-44ee-de6b-4343bae8ce3f"
      },
      "execution_count": 366,
      "outputs": [
        {
          "output_type": "execute_result",
          "data": {
            "text/plain": [
              "589"
            ]
          },
          "metadata": {},
          "execution_count": 366
        }
      ]
    },
    {
      "cell_type": "code",
      "source": [
        "#Visualising the trip_type by booking status\n",
        "plt.figure(figsize=(8,5))\n",
        "ax = sns.countplot(x='booking_complete', data=df, hue='trip_type', palette='crest')\n",
        "for i in ax.containers:\n",
        "    ax.bar_label(i)\n",
        "plt.title('Booking by trip type')\n",
        "plt.xticks(ticks = [0,1], labels=['No', 'Yes'])\n",
        "plt.show()\n"
      ],
      "metadata": {
        "colab": {
          "base_uri": "https://localhost:8080/",
          "height": 351
        },
        "id": "hwpcfhubTN6L",
        "outputId": "83a5ef70-bd4e-47ce-e34a-fe92dd415254"
      },
      "execution_count": 367,
      "outputs": [
        {
          "output_type": "display_data",
          "data": {
            "text/plain": [
              "<Figure size 576x360 with 1 Axes>"
            ],
            "image/png": "[encoded data removed]"
          },
          "metadata": {
            "needs_background": "light"
          }
        }
      ]
    },
    {
      "cell_type": "code",
      "source": [
        "#Visualising the flight_days by booking status\n",
        "plt.figure(figsize=(9,7))\n",
        "ax = sns.countplot(x='flight_day', data=df, hue='booking_complete', palette=['red', 'green'],\n",
        "                   order=['Mon', 'Tue', 'Wed', 'Thu', 'Fri', 'Sat', 'Sun'])\n",
        "for i in ax.containers:\n",
        "    ax.bar_label(i)\n",
        "plt.title('Booking by days')\n",
        "plt.legend(['Not Booked', 'Booked'])\n",
        "plt.show()"
      ],
      "metadata": {
        "colab": {
          "base_uri": "https://localhost:8080/",
          "height": 459
        },
        "id": "qN_gBxX-UIOX",
        "outputId": "e29fcb52-2e6a-473e-d96a-1b14289f947c"
      },
      "execution_count": 368,
      "outputs": [
        {
          "output_type": "display_data",
          "data": {
            "text/plain": [
              "<Figure size 648x504 with 1 Axes>"
            ],
            "image/png": "[encoded data removed]"
          },
          "metadata": {
            "needs_background": "light"
          }
        }
      ]
    },
    {
      "cell_type": "code",
      "source": [
        "#Visualising the no. of passengers_travel by booking status\n",
        "plt.figure(figsize=(9,7))\n",
        "ax = sns.countplot(x='num_passengers', data=df, hue='booking_complete', palette=['red', 'green'],\n",
        "                   )\n",
        "#for i in ax.containers:\n",
        "#    ax.bar_label(i)\n",
        "plt.title('Booking for no. of passengers')\n",
        "plt.legend(['Not Booked', 'Booked'])\n",
        "plt.show()"
      ],
      "metadata": {
        "colab": {
          "base_uri": "https://localhost:8080/",
          "height": 458
        },
        "id": "NTskCB9AUH-L",
        "outputId": "e0dff0fb-cf30-4c3f-d799-285de3009a23"
      },
      "execution_count": 369,
      "outputs": [
        {
          "output_type": "display_data",
          "data": {
            "text/plain": [
              "<Figure size 648x504 with 1 Axes>"
            ],
            "image/png": "[encoded data removed]"
          },
          "metadata": {
            "needs_background": "light"
          }
        }
      ]
    },
    {
      "cell_type": "code",
      "source": [
        "#Checking the distribution of data\n",
        "coln = ['flight_duration', 'flight_hour', 'length_of_stay', 'purchase_lead'\n",
        "        ,'num_passengers']\n",
        "\n",
        "for i in coln:\n",
        "    df.hist(i)\n",
        "    plt.title(i)\n",
        "    plt.show()\n"
      ],
      "metadata": {
        "colab": {
          "base_uri": "https://localhost:8080/",
          "height": 1000
        },
        "id": "vqXTzEVAtAQ-",
        "outputId": "0941eaa6-a56c-4f82-f59f-7978e41abd93"
      },
      "execution_count": 370,
      "outputs": [
        {
          "output_type": "display_data",
          "data": {
            "text/plain": [
              "<Figure size 432x288 with 1 Axes>"
            ],
            "image/png": "[encoded data removed]"
          },
          "metadata": {
            "needs_background": "light"
          }
        },
        {
          "output_type": "display_data",
          "data": {
            "text/plain": [
              "<Figure size 432x288 with 1 Axes>"
            ],
            "image/png": "[encoded data removed]"
          },
          "metadata": {
            "needs_background": "light"
          }
        },
        {
          "output_type": "display_data",
          "data": {
            "text/plain": [
              "<Figure size 432x288 with 1 Axes>"
            ],
            "image/png": "[encoded data removed]"
          },
          "metadata": {
            "needs_background": "light"
          }
        },
        {
          "output_type": "display_data",
          "data": {
            "text/plain": [
              "<Figure size 432x288 with 1 Axes>"
            ],
            "image/png": "[encoded data removed]"
          },
          "metadata": {
            "needs_background": "light"
          }
        },
        {
          "output_type": "display_data",
          "data": {
            "text/plain": [
              "<Figure size 432x288 with 1 Axes>"
            ],
            "image/png": "[encoded data removed]"
          },
          "metadata": {
            "needs_background": "light"
          }
        }
      ]
    },
    {
      "cell_type": "code",
      "execution_count": 371,
      "metadata": {
        "id": "8n9WHGpJWamY"
      },
      "outputs": [],
      "source": [
        "#Encoding the column values\n",
        "day = {\n",
        "    \"Mon\": 1,\n",
        "    \"Tue\": 2,\n",
        "    \"Wed\": 3,\n",
        "    \"Thu\": 4,\n",
        "    \"Fri\": 5,\n",
        "    \"Sat\": 6,\n",
        "    \"Sun\": 7}\n",
        "\n",
        "sales = {'Internet': 1, 'Mobile':0}\n",
        "\n",
        "df[\"sales_channel\"] = df[\"sales_channel\"].map(sales)\n",
        "df[\"flight_day\"] = df[\"flight_day\"].map(day)"
      ]
    },
    {
      "cell_type": "code",
      "source": [
        "#Dropping unnecessary columns\n",
        "df.drop(['route', 'booking_origin'], inplace=True, axis=1)"
      ],
      "metadata": {
        "id": "zBPo9lkZaEYb"
      },
      "execution_count": 372,
      "outputs": []
    },
    {
      "cell_type": "code",
      "source": [
        "#Encoding the categorical column\n",
        "df = pd.get_dummies(data=df, columns=['trip_type'])\n",
        "df"
      ],
      "metadata": {
        "colab": {
          "base_uri": "https://localhost:8080/",
          "height": 487
        },
        "id": "EbHNDz-LaD-R",
        "outputId": "a1785120-2678-4a7c-cc37-e7112f983c55"
      },
      "execution_count": 373,
      "outputs": [
        {
          "output_type": "execute_result",
          "data": {
            "text/plain": [
              "       num_passengers  sales_channel  purchase_lead  length_of_stay  \\\n",
              "0                   2              1            262              19   \n",
              "1                   1              1            112              20   \n",
              "2                   2              1            243              22   \n",
              "3                   1              1             96              31   \n",
              "4                   2              1             68              22   \n",
              "...               ...            ...            ...             ...   \n",
              "49276               2              1             27               6   \n",
              "49277               1              1            111               6   \n",
              "49278               1              1             24               6   \n",
              "49279               1              1             15               6   \n",
              "49280               1              1             19               6   \n",
              "\n",
              "       flight_hour  flight_day  wants_extra_baggage  wants_preferred_seat  \\\n",
              "0                7           6                    1                     0   \n",
              "1                3           6                    0                     0   \n",
              "2               17           3                    1                     1   \n",
              "3                4           6                    0                     0   \n",
              "4               15           3                    1                     0   \n",
              "...            ...         ...                  ...                   ...   \n",
              "49276            9           6                    1                     0   \n",
              "49277            4           7                    0                     0   \n",
              "49278           22           6                    0                     0   \n",
              "49279           11           1                    1                     0   \n",
              "49280           10           4                    0                     1   \n",
              "\n",
              "       wants_in_flight_meals  flight_duration  booking_complete  \\\n",
              "0                          0             5.52                 0   \n",
              "1                          0             5.52                 0   \n",
              "2                          0             5.52                 0   \n",
              "3                          1             5.52                 0   \n",
              "4                          1             5.52                 0   \n",
              "...                      ...              ...               ...   \n",
              "49276                      1             5.62                 0   \n",
              "49277                      0             5.62                 0   \n",
              "49278                      1             5.62                 0   \n",
              "49279                      1             5.62                 0   \n",
              "49280                      0             5.62                 0   \n",
              "\n",
              "       trip_type_CircleTrip  trip_type_OneWay  trip_type_RoundTrip  \n",
              "0                         0                 0                    1  \n",
              "1                         0                 0                    1  \n",
              "2                         0                 0                    1  \n",
              "3                         0                 0                    1  \n",
              "4                         0                 0                    1  \n",
              "...                     ...               ...                  ...  \n",
              "49276                     0                 0                    1  \n",
              "49277                     0                 0                    1  \n",
              "49278                     0                 0                    1  \n",
              "49279                     0                 0                    1  \n",
              "49280                     0                 0                    1  \n",
              "\n",
              "[49281 rows x 14 columns]"
            ],
            "text/html": [
              "\n",
              "  <div id=\"df-b8ac3c08-06c5-4353-b79a-3c2e645d4bf8\">\n",
              "    <div class=\"colab-df-container\">\n",
              "      <div>\n",
              "<style scoped>\n",
              "    .dataframe tbody tr th:only-of-type {\n",
              "        vertical-align: middle;\n",
              "    }\n",
              "\n",
              "    .dataframe tbody tr th {\n",
              "        vertical-align: top;\n",
              "    }\n",
              "\n",
              "    .dataframe thead th {\n",
              "        text-align: right;\n",
              "    }\n",
              "</style>\n",
              "<table border=\"1\" class=\"dataframe\">\n",
              "  <thead>\n",
              "    <tr style=\"text-align: right;\">\n",
              "      <th></th>\n",
              "      <th>num_passengers</th>\n",
              "      <th>sales_channel</th>\n",
              "      <th>purchase_lead</th>\n",
              "      <th>length_of_stay</th>\n",
              "      <th>flight_hour</th>\n",
              "      <th>flight_day</th>\n",
              "      <th>wants_extra_baggage</th>\n",
              "      <th>wants_preferred_seat</th>\n",
              "      <th>wants_in_flight_meals</th>\n",
              "      <th>flight_duration</th>\n",
              "      <th>booking_complete</th>\n",
              "      <th>trip_type_CircleTrip</th>\n",
              "      <th>trip_type_OneWay</th>\n",
              "      <th>trip_type_RoundTrip</th>\n",
              "    </tr>\n",
              "  </thead>\n",
              "  <tbody>\n",
              "    <tr>\n",
              "      <th>0</th>\n",
              "      <td>2</td>\n",
              "      <td>1</td>\n",
              "      <td>262</td>\n",
              "      <td>19</td>\n",
              "      <td>7</td>\n",
              "      <td>6</td>\n",
              "      <td>1</td>\n",
              "      <td>0</td>\n",
              "      <td>0</td>\n",
              "      <td>5.52</td>\n",
              "      <td>0</td>\n",
              "      <td>0</td>\n",
              "      <td>0</td>\n",
              "      <td>1</td>\n",
              "    </tr>\n",
              "    <tr>\n",
              "      <th>1</th>\n",
              "      <td>1</td>\n",
              "      <td>1</td>\n",
              "      <td>112</td>\n",
              "      <td>20</td>\n",
              "      <td>3</td>\n",
              "      <td>6</td>\n",
              "      <td>0</td>\n",
              "      <td>0</td>\n",
              "      <td>0</td>\n",
              "      <td>5.52</td>\n",
              "      <td>0</td>\n",
              "      <td>0</td>\n",
              "      <td>0</td>\n",
              "      <td>1</td>\n",
              "    </tr>\n",
              "    <tr>\n",
              "      <th>2</th>\n",
              "      <td>2</td>\n",
              "      <td>1</td>\n",
              "      <td>243</td>\n",
              "      <td>22</td>\n",
              "      <td>17</td>\n",
              "      <td>3</td>\n",
              "      <td>1</td>\n",
              "      <td>1</td>\n",
              "      <td>0</td>\n",
              "      <td>5.52</td>\n",
              "      <td>0</td>\n",
              "      <td>0</td>\n",
              "      <td>0</td>\n",
              "      <td>1</td>\n",
              "    </tr>\n",
              "    <tr>\n",
              "      <th>3</th>\n",
              "      <td>1</td>\n",
              "      <td>1</td>\n",
              "      <td>96</td>\n",
              "      <td>31</td>\n",
              "      <td>4</td>\n",
              "      <td>6</td>\n",
              "      <td>0</td>\n",
              "      <td>0</td>\n",
              "      <td>1</td>\n",
              "      <td>5.52</td>\n",
              "      <td>0</td>\n",
              "      <td>0</td>\n",
              "      <td>0</td>\n",
              "      <td>1</td>\n",
              "    </tr>\n",
              "    <tr>\n",
              "      <th>4</th>\n",
              "      <td>2</td>\n",
              "      <td>1</td>\n",
              "      <td>68</td>\n",
              "      <td>22</td>\n",
              "      <td>15</td>\n",
              "      <td>3</td>\n",
              "      <td>1</td>\n",
              "      <td>0</td>\n",
              "      <td>1</td>\n",
              "      <td>5.52</td>\n",
              "      <td>0</td>\n",
              "      <td>0</td>\n",
              "      <td>0</td>\n",
              "      <td>1</td>\n",
              "    </tr>\n",
              "    <tr>\n",
              "      <th>...</th>\n",
              "      <td>...</td>\n",
              "      <td>...</td>\n",
              "      <td>...</td>\n",
              "      <td>...</td>\n",
              "      <td>...</td>\n",
              "      <td>...</td>\n",
              "      <td>...</td>\n",
              "      <td>...</td>\n",
              "      <td>...</td>\n",
              "      <td>...</td>\n",
              "      <td>...</td>\n",
              "      <td>...</td>\n",
              "      <td>...</td>\n",
              "      <td>...</td>\n",
              "    </tr>\n",
              "    <tr>\n",
              "      <th>49276</th>\n",
              "      <td>2</td>\n",
              "      <td>1</td>\n",
              "      <td>27</td>\n",
              "      <td>6</td>\n",
              "      <td>9</td>\n",
              "      <td>6</td>\n",
              "      <td>1</td>\n",
              "      <td>0</td>\n",
              "      <td>1</td>\n",
              "      <td>5.62</td>\n",
              "      <td>0</td>\n",
              "      <td>0</td>\n",
              "      <td>0</td>\n",
              "      <td>1</td>\n",
              "    </tr>\n",
              "    <tr>\n",
              "      <th>49277</th>\n",
              "      <td>1</td>\n",
              "      <td>1</td>\n",
              "      <td>111</td>\n",
              "      <td>6</td>\n",
              "      <td>4</td>\n",
              "      <td>7</td>\n",
              "      <td>0</td>\n",
              "      <td>0</td>\n",
              "      <td>0</td>\n",
              "      <td>5.62</td>\n",
              "      <td>0</td>\n",
              "      <td>0</td>\n",
              "      <td>0</td>\n",
              "      <td>1</td>\n",
              "    </tr>\n",
              "    <tr>\n",
              "      <th>49278</th>\n",
              "      <td>1</td>\n",
              "      <td>1</td>\n",
              "      <td>24</td>\n",
              "      <td>6</td>\n",
              "      <td>22</td>\n",
              "      <td>6</td>\n",
              "      <td>0</td>\n",
              "      <td>0</td>\n",
              "      <td>1</td>\n",
              "      <td>5.62</td>\n",
              "      <td>0</td>\n",
              "      <td>0</td>\n",
              "      <td>0</td>\n",
              "      <td>1</td>\n",
              "    </tr>\n",
              "    <tr>\n",
              "      <th>49279</th>\n",
              "      <td>1</td>\n",
              "      <td>1</td>\n",
              "      <td>15</td>\n",
              "      <td>6</td>\n",
              "      <td>11</td>\n",
              "      <td>1</td>\n",
              "      <td>1</td>\n",
              "      <td>0</td>\n",
              "      <td>1</td>\n",
              "      <td>5.62</td>\n",
              "      <td>0</td>\n",
              "      <td>0</td>\n",
              "      <td>0</td>\n",
              "      <td>1</td>\n",
              "    </tr>\n",
              "    <tr>\n",
              "      <th>49280</th>\n",
              "      <td>1</td>\n",
              "      <td>1</td>\n",
              "      <td>19</td>\n",
              "      <td>6</td>\n",
              "      <td>10</td>\n",
              "      <td>4</td>\n",
              "      <td>0</td>\n",
              "      <td>1</td>\n",
              "      <td>0</td>\n",
              "      <td>5.62</td>\n",
              "      <td>0</td>\n",
              "      <td>0</td>\n",
              "      <td>0</td>\n",
              "      <td>1</td>\n",
              "    </tr>\n",
              "  </tbody>\n",
              "</table>\n",
              "<p>49281 rows × 14 columns</p>\n",
              "</div>\n",
              "      <button class=\"colab-df-convert\" onclick=\"convertToInteractive('df-b8ac3c08-06c5-4353-b79a-3c2e645d4bf8')\"\n",
              "              title=\"Convert this dataframe to an interactive table.\"\n",
              "              style=\"display:none;\">\n",
              "        \n",
              "  <svg xmlns=\"http://www.w3.org/2000/svg\" height=\"24px\"viewBox=\"0 0 24 24\"\n",
              "       width=\"24px\">\n",
              "    <path d=\"M0 0h24v24H0V0z\" fill=\"none\"/>\n",
              "    <path d=\"M18.56 5.44l.94 2.06.94-2.06 2.06-.94-2.06-.94-.94-2.06-.94 2.06-2.06.94zm-11 1L8.5 8.5l.94-2.06 2.06-.94-2.06-.94L8.5 2.5l-.94 2.06-2.06.94zm10 10l.94 2.06.94-2.06 2.06-.94-2.06-.94-.94-2.06-.94 2.06-2.06.94z\"/><path d=\"M17.41 7.96l-1.37-1.37c-.4-.4-.92-.59-1.43-.59-.52 0-1.04.2-1.43.59L10.3 9.45l-7.72 7.72c-.78.78-.78 2.05 0 2.83L4 21.41c.39.39.9.59 1.41.59.51 0 1.02-.2 1.41-.59l7.78-7.78 2.81-2.81c.8-.78.8-2.07 0-2.86zM5.41 20L4 18.59l7.72-7.72 1.47 1.35L5.41 20z\"/>\n",
              "  </svg>\n",
              "      </button>\n",
              "      \n",
              "  <style>\n",
              "    .colab-df-container {\n",
              "      display:flex;\n",
              "      flex-wrap:wrap;\n",
              "      gap: 12px;\n",
              "    }\n",
              "\n",
              "    .colab-df-convert {\n",
              "      background-color: #E8F0FE;\n",
              "      border: none;\n",
              "      border-radius: 50%;\n",
              "      cursor: pointer;\n",
              "      display: none;\n",
              "      fill: #1967D2;\n",
              "      height: 32px;\n",
              "      padding: 0 0 0 0;\n",
              "      width: 32px;\n",
              "    }\n",
              "\n",
              "    .colab-df-convert:hover {\n",
              "      background-color: #E2EBFA;\n",
              "      box-shadow: 0px 1px 2px rgba(60, 64, 67, 0.3), 0px 1px 3px 1px rgba(60, 64, 67, 0.15);\n",
              "      fill: #174EA6;\n",
              "    }\n",
              "\n",
              "    [theme=dark] .colab-df-convert {\n",
              "      background-color: #3B4455;\n",
              "      fill: #D2E3FC;\n",
              "    }\n",
              "\n",
              "    [theme=dark] .colab-df-convert:hover {\n",
              "      background-color: #434B5C;\n",
              "      box-shadow: 0px 1px 3px 1px rgba(0, 0, 0, 0.15);\n",
              "      filter: drop-shadow(0px 1px 2px rgba(0, 0, 0, 0.3));\n",
              "      fill: #FFFFFF;\n",
              "    }\n",
              "  </style>\n",
              "\n",
              "      <script>\n",
              "        const buttonEl =\n",
              "          document.querySelector('#df-b8ac3c08-06c5-4353-b79a-3c2e645d4bf8 button.colab-df-convert');\n",
              "        buttonEl.style.display =\n",
              "          google.colab.kernel.accessAllowed ? 'block' : 'none';\n",
              "\n",
              "        async function convertToInteractive(key) {\n",
              "          const element = document.querySelector('#df-b8ac3c08-06c5-4353-b79a-3c2e645d4bf8');\n",
              "          const dataTable =\n",
              "            await google.colab.kernel.invokeFunction('convertToInteractive',\n",
              "                                                     [key], {});\n",
              "          if (!dataTable) return;\n",
              "\n",
              "          const docLinkHtml = 'Like what you see? Visit the ' +\n",
              "            '<a target=\"_blank\" href=https://colab.research.google.com/notebooks/data_table.ipynb>data table notebook</a>'\n",
              "            + ' to learn more about interactive tables.';\n",
              "          element.innerHTML = '';\n",
              "          dataTable['output_type'] = 'display_data';\n",
              "          await google.colab.output.renderOutput(dataTable, element);\n",
              "          const docLink = document.createElement('div');\n",
              "          docLink.innerHTML = docLinkHtml;\n",
              "          element.appendChild(docLink);\n",
              "        }\n",
              "      </script>\n",
              "    </div>\n",
              "  </div>\n",
              "  "
            ]
          },
          "metadata": {},
          "execution_count": 373
        }
      ]
    },
    {
      "cell_type": "markdown",
      "source": [
        "Standardizing the data"
      ],
      "metadata": {
        "id": "velODSf0Z4PI"
      }
    },
    {
      "cell_type": "code",
      "source": [
        "#Splitting into features & target\n",
        "X = df.drop('booking_complete', axis=1)\n",
        "y = df['booking_complete']"
      ],
      "metadata": {
        "id": "tQZo21WL05Ad"
      },
      "execution_count": 374,
      "outputs": []
    },
    {
      "cell_type": "code",
      "source": [
        "#Standardizing the data\n",
        "sc = StandardScaler()\n",
        "X = sc.fit_transform(X)"
      ],
      "metadata": {
        "id": "sUB_SenUtAOT"
      },
      "execution_count": 375,
      "outputs": []
    },
    {
      "cell_type": "code",
      "source": [
        "#Checking the shape of data\n",
        "X.shape, y.shape"
      ],
      "metadata": {
        "colab": {
          "base_uri": "https://localhost:8080/"
        },
        "id": "4AXLwBv9tALc",
        "outputId": "840952e4-13c2-4f55-a573-e0f434400a2c"
      },
      "execution_count": 376,
      "outputs": [
        {
          "output_type": "execute_result",
          "data": {
            "text/plain": [
              "((49281, 13), (49281,))"
            ]
          },
          "metadata": {},
          "execution_count": 376
        }
      ]
    },
    {
      "cell_type": "markdown",
      "source": [
        "Splitting the data into Train & Test"
      ],
      "metadata": {
        "id": "8q16ECDjZ7tJ"
      }
    },
    {
      "cell_type": "code",
      "source": [
        "#Splitting into train & test\n",
        "X_train, X_test, y_train, y_test = train_test_split(X, y, shuffle=True, stratify=y, random_state=0, test_size=0.3)\n",
        "X_train.shape, X_test.shape, y_train.shape, y_test.shape"
      ],
      "metadata": {
        "colab": {
          "base_uri": "https://localhost:8080/"
        },
        "id": "EjKsxKn0qjP4",
        "outputId": "f714d080-d355-4f3c-dce0-be48cb36132b"
      },
      "execution_count": 377,
      "outputs": [
        {
          "output_type": "execute_result",
          "data": {
            "text/plain": [
              "((34496, 13), (14785, 13), (34496,), (14785,))"
            ]
          },
          "metadata": {},
          "execution_count": 377
        }
      ]
    },
    {
      "cell_type": "markdown",
      "source": [
        "With Imbalanced dataset"
      ],
      "metadata": {
        "id": "192-mBg29z9-"
      }
    },
    {
      "cell_type": "code",
      "source": [
        "#Building the different classification models with default parameters\n",
        "lr  = LogisticRegression(random_state=0) \n",
        "rf  = RandomForestClassifier(n_estimators=100, random_state=0)\n",
        "xgb = XGBClassifier(n_estimators=100, random_state=0)"
      ],
      "metadata": {
        "id": "N-lyyJftaD71"
      },
      "execution_count": 378,
      "outputs": []
    },
    {
      "cell_type": "code",
      "source": [
        "#Model Training with above models\n",
        "lr.fit(X_train, y_train)\n",
        "rf.fit(X_train, y_train)\n",
        "xgb.fit(X_train, y_train)"
      ],
      "metadata": {
        "id": "dMJfdLIUaD5S",
        "colab": {
          "base_uri": "https://localhost:8080/"
        },
        "outputId": "11b07774-5fff-4eed-a19e-1f327659a2e9"
      },
      "execution_count": 379,
      "outputs": [
        {
          "output_type": "execute_result",
          "data": {
            "text/plain": [
              "XGBClassifier()"
            ]
          },
          "metadata": {},
          "execution_count": 379
        }
      ]
    },
    {
      "cell_type": "markdown",
      "source": [
        "Model Testing & Evaluation"
      ],
      "metadata": {
        "id": "kSNkUEuIahZR"
      }
    },
    {
      "cell_type": "code",
      "source": [
        "y_pred_lr  = lr.predict(X_test) \n",
        "y_pred_rf  = rf.predict(X_test)\n",
        "y_pred_xgb = xgb.predict(X_test)"
      ],
      "metadata": {
        "id": "vOAfynJYaD21"
      },
      "execution_count": 380,
      "outputs": []
    },
    {
      "cell_type": "markdown",
      "source": [
        "Analysing the model performance & accuracy "
      ],
      "metadata": {
        "id": "82w6qysWalzE"
      }
    },
    {
      "cell_type": "code",
      "source": [
        "#Testing the ROC-AUC score for all models\n",
        "cc  = [y_pred_lr, y_pred_rf, y_pred_xgb]\n",
        "mod = ['Logistic Regression', 'Random Forest', 'XG Boost']\n",
        "\n",
        "print('ROC-AUC Scores for all models','\\n')\n",
        "\n",
        "for i,j in zip(cc, mod):\n",
        "    print('============================')\n",
        "    print(j, ':', np.round(roc_auc_score(y_test, i)*100, 2))\n",
        "    print('============================', '\\n')"
      ],
      "metadata": {
        "colab": {
          "base_uri": "https://localhost:8080/"
        },
        "id": "X7o9jX5paD0H",
        "outputId": "d88c546a-9bc1-4053-c77a-9424ee3fbb6e"
      },
      "execution_count": 381,
      "outputs": [
        {
          "output_type": "stream",
          "name": "stdout",
          "text": [
            "ROC-AUC Scores for all models \n",
            "\n",
            "============================\n",
            "Logistic Regression : 50.0\n",
            "============================ \n",
            "\n",
            "============================\n",
            "Random Forest : 51.08\n",
            "============================ \n",
            "\n",
            "============================\n",
            "XG Boost : 50.0\n",
            "============================ \n",
            "\n"
          ]
        }
      ]
    },
    {
      "cell_type": "code",
      "source": [
        "#Plotting Confusion Matrix for all models\n",
        "mm = ['Logistic Regression', 'Random Forest', 'XG Boost']\n",
        "dd = [lr, rf, xgb]\n",
        "\n",
        "print('Confusion Matrix for all models')\n",
        "\n",
        "for i,j in zip(dd, mm):\n",
        "    print('\\n','========================================', '\\n')\n",
        "    print(j)\n",
        "    plot_confusion_matrix(i, X_test, y_test, display_labels= ['Not-Booked', 'Booked'])   \n",
        "    plt.show()"
      ],
      "metadata": {
        "colab": {
          "base_uri": "https://localhost:8080/",
          "height": 1000
        },
        "id": "lQc2RHNMaDV_",
        "outputId": "09aaed23-c847-477c-d0b2-a3b54dff381d"
      },
      "execution_count": 382,
      "outputs": [
        {
          "output_type": "stream",
          "name": "stdout",
          "text": [
            "Confusion Matrix for all models\n",
            "\n",
            " ======================================== \n",
            "\n",
            "Logistic Regression\n"
          ]
        },
        {
          "output_type": "display_data",
          "data": {
            "text/plain": [
              "<Figure size 432x288 with 2 Axes>"
            ],
            "image/png": "[encoded data removed]"
          },
          "metadata": {
            "needs_background": "light"
          }
        },
        {
          "output_type": "stream",
          "name": "stdout",
          "text": [
            "\n",
            " ======================================== \n",
            "\n",
            "Random Forest\n"
          ]
        },
        {
          "output_type": "display_data",
          "data": {
            "text/plain": [
              "<Figure size 432x288 with 2 Axes>"
            ],
            "image/png": "[encoded data removed]"
          },
          "metadata": {
            "needs_background": "light"
          }
        },
        {
          "output_type": "stream",
          "name": "stdout",
          "text": [
            "\n",
            " ======================================== \n",
            "\n",
            "XG Boost\n"
          ]
        },
        {
          "output_type": "display_data",
          "data": {
            "text/plain": [
              "<Figure size 432x288 with 2 Axes>"
            ],
            "image/png": "[encoded data removed]"
          },
          "metadata": {
            "needs_background": "light"
          }
        }
      ]
    },
    {
      "cell_type": "code",
      "source": [
        "#Classification Report for all models\n",
        "cc  = [y_pred_lr, y_pred_rf, y_pred_xgb]\n",
        "mod = ['Logistic Regression', 'Random Forest', 'XG Boost']\n",
        "\n",
        "print('Classification Report for all models','\\n')\n",
        "\n",
        "for i,j in zip(cc, mod):\n",
        "    print('============================')\n",
        "    print(j, ':\\n\\n', (classification_report(y_test, i)))\n",
        "    print('============================', '\\n')"
      ],
      "metadata": {
        "colab": {
          "base_uri": "https://localhost:8080/"
        },
        "id": "8SCKcJyFaDxE",
        "outputId": "037b8225-18e0-4284-c265-5a7620d219c4"
      },
      "execution_count": 383,
      "outputs": [
        {
          "output_type": "stream",
          "name": "stdout",
          "text": [
            "Classification Report for all models \n",
            "\n",
            "============================\n",
            "Logistic Regression :\n",
            "\n",
            "               precision    recall  f1-score   support\n",
            "\n",
            "           0       0.85      1.00      0.92     12568\n",
            "           1       0.00      0.00      0.00      2217\n",
            "\n",
            "    accuracy                           0.85     14785\n",
            "   macro avg       0.43      0.50      0.46     14785\n",
            "weighted avg       0.72      0.85      0.78     14785\n",
            "\n",
            "============================ \n",
            "\n",
            "============================\n",
            "Random Forest :\n",
            "\n",
            "               precision    recall  f1-score   support\n",
            "\n",
            "           0       0.85      0.99      0.91     12568\n",
            "           1       0.31      0.04      0.06      2217\n",
            "\n",
            "    accuracy                           0.84     14785\n",
            "   macro avg       0.58      0.51      0.49     14785\n",
            "weighted avg       0.77      0.84      0.79     14785\n",
            "\n",
            "============================ \n",
            "\n",
            "============================\n",
            "XG Boost :\n",
            "\n",
            "               precision    recall  f1-score   support\n",
            "\n",
            "           0       0.85      1.00      0.92     12568\n",
            "           1       0.00      0.00      0.00      2217\n",
            "\n",
            "    accuracy                           0.85     14785\n",
            "   macro avg       0.43      0.50      0.46     14785\n",
            "weighted avg       0.72      0.85      0.78     14785\n",
            "\n",
            "============================ \n",
            "\n"
          ]
        }
      ]
    },
    {
      "cell_type": "markdown",
      "source": [
        "Note:\n",
        "* Poor performance of all models due to imbalanced data.\n",
        "* The minority class (1) prediction is bad for every model.\n",
        "* Let's try balancing the dataset and evaluate the model."
      ],
      "metadata": {
        "id": "PKfCaUs_a_lg"
      }
    },
    {
      "cell_type": "markdown",
      "metadata": {
        "id": "a6bb7755"
      },
      "source": [
        "#### Note:\n",
        "*As the dataset is highly imbalance, we will try to balance the dataset by applying various sampling techniques:*\n",
        "* SMOTE\n",
        "* SMOTE ENN"
      ]
    },
    {
      "cell_type": "markdown",
      "metadata": {
        "id": "6dc49210"
      },
      "source": [
        "## Sampling Techniques"
      ]
    },
    {
      "cell_type": "markdown",
      "metadata": {
        "id": "e3b2594a-edc8-4b94-b6b6-fcf43880e4b9"
      },
      "source": [
        "###  SMOTE: Synthetic Minority Over-sampling Technique \n",
        "* SMOTE works by selecting pair of minority class observations and then creating a synthetic point that lies on the line connecting these two. It is pretty liberal about selecting the minority points and may end up picking up minority points that are outliers."
      ]
    },
    {
      "cell_type": "code",
      "execution_count": 384,
      "metadata": {
        "id": "8a26c1d8-8e49-4dae-8b3e-d453dfe98fb2"
      },
      "outputs": [],
      "source": [
        "#Object Instantiation\n",
        "sm = SMOTE(random_state=0)"
      ]
    },
    {
      "cell_type": "code",
      "execution_count": 385,
      "metadata": {
        "id": "ae1f275d-2449-48aa-9fe0-5d626fbe1073"
      },
      "outputs": [],
      "source": [
        "#Resampling the dataset with smote\n",
        "X_res, y_res = sm.fit_resample(X, y)"
      ]
    },
    {
      "cell_type": "code",
      "execution_count": 386,
      "metadata": {
        "id": "bbc1c016-3281-42c1-83dd-3ddb26608ac4",
        "outputId": "de6f52de-ef52-4db3-af59-c52e1724bbe8",
        "colab": {
          "base_uri": "https://localhost:8080/"
        }
      },
      "outputs": [
        {
          "output_type": "stream",
          "name": "stdout",
          "text": [
            "X_res after resampling shape :  (83780, 13)\n",
            "y_res after resampling shape :  (83780,) \n",
            "\n",
            "0    41890\n",
            "1    41890\n",
            "Name: booking_complete, dtype: int64\n"
          ]
        }
      ],
      "source": [
        "#Rechecking the count of target variable after smote\n",
        "print('X_res after resampling shape : ' , X_res.shape)\n",
        "print('y_res after resampling shape : ' , y_res.shape, '\\n')\n",
        "print(y_res.value_counts())"
      ]
    },
    {
      "cell_type": "markdown",
      "metadata": {
        "id": "96e5a310-2ef9-4765-ae84-8b50b886b23a"
      },
      "source": [
        "#### Building models with balanced data (smote_resampled data)"
      ]
    },
    {
      "cell_type": "code",
      "execution_count": 387,
      "metadata": {
        "id": "b661c8cd-d270-4b2a-9fb9-e64c4c1032a7"
      },
      "outputs": [],
      "source": [
        "#Splitting data into training and testing dataset with 80:20 ratio\n",
        "X_train_res, X_test_res, y_train_res, y_test_res = train_test_split(X_res, y_res, random_state=0, test_size=0.3, stratify=y_res)"
      ]
    },
    {
      "cell_type": "code",
      "execution_count": 388,
      "metadata": {
        "id": "962988ee-6f7b-4f64-88a7-a233f9b503ed",
        "outputId": "eb691684-550c-4eb9-ab26-7745027d33fc",
        "colab": {
          "base_uri": "https://localhost:8080/"
        }
      },
      "outputs": [
        {
          "output_type": "execute_result",
          "data": {
            "text/plain": [
              "((58646, 13), (25134, 13))"
            ]
          },
          "metadata": {},
          "execution_count": 388
        }
      ],
      "source": [
        "#Checking the size of features\n",
        "X_train_res.shape, X_test_res.shape"
      ]
    },
    {
      "cell_type": "markdown",
      "metadata": {
        "id": "084addbd"
      },
      "source": [
        "#### Model Building with default parameters & smote_resampled data"
      ]
    },
    {
      "cell_type": "code",
      "execution_count": 389,
      "metadata": {
        "id": "4cd88d44-e01c-4422-8f68-d3b98eae926a"
      },
      "outputs": [],
      "source": [
        "lr_mod2  = LogisticRegression(random_state=0)\n",
        "rf_mod2  = RandomForestClassifier(n_estimators=100, criterion='gini', max_depth=None, random_state=0)\n",
        "xgb_mod2 = XGBClassifier(n_estimators=100, random_state=0)"
      ]
    },
    {
      "cell_type": "markdown",
      "metadata": {
        "id": "5bfa371e"
      },
      "source": [
        "#### Model Training"
      ]
    },
    {
      "cell_type": "code",
      "execution_count": 390,
      "metadata": {
        "id": "c94cd9bf-e0ce-47f6-b046-9ace368c5ece",
        "outputId": "aef32cbb-4588-422d-c7d7-cfbae611fc97",
        "colab": {
          "base_uri": "https://localhost:8080/"
        }
      },
      "outputs": [
        {
          "output_type": "stream",
          "name": "stdout",
          "text": [
            "CPU times: user 12.6 s, sys: 181 ms, total: 12.8 s\n",
            "Wall time: 12.6 s\n"
          ]
        },
        {
          "output_type": "execute_result",
          "data": {
            "text/plain": [
              "XGBClassifier()"
            ]
          },
          "metadata": {},
          "execution_count": 390
        }
      ],
      "source": [
        "%%time\n",
        "lr_mod2.fit(X_train_res, y_train_res)\n",
        "rf_mod2.fit(X_train_res, y_train_res)\n",
        "xgb_mod2.fit(X_train_res, y_train_res)"
      ]
    },
    {
      "cell_type": "markdown",
      "metadata": {
        "id": "36f566af"
      },
      "source": [
        "#### Model Testing & Evaluation"
      ]
    },
    {
      "cell_type": "code",
      "execution_count": 391,
      "metadata": {
        "id": "b9b29503-46eb-4d8b-9275-ad991a2faed7",
        "outputId": "5b8f9643-c76d-4a9c-e0f7-6b40e6d7e635",
        "colab": {
          "base_uri": "https://localhost:8080/"
        }
      },
      "outputs": [
        {
          "output_type": "stream",
          "name": "stdout",
          "text": [
            "CPU times: user 914 ms, sys: 102 ms, total: 1.02 s\n",
            "Wall time: 909 ms\n"
          ]
        }
      ],
      "source": [
        "%%time\n",
        "y_pred_lr2  = lr_mod2.predict(X_test_res)\n",
        "y_pred_rf2  = rf_mod2.predict(X_test_res)\n",
        "y_pred_xgb2 = xgb_mod2.predict(X_test_res)"
      ]
    },
    {
      "cell_type": "code",
      "execution_count": 392,
      "metadata": {
        "id": "5e84c5ee",
        "outputId": "49d7c70a-b3bc-4698-a5f5-4e8caf05bb89",
        "colab": {
          "base_uri": "https://localhost:8080/"
        }
      },
      "outputs": [
        {
          "output_type": "stream",
          "name": "stdout",
          "text": [
            "ROC-AUC score for all models\n",
            "\n",
            "====================================\n",
            "Logistic Regression : 0.6\n",
            "==================================== \n",
            "\n",
            "\n",
            "====================================\n",
            "Random Forest : 0.9\n",
            "==================================== \n",
            "\n",
            "\n",
            "====================================\n",
            "XGB : 0.84\n",
            "==================================== \n",
            "\n"
          ]
        }
      ],
      "source": [
        "#Testing the roc-auc score for all models\n",
        "cc = [y_pred_lr2, y_pred_rf2, y_pred_xgb2]\n",
        "mm = ['Logistic Regression', 'Random Forest', 'XGB']\n",
        "\n",
        "print('ROC-AUC score for all models')\n",
        "\n",
        "for i,j in zip(cc, mm):\n",
        "    print('\\n====================================')\n",
        "    print(j, ':', roc_auc_score(y_test_res, i).round(2))\n",
        "    print('====================================', '\\n')"
      ]
    },
    {
      "cell_type": "code",
      "execution_count": 393,
      "metadata": {
        "scrolled": false,
        "id": "45405d06-fb7f-4df2-92ff-bdb376e97b69",
        "outputId": "bdc67671-5e5d-4b22-8251-93c4ed58825b",
        "colab": {
          "base_uri": "https://localhost:8080/",
          "height": 1000
        }
      },
      "outputs": [
        {
          "output_type": "stream",
          "name": "stdout",
          "text": [
            "Confusion Matrix for all models\n",
            "\n",
            " ======================================== \n",
            "\n",
            "Logistic Regression\n"
          ]
        },
        {
          "output_type": "display_data",
          "data": {
            "text/plain": [
              "<Figure size 432x288 with 2 Axes>"
            ],
            "image/png": "[encoded data removed]"
          },
          "metadata": {
            "needs_background": "light"
          }
        },
        {
          "output_type": "stream",
          "name": "stdout",
          "text": [
            "\n",
            " ======================================== \n",
            "\n",
            "Random Forest\n"
          ]
        },
        {
          "output_type": "display_data",
          "data": {
            "text/plain": [
              "<Figure size 432x288 with 2 Axes>"
            ],
            "image/png": "[encoded data removed]"
          },
          "metadata": {
            "needs_background": "light"
          }
        },
        {
          "output_type": "stream",
          "name": "stdout",
          "text": [
            "\n",
            " ======================================== \n",
            "\n",
            "XGB\n"
          ]
        },
        {
          "output_type": "display_data",
          "data": {
            "text/plain": [
              "<Figure size 432x288 with 2 Axes>"
            ],
            "image/png": "[encoded data removed]"
          },
          "metadata": {
            "needs_background": "light"
          }
        }
      ],
      "source": [
        "#Plotting Confusion Matrix for all models\n",
        "mm = ['Logistic Regression', 'Random Forest', 'XGB']\n",
        "dd = [lr_mod2 ,rf_mod2, xgb_mod2]\n",
        "\n",
        "print('Confusion Matrix for all models')\n",
        "\n",
        "for i,j in zip(dd, mm):\n",
        "    print('\\n','========================================', '\\n')\n",
        "    print(j)\n",
        "    plot_confusion_matrix(i, X_test_res, y_test_res, display_labels= ['Not-Booked', 'Booked'])   \n",
        "    plt.show()"
      ]
    },
    {
      "cell_type": "code",
      "execution_count": 394,
      "metadata": {
        "scrolled": false,
        "id": "0d6cb4e3-370a-484d-bdd5-0434c24bd3a1",
        "outputId": "1dfc8463-a0f3-489b-aaef-0ad758fe8926",
        "colab": {
          "base_uri": "https://localhost:8080/"
        }
      },
      "outputs": [
        {
          "output_type": "stream",
          "name": "stdout",
          "text": [
            "======================================================\n",
            "Logistic Regression \n",
            "               precision    recall  f1-score   support\n",
            "\n",
            "           0       0.60      0.58      0.59     12567\n",
            "           1       0.59      0.61      0.60     12567\n",
            "\n",
            "    accuracy                           0.60     25134\n",
            "   macro avg       0.60      0.60      0.60     25134\n",
            "weighted avg       0.60      0.60      0.60     25134\n",
            "\n",
            "====================================================== \n",
            "\n",
            "======================================================\n",
            "Random Forest \n",
            "               precision    recall  f1-score   support\n",
            "\n",
            "           0       0.87      0.94      0.90     12567\n",
            "           1       0.93      0.86      0.89     12567\n",
            "\n",
            "    accuracy                           0.90     25134\n",
            "   macro avg       0.90      0.90      0.90     25134\n",
            "weighted avg       0.90      0.90      0.90     25134\n",
            "\n",
            "====================================================== \n",
            "\n",
            "======================================================\n",
            "XGB \n",
            "               precision    recall  f1-score   support\n",
            "\n",
            "           0       0.78      0.94      0.85     12567\n",
            "           1       0.92      0.74      0.82     12567\n",
            "\n",
            "    accuracy                           0.84     25134\n",
            "   macro avg       0.85      0.84      0.83     25134\n",
            "weighted avg       0.85      0.84      0.83     25134\n",
            "\n",
            "====================================================== \n",
            "\n"
          ]
        }
      ],
      "source": [
        "#Classification Report for all models\n",
        "cc = [y_pred_lr2, y_pred_rf2, y_pred_xgb2]\n",
        "mm = ['Logistic Regression', 'Random Forest', 'XGB']\n",
        "\n",
        "for i,j in zip(cc, mm):\n",
        "    print('======================================================')\n",
        "    print(j, '\\n', classification_report(y_test_res, i))\n",
        "    print('======================================================', '\\n')"
      ]
    },
    {
      "cell_type": "code",
      "execution_count": 395,
      "metadata": {
        "scrolled": true,
        "id": "8f548090-d728-40f6-9b01-3009a41ca220",
        "outputId": "818a5edb-d4ed-46d5-9be8-4d7f06acc4c0",
        "colab": {
          "base_uri": "https://localhost:8080/",
          "height": 143
        }
      },
      "outputs": [
        {
          "output_type": "execute_result",
          "data": {
            "text/plain": [
              "                     Model1  Model2  %Change in Score\n",
              "Random Forest          0.51    0.90              0.39\n",
              "XGB                    0.50    0.84              0.34\n",
              "Logistic Regression    0.50    0.60              0.10"
            ],
            "text/html": [
              "\n",
              "  <div id=\"df-bf0d1674-f877-4892-92d0-e742bf03558f\">\n",
              "    <div class=\"colab-df-container\">\n",
              "      <div>\n",
              "<style scoped>\n",
              "    .dataframe tbody tr th:only-of-type {\n",
              "        vertical-align: middle;\n",
              "    }\n",
              "\n",
              "    .dataframe tbody tr th {\n",
              "        vertical-align: top;\n",
              "    }\n",
              "\n",
              "    .dataframe thead th {\n",
              "        text-align: right;\n",
              "    }\n",
              "</style>\n",
              "<table border=\"1\" class=\"dataframe\">\n",
              "  <thead>\n",
              "    <tr style=\"text-align: right;\">\n",
              "      <th></th>\n",
              "      <th>Model1</th>\n",
              "      <th>Model2</th>\n",
              "      <th>%Change in Score</th>\n",
              "    </tr>\n",
              "  </thead>\n",
              "  <tbody>\n",
              "    <tr>\n",
              "      <th>Random Forest</th>\n",
              "      <td>0.51</td>\n",
              "      <td>0.90</td>\n",
              "      <td>0.39</td>\n",
              "    </tr>\n",
              "    <tr>\n",
              "      <th>XGB</th>\n",
              "      <td>0.50</td>\n",
              "      <td>0.84</td>\n",
              "      <td>0.34</td>\n",
              "    </tr>\n",
              "    <tr>\n",
              "      <th>Logistic Regression</th>\n",
              "      <td>0.50</td>\n",
              "      <td>0.60</td>\n",
              "      <td>0.10</td>\n",
              "    </tr>\n",
              "  </tbody>\n",
              "</table>\n",
              "</div>\n",
              "      <button class=\"colab-df-convert\" onclick=\"convertToInteractive('df-bf0d1674-f877-4892-92d0-e742bf03558f')\"\n",
              "              title=\"Convert this dataframe to an interactive table.\"\n",
              "              style=\"display:none;\">\n",
              "        \n",
              "  <svg xmlns=\"http://www.w3.org/2000/svg\" height=\"24px\"viewBox=\"0 0 24 24\"\n",
              "       width=\"24px\">\n",
              "    <path d=\"M0 0h24v24H0V0z\" fill=\"none\"/>\n",
              "    <path d=\"M18.56 5.44l.94 2.06.94-2.06 2.06-.94-2.06-.94-.94-2.06-.94 2.06-2.06.94zm-11 1L8.5 8.5l.94-2.06 2.06-.94-2.06-.94L8.5 2.5l-.94 2.06-2.06.94zm10 10l.94 2.06.94-2.06 2.06-.94-2.06-.94-.94-2.06-.94 2.06-2.06.94z\"/><path d=\"M17.41 7.96l-1.37-1.37c-.4-.4-.92-.59-1.43-.59-.52 0-1.04.2-1.43.59L10.3 9.45l-7.72 7.72c-.78.78-.78 2.05 0 2.83L4 21.41c.39.39.9.59 1.41.59.51 0 1.02-.2 1.41-.59l7.78-7.78 2.81-2.81c.8-.78.8-2.07 0-2.86zM5.41 20L4 18.59l7.72-7.72 1.47 1.35L5.41 20z\"/>\n",
              "  </svg>\n",
              "      </button>\n",
              "      \n",
              "  <style>\n",
              "    .colab-df-container {\n",
              "      display:flex;\n",
              "      flex-wrap:wrap;\n",
              "      gap: 12px;\n",
              "    }\n",
              "\n",
              "    .colab-df-convert {\n",
              "      background-color: #E8F0FE;\n",
              "      border: none;\n",
              "      border-radius: 50%;\n",
              "      cursor: pointer;\n",
              "      display: none;\n",
              "      fill: #1967D2;\n",
              "      height: 32px;\n",
              "      padding: 0 0 0 0;\n",
              "      width: 32px;\n",
              "    }\n",
              "\n",
              "    .colab-df-convert:hover {\n",
              "      background-color: #E2EBFA;\n",
              "      box-shadow: 0px 1px 2px rgba(60, 64, 67, 0.3), 0px 1px 3px 1px rgba(60, 64, 67, 0.15);\n",
              "      fill: #174EA6;\n",
              "    }\n",
              "\n",
              "    [theme=dark] .colab-df-convert {\n",
              "      background-color: #3B4455;\n",
              "      fill: #D2E3FC;\n",
              "    }\n",
              "\n",
              "    [theme=dark] .colab-df-convert:hover {\n",
              "      background-color: #434B5C;\n",
              "      box-shadow: 0px 1px 3px 1px rgba(0, 0, 0, 0.15);\n",
              "      filter: drop-shadow(0px 1px 2px rgba(0, 0, 0, 0.3));\n",
              "      fill: #FFFFFF;\n",
              "    }\n",
              "  </style>\n",
              "\n",
              "      <script>\n",
              "        const buttonEl =\n",
              "          document.querySelector('#df-bf0d1674-f877-4892-92d0-e742bf03558f button.colab-df-convert');\n",
              "        buttonEl.style.display =\n",
              "          google.colab.kernel.accessAllowed ? 'block' : 'none';\n",
              "\n",
              "        async function convertToInteractive(key) {\n",
              "          const element = document.querySelector('#df-bf0d1674-f877-4892-92d0-e742bf03558f');\n",
              "          const dataTable =\n",
              "            await google.colab.kernel.invokeFunction('convertToInteractive',\n",
              "                                                     [key], {});\n",
              "          if (!dataTable) return;\n",
              "\n",
              "          const docLinkHtml = 'Like what you see? Visit the ' +\n",
              "            '<a target=\"_blank\" href=https://colab.research.google.com/notebooks/data_table.ipynb>data table notebook</a>'\n",
              "            + ' to learn more about interactive tables.';\n",
              "          element.innerHTML = '';\n",
              "          dataTable['output_type'] = 'display_data';\n",
              "          await google.colab.output.renderOutput(dataTable, element);\n",
              "          const docLink = document.createElement('div');\n",
              "          docLink.innerHTML = docLinkHtml;\n",
              "          element.appendChild(docLink);\n",
              "        }\n",
              "      </script>\n",
              "    </div>\n",
              "  </div>\n",
              "  "
            ]
          },
          "metadata": {},
          "execution_count": 395
        }
      ],
      "source": [
        "#Comparing the models imbalance & model smote_balance data with balanced accuracy score\n",
        "mod_comp = pd.DataFrame(index=mm, columns=['Model1', 'Model2'], data={'Model1': [roc_auc_score(y_test ,y_pred_lr).round(2), roc_auc_score(y_test ,y_pred_rf).round(2), roc_auc_score(y_test ,y_pred_xgb).round(2)], \n",
        "                                                                      'Model2': [roc_auc_score(y_test_res ,y_pred_lr2).round(2), roc_auc_score(y_test_res ,y_pred_rf2).round(2), roc_auc_score(y_test_res ,y_pred_xgb2).round(2)]\n",
        "                                                                       })\n",
        "mod_comp['%Change in Score'] = mod_comp['Model2'] - mod_comp['Model1']\n",
        "mod_comp.sort_values(by='Model2', ascending=False)"
      ]
    },
    {
      "cell_type": "markdown",
      "source": [
        "Note:\n",
        "* All models performed better as compared to their performance on imbalanced dataset.\n",
        "* Random Forest outperformed all models by minimising the misclassification to great extent. The F1 score for RF is good than other models."
      ],
      "metadata": {
        "id": "1414s4e7bsaf"
      }
    },
    {
      "cell_type": "markdown",
      "source": [
        "## SMOTE-ENN\n",
        "ENN method works by finding the K-nearest neighbor of each observation first, then check whether the majority class from the observation’s k-nearest neighbor is the same as the observation’s class or not. If the majority class of the observation’s K-nearest neighbor and the observation’s class is different, then the observation and its K-nearest neighbor are deleted from the dataset."
      ],
      "metadata": {
        "id": "qKysQvMYu1L8"
      }
    },
    {
      "cell_type": "code",
      "execution_count": 396,
      "metadata": {
        "id": "7ec349ca"
      },
      "outputs": [],
      "source": [
        "#Object Instantiation\n",
        "se = SMOTEENN(random_state=0)"
      ]
    },
    {
      "cell_type": "code",
      "execution_count": 397,
      "metadata": {
        "id": "a0da9096"
      },
      "outputs": [],
      "source": [
        "#Resampling the dataset with smote-enn\n",
        "X_se, y_se = se.fit_resample(X, y)"
      ]
    },
    {
      "cell_type": "code",
      "execution_count": 398,
      "metadata": {
        "id": "14d70730",
        "outputId": "ba5129ab-e60f-4fec-dbf8-3bef4dfbd3ad",
        "colab": {
          "base_uri": "https://localhost:8080/"
        }
      },
      "outputs": [
        {
          "output_type": "stream",
          "name": "stdout",
          "text": [
            "X_res after resampling shape :  (56019, 13)\n",
            "y_res after resampling shape :  (56019,) \n",
            "\n",
            "1    33215\n",
            "0    22804\n",
            "Name: booking_complete, dtype: int64\n"
          ]
        }
      ],
      "source": [
        "##Rechecking the count of target variable after smote-enn\n",
        "print('X_res after resampling shape : ' , X_se.shape)\n",
        "print('y_res after resampling shape : ' , y_se.shape, '\\n')\n",
        "print(y_se.value_counts())"
      ]
    },
    {
      "cell_type": "markdown",
      "metadata": {
        "id": "31bbbd99"
      },
      "source": [
        "#### Building models with balanced data (SMOTE + ENN)"
      ]
    },
    {
      "cell_type": "code",
      "execution_count": 399,
      "metadata": {
        "id": "ee44da33"
      },
      "outputs": [],
      "source": [
        "#Splitting data into training and testing dataset with 80:20 ratio\n",
        "X_train_se, X_test_se, y_train_se, y_test_se = train_test_split(X_se, y_se, random_state=0, test_size=0.35, stratify=y_se)"
      ]
    },
    {
      "cell_type": "code",
      "execution_count": 400,
      "metadata": {
        "id": "92865fe5",
        "outputId": "e1d26871-15a4-4a06-c0ce-f8464ff9e67b",
        "colab": {
          "base_uri": "https://localhost:8080/"
        }
      },
      "outputs": [
        {
          "output_type": "execute_result",
          "data": {
            "text/plain": [
              "((36412, 13), (19607, 13))"
            ]
          },
          "metadata": {},
          "execution_count": 400
        }
      ],
      "source": [
        "#Checking the size of features\n",
        "X_train_se.shape, X_test_se.shape"
      ]
    },
    {
      "cell_type": "markdown",
      "metadata": {
        "id": "44570f39"
      },
      "source": [
        "#### Model Building with default parameters & smote-enn_resampled data"
      ]
    },
    {
      "cell_type": "code",
      "execution_count": 401,
      "metadata": {
        "id": "20548fb3"
      },
      "outputs": [],
      "source": [
        "lr_mod3  = LogisticRegression(random_state=0)\n",
        "rf_mod3  = RandomForestClassifier(n_estimators=100, criterion='gini', max_depth=None, random_state=0)\n",
        "xgb_mod3 = XGBClassifier(n_estimators=100, random_state=0)"
      ]
    },
    {
      "cell_type": "markdown",
      "metadata": {
        "id": "2b156334"
      },
      "source": [
        "#### Model Training"
      ]
    },
    {
      "cell_type": "code",
      "execution_count": 402,
      "metadata": {
        "id": "617576d7",
        "outputId": "61c0c060-3a47-4a85-cbcb-49264ac0dc8b",
        "colab": {
          "base_uri": "https://localhost:8080/"
        }
      },
      "outputs": [
        {
          "output_type": "stream",
          "name": "stdout",
          "text": [
            "CPU times: user 7.55 s, sys: 162 ms, total: 7.72 s\n",
            "Wall time: 7.56 s\n"
          ]
        },
        {
          "output_type": "execute_result",
          "data": {
            "text/plain": [
              "XGBClassifier()"
            ]
          },
          "metadata": {},
          "execution_count": 402
        }
      ],
      "source": [
        "%%time\n",
        "lr_mod3.fit(X_train_se, y_train_se)\n",
        "rf_mod3.fit(X_train_se, y_train_se)\n",
        "xgb_mod3.fit(X_train_se, y_train_se)"
      ]
    },
    {
      "cell_type": "markdown",
      "metadata": {
        "id": "072fceed"
      },
      "source": [
        "#### Model Testing & Evaluation"
      ]
    },
    {
      "cell_type": "code",
      "execution_count": 403,
      "metadata": {
        "id": "6da17455",
        "outputId": "bbdf34f7-3aee-4010-94ff-97a3e288a765",
        "colab": {
          "base_uri": "https://localhost:8080/"
        }
      },
      "outputs": [
        {
          "output_type": "stream",
          "name": "stdout",
          "text": [
            "CPU times: user 639 ms, sys: 85.5 ms, total: 724 ms\n",
            "Wall time: 628 ms\n"
          ]
        }
      ],
      "source": [
        "%%time\n",
        "y_pred_lr3  = lr_mod3.predict(X_test_se)\n",
        "y_pred_rf3  = rf_mod3.predict(X_test_se)\n",
        "y_pred_xgb3 = xgb_mod3.predict(X_test_se)"
      ]
    },
    {
      "cell_type": "code",
      "execution_count": 404,
      "metadata": {
        "id": "12c878da",
        "outputId": "5df84047-65e5-4ee9-c499-c87e93c7bbc0",
        "colab": {
          "base_uri": "https://localhost:8080/"
        }
      },
      "outputs": [
        {
          "output_type": "stream",
          "name": "stdout",
          "text": [
            "ROC-AUC score for all models\n",
            "\n",
            "====================================\n",
            "Logistic Regression : 0.62\n",
            "==================================== \n",
            "\n",
            "\n",
            "====================================\n",
            "Random Forest : 0.93\n",
            "==================================== \n",
            "\n",
            "\n",
            "====================================\n",
            "XGB : 0.84\n",
            "==================================== \n",
            "\n"
          ]
        }
      ],
      "source": [
        "#Testing the roc-auc score for all models\n",
        "cc = [y_pred_lr3, y_pred_rf3, y_pred_xgb3]\n",
        "mm = ['Logistic Regression', 'Random Forest', 'XGB']\n",
        "\n",
        "print('ROC-AUC score for all models')\n",
        "\n",
        "for i,j in zip(cc, mm):\n",
        "    print('\\n====================================')\n",
        "    print(j, ':', roc_auc_score(y_test_se, i).round(2))\n",
        "    print('====================================', '\\n')"
      ]
    },
    {
      "cell_type": "code",
      "execution_count": 405,
      "metadata": {
        "scrolled": false,
        "id": "c42a699e",
        "outputId": "034528bf-db07-4082-89e2-463874e3ef30",
        "colab": {
          "base_uri": "https://localhost:8080/",
          "height": 1000
        }
      },
      "outputs": [
        {
          "output_type": "stream",
          "name": "stdout",
          "text": [
            "Confusion Matrix for all models\n",
            "\n",
            " ======================================== \n",
            "\n",
            "Logistic Regression\n"
          ]
        },
        {
          "output_type": "display_data",
          "data": {
            "text/plain": [
              "<Figure size 432x288 with 2 Axes>"
            ],
            "image/png": "[encoded data removed]"
          },
          "metadata": {
            "needs_background": "light"
          }
        },
        {
          "output_type": "stream",
          "name": "stdout",
          "text": [
            "\n",
            " ======================================== \n",
            "\n",
            "Random Forest\n"
          ]
        },
        {
          "output_type": "display_data",
          "data": {
            "text/plain": [
              "<Figure size 432x288 with 2 Axes>"
            ],
            "image/png": "[encoded data removed]"
          },
          "metadata": {
            "needs_background": "light"
          }
        },
        {
          "output_type": "stream",
          "name": "stdout",
          "text": [
            "\n",
            " ======================================== \n",
            "\n",
            "XGB\n"
          ]
        },
        {
          "output_type": "display_data",
          "data": {
            "text/plain": [
              "<Figure size 432x288 with 2 Axes>"
            ],
            "image/png": "[encoded data removed]"
          },
          "metadata": {
            "needs_background": "light"
          }
        }
      ],
      "source": [
        "#Plotting Confusion Matrix for all models\n",
        "mm = ['Logistic Regression', 'Random Forest', 'XGB']\n",
        "dd = [lr_mod3, rf_mod3, xgb_mod3]\n",
        "\n",
        "print('Confusion Matrix for all models')\n",
        "\n",
        "for i,j in zip(dd, mm):\n",
        "    print('\\n','========================================', '\\n')\n",
        "    print(j)\n",
        "    plot_confusion_matrix(i, X_test_se, y_test_se, display_labels= ['Not-Booked', 'Booked'], values_format = 'g')   \n",
        "    plt.show()"
      ]
    },
    {
      "cell_type": "code",
      "execution_count": 406,
      "metadata": {
        "scrolled": false,
        "id": "1b886236",
        "outputId": "7ace72ad-0112-45b4-f1e2-18b832294651",
        "colab": {
          "base_uri": "https://localhost:8080/"
        }
      },
      "outputs": [
        {
          "output_type": "stream",
          "name": "stdout",
          "text": [
            "======================================================\n",
            "Logistic Regression \n",
            "               precision    recall  f1-score   support\n",
            "\n",
            "           0       0.62      0.43      0.50      7982\n",
            "           1       0.67      0.82      0.74     11625\n",
            "\n",
            "    accuracy                           0.66     19607\n",
            "   macro avg       0.64      0.62      0.62     19607\n",
            "weighted avg       0.65      0.66      0.64     19607\n",
            "\n",
            "====================================================== \n",
            "\n",
            "======================================================\n",
            "Random Forest \n",
            "               precision    recall  f1-score   support\n",
            "\n",
            "           0       0.91      0.92      0.91      7982\n",
            "           1       0.94      0.93      0.94     11625\n",
            "\n",
            "    accuracy                           0.93     19607\n",
            "   macro avg       0.92      0.93      0.92     19607\n",
            "weighted avg       0.93      0.93      0.93     19607\n",
            "\n",
            "====================================================== \n",
            "\n",
            "======================================================\n",
            "XGB \n",
            "               precision    recall  f1-score   support\n",
            "\n",
            "           0       0.79      0.84      0.81      7982\n",
            "           1       0.88      0.84      0.86     11625\n",
            "\n",
            "    accuracy                           0.84     19607\n",
            "   macro avg       0.83      0.84      0.84     19607\n",
            "weighted avg       0.84      0.84      0.84     19607\n",
            "\n",
            "====================================================== \n",
            "\n"
          ]
        }
      ],
      "source": [
        "#Classification Report for all models\n",
        "cc = [y_pred_lr3, y_pred_rf3, y_pred_xgb3]\n",
        "mm = ['Logistic Regression', 'Random Forest', 'XGB']\n",
        "\n",
        "for i,j in zip(cc, mm):\n",
        "    print('======================================================')\n",
        "    print(j, '\\n', classification_report(y_test_se, i))\n",
        "    print('======================================================', '\\n')"
      ]
    },
    {
      "cell_type": "code",
      "execution_count": 407,
      "metadata": {
        "id": "8c9d550e",
        "outputId": "4460c990-056a-4e26-a9f8-ac799b4e3f64",
        "colab": {
          "base_uri": "https://localhost:8080/",
          "height": 143
        }
      },
      "outputs": [
        {
          "output_type": "execute_result",
          "data": {
            "text/plain": [
              "                     Model1  Model2  %Change in Score\n",
              "Random Forest          0.51    0.93              0.42\n",
              "XGB                    0.50    0.84              0.34\n",
              "Logistic Regression    0.50    0.62              0.12"
            ],
            "text/html": [
              "\n",
              "  <div id=\"df-b83e068e-33a5-493d-aeab-e029abcbe425\">\n",
              "    <div class=\"colab-df-container\">\n",
              "      <div>\n",
              "<style scoped>\n",
              "    .dataframe tbody tr th:only-of-type {\n",
              "        vertical-align: middle;\n",
              "    }\n",
              "\n",
              "    .dataframe tbody tr th {\n",
              "        vertical-align: top;\n",
              "    }\n",
              "\n",
              "    .dataframe thead th {\n",
              "        text-align: right;\n",
              "    }\n",
              "</style>\n",
              "<table border=\"1\" class=\"dataframe\">\n",
              "  <thead>\n",
              "    <tr style=\"text-align: right;\">\n",
              "      <th></th>\n",
              "      <th>Model1</th>\n",
              "      <th>Model2</th>\n",
              "      <th>%Change in Score</th>\n",
              "    </tr>\n",
              "  </thead>\n",
              "  <tbody>\n",
              "    <tr>\n",
              "      <th>Random Forest</th>\n",
              "      <td>0.51</td>\n",
              "      <td>0.93</td>\n",
              "      <td>0.42</td>\n",
              "    </tr>\n",
              "    <tr>\n",
              "      <th>XGB</th>\n",
              "      <td>0.50</td>\n",
              "      <td>0.84</td>\n",
              "      <td>0.34</td>\n",
              "    </tr>\n",
              "    <tr>\n",
              "      <th>Logistic Regression</th>\n",
              "      <td>0.50</td>\n",
              "      <td>0.62</td>\n",
              "      <td>0.12</td>\n",
              "    </tr>\n",
              "  </tbody>\n",
              "</table>\n",
              "</div>\n",
              "      <button class=\"colab-df-convert\" onclick=\"convertToInteractive('df-b83e068e-33a5-493d-aeab-e029abcbe425')\"\n",
              "              title=\"Convert this dataframe to an interactive table.\"\n",
              "              style=\"display:none;\">\n",
              "        \n",
              "  <svg xmlns=\"http://www.w3.org/2000/svg\" height=\"24px\"viewBox=\"0 0 24 24\"\n",
              "       width=\"24px\">\n",
              "    <path d=\"M0 0h24v24H0V0z\" fill=\"none\"/>\n",
              "    <path d=\"M18.56 5.44l.94 2.06.94-2.06 2.06-.94-2.06-.94-.94-2.06-.94 2.06-2.06.94zm-11 1L8.5 8.5l.94-2.06 2.06-.94-2.06-.94L8.5 2.5l-.94 2.06-2.06.94zm10 10l.94 2.06.94-2.06 2.06-.94-2.06-.94-.94-2.06-.94 2.06-2.06.94z\"/><path d=\"M17.41 7.96l-1.37-1.37c-.4-.4-.92-.59-1.43-.59-.52 0-1.04.2-1.43.59L10.3 9.45l-7.72 7.72c-.78.78-.78 2.05 0 2.83L4 21.41c.39.39.9.59 1.41.59.51 0 1.02-.2 1.41-.59l7.78-7.78 2.81-2.81c.8-.78.8-2.07 0-2.86zM5.41 20L4 18.59l7.72-7.72 1.47 1.35L5.41 20z\"/>\n",
              "  </svg>\n",
              "      </button>\n",
              "      \n",
              "  <style>\n",
              "    .colab-df-container {\n",
              "      display:flex;\n",
              "      flex-wrap:wrap;\n",
              "      gap: 12px;\n",
              "    }\n",
              "\n",
              "    .colab-df-convert {\n",
              "      background-color: #E8F0FE;\n",
              "      border: none;\n",
              "      border-radius: 50%;\n",
              "      cursor: pointer;\n",
              "      display: none;\n",
              "      fill: #1967D2;\n",
              "      height: 32px;\n",
              "      padding: 0 0 0 0;\n",
              "      width: 32px;\n",
              "    }\n",
              "\n",
              "    .colab-df-convert:hover {\n",
              "      background-color: #E2EBFA;\n",
              "      box-shadow: 0px 1px 2px rgba(60, 64, 67, 0.3), 0px 1px 3px 1px rgba(60, 64, 67, 0.15);\n",
              "      fill: #174EA6;\n",
              "    }\n",
              "\n",
              "    [theme=dark] .colab-df-convert {\n",
              "      background-color: #3B4455;\n",
              "      fill: #D2E3FC;\n",
              "    }\n",
              "\n",
              "    [theme=dark] .colab-df-convert:hover {\n",
              "      background-color: #434B5C;\n",
              "      box-shadow: 0px 1px 3px 1px rgba(0, 0, 0, 0.15);\n",
              "      filter: drop-shadow(0px 1px 2px rgba(0, 0, 0, 0.3));\n",
              "      fill: #FFFFFF;\n",
              "    }\n",
              "  </style>\n",
              "\n",
              "      <script>\n",
              "        const buttonEl =\n",
              "          document.querySelector('#df-b83e068e-33a5-493d-aeab-e029abcbe425 button.colab-df-convert');\n",
              "        buttonEl.style.display =\n",
              "          google.colab.kernel.accessAllowed ? 'block' : 'none';\n",
              "\n",
              "        async function convertToInteractive(key) {\n",
              "          const element = document.querySelector('#df-b83e068e-33a5-493d-aeab-e029abcbe425');\n",
              "          const dataTable =\n",
              "            await google.colab.kernel.invokeFunction('convertToInteractive',\n",
              "                                                     [key], {});\n",
              "          if (!dataTable) return;\n",
              "\n",
              "          const docLinkHtml = 'Like what you see? Visit the ' +\n",
              "            '<a target=\"_blank\" href=https://colab.research.google.com/notebooks/data_table.ipynb>data table notebook</a>'\n",
              "            + ' to learn more about interactive tables.';\n",
              "          element.innerHTML = '';\n",
              "          dataTable['output_type'] = 'display_data';\n",
              "          await google.colab.output.renderOutput(dataTable, element);\n",
              "          const docLink = document.createElement('div');\n",
              "          docLink.innerHTML = docLinkHtml;\n",
              "          element.appendChild(docLink);\n",
              "        }\n",
              "      </script>\n",
              "    </div>\n",
              "  </div>\n",
              "  "
            ]
          },
          "metadata": {},
          "execution_count": 407
        }
      ],
      "source": [
        "#Comparing the models imbalance & model smote_balance data with balanced accuracy score\n",
        "mod_comp = pd.DataFrame(index=mm, columns=['Model1', 'Model2'], data={'Model1': [roc_auc_score(y_test ,y_pred_lr).round(2), roc_auc_score(y_test ,y_pred_rf).round(2), roc_auc_score(y_test ,y_pred_xgb).round(2)], \n",
        "                                                                      'Model2': [roc_auc_score(y_test_se ,y_pred_lr3).round(2), roc_auc_score(y_test_se ,y_pred_rf3).round(2), roc_auc_score(y_test_se ,y_pred_xgb3).round(2)]\n",
        "                                                                       })\n",
        "mod_comp['%Change in Score'] = mod_comp['Model2'] - mod_comp['Model1']\n",
        "mod_comp.sort_values(by='Model2', ascending=False)"
      ]
    },
    {
      "cell_type": "markdown",
      "source": [
        "Note:\n",
        "* As compared to SMOTE balanced data, Random Forest performance has improved with SMOTEENN. \n",
        "* Other model's performance has dipped compared to their performance on SMOTE balanced data.\n",
        "* Random Forest model's F1 score is high. "
      ],
      "metadata": {
        "id": "LEDbou42cT1W"
      }
    },
    {
      "cell_type": "markdown",
      "metadata": {
        "id": "ed1ce873"
      },
      "source": [
        "### We build above models with all features taken into consideration to predict whether bookings will complete or not. Let's try building models considering only significant features to predict the bookings. "
      ]
    },
    {
      "cell_type": "markdown",
      "metadata": {
        "id": "b5920b3b"
      },
      "source": [
        "## Feature Engineering\n",
        "*To determine the important features for the model*\n",
        "* Correlation Analysis\n",
        "* Recursive Feature Elimination (RFE)\n",
        "* Random Forest, XGBoost feature importance"
      ]
    },
    {
      "cell_type": "markdown",
      "metadata": {
        "id": "6f04a7e1-0948-42c9-98b4-0476da9823db"
      },
      "source": [
        "### Correlation Analysis"
      ]
    },
    {
      "cell_type": "code",
      "source": [
        "#Making a copy of data, retrieving the column names\n",
        "df1 = df.copy()\n",
        "df1.drop('booking_complete', axis=1, inplace=True)\n",
        "X_cols = df1.columns\n",
        "X_cols.shape"
      ],
      "metadata": {
        "colab": {
          "base_uri": "https://localhost:8080/"
        },
        "id": "39wThH03z0EL",
        "outputId": "d90bf56c-101f-4007-c17d-6d31dbb08683"
      },
      "execution_count": 408,
      "outputs": [
        {
          "output_type": "execute_result",
          "data": {
            "text/plain": [
              "(13,)"
            ]
          },
          "metadata": {},
          "execution_count": 408
        }
      ]
    },
    {
      "cell_type": "code",
      "source": [
        "#Making a dataframe for features & target column - imbalance data\n",
        "df2 = pd.DataFrame(X, columns=X_cols)\n",
        "df2['booking_complete'] = y\n",
        "df2.shape"
      ],
      "metadata": {
        "colab": {
          "base_uri": "https://localhost:8080/"
        },
        "id": "GcTRUbop0Zqu",
        "outputId": "e63ab01b-6dd5-4f5b-ba88-ad09c067d031"
      },
      "execution_count": 409,
      "outputs": [
        {
          "output_type": "execute_result",
          "data": {
            "text/plain": [
              "(49281, 14)"
            ]
          },
          "metadata": {},
          "execution_count": 409
        }
      ]
    },
    {
      "cell_type": "code",
      "source": [
        "#Making a dataframe for features & target column - smote+enn balanced data\n",
        "df3 = pd.DataFrame(X_se, columns=X_cols)\n",
        "df3['booking_complete'] = y_se\n",
        "df3.shape"
      ],
      "metadata": {
        "colab": {
          "base_uri": "https://localhost:8080/"
        },
        "id": "HNUCWQEA06yd",
        "outputId": "bc5f31bb-e701-4fc3-8c56-03794078d6b5"
      },
      "execution_count": 410,
      "outputs": [
        {
          "output_type": "execute_result",
          "data": {
            "text/plain": [
              "(56019, 14)"
            ]
          },
          "metadata": {},
          "execution_count": 410
        }
      ]
    },
    {
      "cell_type": "code",
      "execution_count": 411,
      "metadata": {
        "id": "e01e6e21",
        "outputId": "c2b0f309-56ae-4af4-b475-56aed0946f43",
        "colab": {
          "base_uri": "https://localhost:8080/",
          "height": 599
        }
      },
      "outputs": [
        {
          "output_type": "display_data",
          "data": {
            "text/plain": [
              "<Figure size 1008x576 with 2 Axes>"
            ],
            "image/png": "[encoded data removed]"
          },
          "metadata": {
            "needs_background": "light"
          }
        }
      ],
      "source": [
        "#Correlation Analysis in visual form - imbalance data\n",
        "plt.figure(figsize=(14,8))\n",
        "sns.heatmap(df2.corr().round(2), annot=True)\n",
        "plt.title('Correlation between variables')\n",
        "plt.show()"
      ]
    },
    {
      "cell_type": "code",
      "execution_count": 412,
      "metadata": {
        "id": "75c4e880",
        "outputId": "32819f5d-53fa-4273-a4d9-88e875b127e6",
        "colab": {
          "base_uri": "https://localhost:8080/"
        }
      },
      "outputs": [
        {
          "output_type": "execute_result",
          "data": {
            "text/plain": [
              "flight_duration         -0.11\n",
              "length_of_stay          -0.04\n",
              "trip_type_OneWay        -0.02\n",
              "purchase_lead           -0.02\n",
              "trip_type_CircleTrip    -0.01\n",
              "flight_day              -0.01\n",
              "flight_hour              0.01\n",
              "num_passengers           0.02\n",
              "wants_in_flight_meals    0.03\n",
              "trip_type_RoundTrip      0.03\n",
              "sales_channel            0.04\n",
              "wants_preferred_seat     0.05\n",
              "wants_extra_baggage      0.07\n",
              "booking_complete         1.00\n",
              "Name: booking_complete, dtype: float64"
            ]
          },
          "metadata": {},
          "execution_count": 412
        }
      ],
      "source": [
        "#Analysis of correlation between target & feature variables - imbalance data\n",
        "df2.corr()['booking_complete'].sort_values().round(2)"
      ]
    },
    {
      "cell_type": "code",
      "source": [
        "##Correlation Analysis in visual form - smote+enn balance data\n",
        "plt.figure(figsize=(14,8))\n",
        "sns.heatmap(df3.corr().round(2), annot=True)\n",
        "plt.title('Correlation between variables')\n",
        "plt.show()"
      ],
      "metadata": {
        "colab": {
          "base_uri": "https://localhost:8080/",
          "height": 599
        },
        "id": "kAy9xj3a5ZTv",
        "outputId": "365106ed-839c-45e4-cdf2-e74b6ed95926"
      },
      "execution_count": 413,
      "outputs": [
        {
          "output_type": "display_data",
          "data": {
            "text/plain": [
              "<Figure size 1008x576 with 2 Axes>"
            ],
            "image/png": "[encoded data removed]"
          },
          "metadata": {
            "needs_background": "light"
          }
        }
      ]
    },
    {
      "cell_type": "code",
      "source": [
        "#Analysis of correlation between target & feature variables - smote+enn balance data\n",
        "df3.corr()['booking_complete'].sort_values().round(2)"
      ],
      "metadata": {
        "colab": {
          "base_uri": "https://localhost:8080/"
        },
        "id": "3aVTlFgx5ZMV",
        "outputId": "d35d7ac7-b53b-44c4-d2af-ec1cc6bcb988"
      },
      "execution_count": 414,
      "outputs": [
        {
          "output_type": "execute_result",
          "data": {
            "text/plain": [
              "flight_duration         -0.23\n",
              "length_of_stay          -0.10\n",
              "trip_type_OneWay        -0.07\n",
              "purchase_lead           -0.05\n",
              "trip_type_CircleTrip    -0.04\n",
              "flight_day              -0.02\n",
              "flight_hour              0.01\n",
              "num_passengers           0.05\n",
              "wants_in_flight_meals    0.06\n",
              "trip_type_RoundTrip      0.08\n",
              "sales_channel            0.08\n",
              "wants_preferred_seat     0.12\n",
              "wants_extra_baggage      0.16\n",
              "booking_complete         1.00\n",
              "Name: booking_complete, dtype: float64"
            ]
          },
          "metadata": {},
          "execution_count": 414
        }
      ]
    },
    {
      "cell_type": "markdown",
      "metadata": {
        "id": "403e785b"
      },
      "source": [
        "#### From correlational analysis,\n",
        "* num_passengers, purchase_lead, flight_hour, flight_day, trip_type_CircleTrip & wants_in_flight_meals is having low-correlation w.r.t booking_type.\n",
        "\n",
        "* flight_duration, wants_preferred_seat, wants_extra_baggage, length_of_stay are top 5 features having high correlation w.r.t booking_type.\n",
        "\n",
        "* Rest all features have a good correlation w.r.t booking_type."
      ]
    },
    {
      "cell_type": "markdown",
      "metadata": {
        "id": "b784d077-f2dd-49d9-9936-6a0f32fb1dd9"
      },
      "source": [
        "### Recursive Feature Elimination (RFE)"
      ]
    },
    {
      "cell_type": "code",
      "execution_count": 415,
      "metadata": {
        "id": "b017ebe8"
      },
      "outputs": [],
      "source": [
        "#Drawing Important features from Random Forest model using RFE\n",
        "rfe_rf  = RFE(rf_mod3)"
      ]
    },
    {
      "cell_type": "code",
      "execution_count": 416,
      "metadata": {
        "id": "318b9aeb",
        "outputId": "7da346f6-7751-4cc1-89c0-d912b7e42e59",
        "colab": {
          "base_uri": "https://localhost:8080/"
        }
      },
      "outputs": [
        {
          "output_type": "execute_result",
          "data": {
            "text/plain": [
              "RFE(estimator=RandomForestClassifier(random_state=0))"
            ]
          },
          "metadata": {},
          "execution_count": 416
        }
      ],
      "source": [
        "rfe_rf.fit(X_se, y_se)"
      ]
    },
    {
      "cell_type": "code",
      "execution_count": 417,
      "metadata": {
        "id": "a8f5c2ff",
        "outputId": "fb7899e1-eeda-4620-e913-040807b85ba7",
        "colab": {
          "base_uri": "https://localhost:8080/"
        }
      },
      "outputs": [
        {
          "output_type": "execute_result",
          "data": {
            "text/plain": [
              "array(['num_passengers', 'purchase_lead', 'length_of_stay', 'flight_hour',\n",
              "       'flight_day', 'flight_duration'], dtype=object)"
            ]
          },
          "metadata": {},
          "execution_count": 417
        }
      ],
      "source": [
        "#Important features as per random forest model\n",
        "rfe_rf.get_feature_names_out(df2.columns[:-1])"
      ]
    },
    {
      "cell_type": "code",
      "execution_count": 418,
      "metadata": {
        "id": "76914f3e"
      },
      "outputs": [],
      "source": [
        "#Drawing Important features from Extreme Gradient Boosting model using RFE\n",
        "rfe_xgb = RFE(xgb_mod3)"
      ]
    },
    {
      "cell_type": "code",
      "execution_count": 419,
      "metadata": {
        "id": "96f72718",
        "outputId": "12cde1fc-58e6-4871-8283-607ba20d65fd",
        "colab": {
          "base_uri": "https://localhost:8080/"
        }
      },
      "outputs": [
        {
          "output_type": "execute_result",
          "data": {
            "text/plain": [
              "RFE(estimator=XGBClassifier())"
            ]
          },
          "metadata": {},
          "execution_count": 419
        }
      ],
      "source": [
        "rfe_xgb.fit(X_se, y_se)"
      ]
    },
    {
      "cell_type": "code",
      "execution_count": 420,
      "metadata": {
        "id": "3c8b3236",
        "outputId": "b3f8268b-7d42-49db-f5d3-df13bcc19989",
        "colab": {
          "base_uri": "https://localhost:8080/"
        }
      },
      "outputs": [
        {
          "output_type": "execute_result",
          "data": {
            "text/plain": [
              "array(['sales_channel', 'length_of_stay', 'flight_day',\n",
              "       'wants_extra_baggage', 'wants_preferred_seat', 'flight_duration'],\n",
              "      dtype=object)"
            ]
          },
          "metadata": {},
          "execution_count": 420
        }
      ],
      "source": [
        "#Important features as per extreme gradient boost model\n",
        "rfe_xgb.get_feature_names_out(df2.columns[:-1])"
      ]
    },
    {
      "cell_type": "code",
      "execution_count": 421,
      "metadata": {
        "scrolled": false,
        "id": "34284f72",
        "outputId": "c52662cf-a89a-49f8-c033-7593d28ad2c7",
        "colab": {
          "base_uri": "https://localhost:8080/",
          "height": 237
        }
      },
      "outputs": [
        {
          "output_type": "execute_result",
          "data": {
            "text/plain": [
              "     Random Forest Extreme Gradient Boost\n",
              "0   num_passengers          sales_channel\n",
              "1    purchase_lead         length_of_stay\n",
              "2   length_of_stay             flight_day\n",
              "3      flight_hour    wants_extra_baggage\n",
              "4       flight_day   wants_preferred_seat\n",
              "5  flight_duration        flight_duration"
            ],
            "text/html": [
              "\n",
              "  <div id=\"df-298ca1d6-813d-4156-a4d7-6ea03d774c0e\">\n",
              "    <div class=\"colab-df-container\">\n",
              "      <div>\n",
              "<style scoped>\n",
              "    .dataframe tbody tr th:only-of-type {\n",
              "        vertical-align: middle;\n",
              "    }\n",
              "\n",
              "    .dataframe tbody tr th {\n",
              "        vertical-align: top;\n",
              "    }\n",
              "\n",
              "    .dataframe thead th {\n",
              "        text-align: right;\n",
              "    }\n",
              "</style>\n",
              "<table border=\"1\" class=\"dataframe\">\n",
              "  <thead>\n",
              "    <tr style=\"text-align: right;\">\n",
              "      <th></th>\n",
              "      <th>Random Forest</th>\n",
              "      <th>Extreme Gradient Boost</th>\n",
              "    </tr>\n",
              "  </thead>\n",
              "  <tbody>\n",
              "    <tr>\n",
              "      <th>0</th>\n",
              "      <td>num_passengers</td>\n",
              "      <td>sales_channel</td>\n",
              "    </tr>\n",
              "    <tr>\n",
              "      <th>1</th>\n",
              "      <td>purchase_lead</td>\n",
              "      <td>length_of_stay</td>\n",
              "    </tr>\n",
              "    <tr>\n",
              "      <th>2</th>\n",
              "      <td>length_of_stay</td>\n",
              "      <td>flight_day</td>\n",
              "    </tr>\n",
              "    <tr>\n",
              "      <th>3</th>\n",
              "      <td>flight_hour</td>\n",
              "      <td>wants_extra_baggage</td>\n",
              "    </tr>\n",
              "    <tr>\n",
              "      <th>4</th>\n",
              "      <td>flight_day</td>\n",
              "      <td>wants_preferred_seat</td>\n",
              "    </tr>\n",
              "    <tr>\n",
              "      <th>5</th>\n",
              "      <td>flight_duration</td>\n",
              "      <td>flight_duration</td>\n",
              "    </tr>\n",
              "  </tbody>\n",
              "</table>\n",
              "</div>\n",
              "      <button class=\"colab-df-convert\" onclick=\"convertToInteractive('df-298ca1d6-813d-4156-a4d7-6ea03d774c0e')\"\n",
              "              title=\"Convert this dataframe to an interactive table.\"\n",
              "              style=\"display:none;\">\n",
              "        \n",
              "  <svg xmlns=\"http://www.w3.org/2000/svg\" height=\"24px\"viewBox=\"0 0 24 24\"\n",
              "       width=\"24px\">\n",
              "    <path d=\"M0 0h24v24H0V0z\" fill=\"none\"/>\n",
              "    <path d=\"M18.56 5.44l.94 2.06.94-2.06 2.06-.94-2.06-.94-.94-2.06-.94 2.06-2.06.94zm-11 1L8.5 8.5l.94-2.06 2.06-.94-2.06-.94L8.5 2.5l-.94 2.06-2.06.94zm10 10l.94 2.06.94-2.06 2.06-.94-2.06-.94-.94-2.06-.94 2.06-2.06.94z\"/><path d=\"M17.41 7.96l-1.37-1.37c-.4-.4-.92-.59-1.43-.59-.52 0-1.04.2-1.43.59L10.3 9.45l-7.72 7.72c-.78.78-.78 2.05 0 2.83L4 21.41c.39.39.9.59 1.41.59.51 0 1.02-.2 1.41-.59l7.78-7.78 2.81-2.81c.8-.78.8-2.07 0-2.86zM5.41 20L4 18.59l7.72-7.72 1.47 1.35L5.41 20z\"/>\n",
              "  </svg>\n",
              "      </button>\n",
              "      \n",
              "  <style>\n",
              "    .colab-df-container {\n",
              "      display:flex;\n",
              "      flex-wrap:wrap;\n",
              "      gap: 12px;\n",
              "    }\n",
              "\n",
              "    .colab-df-convert {\n",
              "      background-color: #E8F0FE;\n",
              "      border: none;\n",
              "      border-radius: 50%;\n",
              "      cursor: pointer;\n",
              "      display: none;\n",
              "      fill: #1967D2;\n",
              "      height: 32px;\n",
              "      padding: 0 0 0 0;\n",
              "      width: 32px;\n",
              "    }\n",
              "\n",
              "    .colab-df-convert:hover {\n",
              "      background-color: #E2EBFA;\n",
              "      box-shadow: 0px 1px 2px rgba(60, 64, 67, 0.3), 0px 1px 3px 1px rgba(60, 64, 67, 0.15);\n",
              "      fill: #174EA6;\n",
              "    }\n",
              "\n",
              "    [theme=dark] .colab-df-convert {\n",
              "      background-color: #3B4455;\n",
              "      fill: #D2E3FC;\n",
              "    }\n",
              "\n",
              "    [theme=dark] .colab-df-convert:hover {\n",
              "      background-color: #434B5C;\n",
              "      box-shadow: 0px 1px 3px 1px rgba(0, 0, 0, 0.15);\n",
              "      filter: drop-shadow(0px 1px 2px rgba(0, 0, 0, 0.3));\n",
              "      fill: #FFFFFF;\n",
              "    }\n",
              "  </style>\n",
              "\n",
              "      <script>\n",
              "        const buttonEl =\n",
              "          document.querySelector('#df-298ca1d6-813d-4156-a4d7-6ea03d774c0e button.colab-df-convert');\n",
              "        buttonEl.style.display =\n",
              "          google.colab.kernel.accessAllowed ? 'block' : 'none';\n",
              "\n",
              "        async function convertToInteractive(key) {\n",
              "          const element = document.querySelector('#df-298ca1d6-813d-4156-a4d7-6ea03d774c0e');\n",
              "          const dataTable =\n",
              "            await google.colab.kernel.invokeFunction('convertToInteractive',\n",
              "                                                     [key], {});\n",
              "          if (!dataTable) return;\n",
              "\n",
              "          const docLinkHtml = 'Like what you see? Visit the ' +\n",
              "            '<a target=\"_blank\" href=https://colab.research.google.com/notebooks/data_table.ipynb>data table notebook</a>'\n",
              "            + ' to learn more about interactive tables.';\n",
              "          element.innerHTML = '';\n",
              "          dataTable['output_type'] = 'display_data';\n",
              "          await google.colab.output.renderOutput(dataTable, element);\n",
              "          const docLink = document.createElement('div');\n",
              "          docLink.innerHTML = docLinkHtml;\n",
              "          element.appendChild(docLink);\n",
              "        }\n",
              "      </script>\n",
              "    </div>\n",
              "  </div>\n",
              "  "
            ]
          },
          "metadata": {},
          "execution_count": 421
        }
      ],
      "source": [
        "#Comparing all the features from 3 models in a DataFrame\n",
        "rfe_df = pd.DataFrame({'Random Forest' : rfe_rf.get_feature_names_out(df2.columns[:-1]),\n",
        "                       'Extreme Gradient Boost' : rfe_xgb.get_feature_names_out(df2.columns[:-1])})\n",
        "rfe_df"
      ]
    },
    {
      "cell_type": "markdown",
      "metadata": {
        "id": "ac627e64"
      },
      "source": [
        "#### From above RFE analysis,\n",
        "* 'length_of_stay', 'flight_day', 'flight_duration' are common significant features for Random Forest & Extreme Gradient models."
      ]
    },
    {
      "cell_type": "markdown",
      "metadata": {
        "id": "vZoJUjw97F6Q"
      },
      "source": [
        "### Random Forest Feature Importance"
      ]
    },
    {
      "cell_type": "code",
      "execution_count": 422,
      "metadata": {
        "id": "cd3962c5"
      },
      "outputs": [],
      "source": [
        "#Drawing Important features from Random Forest model\n",
        "rf_feat = rf_mod3.feature_importances_"
      ]
    },
    {
      "cell_type": "code",
      "execution_count": 423,
      "metadata": {
        "id": "69ae6810",
        "outputId": "0fe6f94d-2b2b-497b-acc7-51583c5bd67b",
        "colab": {
          "base_uri": "https://localhost:8080/",
          "height": 456
        }
      },
      "outputs": [
        {
          "output_type": "execute_result",
          "data": {
            "text/plain": [
              "                 Features  Values\n",
              "0          length_of_stay    0.22\n",
              "1         flight_duration    0.22\n",
              "2           purchase_lead    0.15\n",
              "3             flight_hour    0.15\n",
              "4              flight_day    0.11\n",
              "5          num_passengers    0.05\n",
              "6     wants_extra_baggage    0.04\n",
              "7           sales_channel    0.02\n",
              "8    wants_preferred_seat    0.02\n",
              "9   wants_in_flight_meals    0.02\n",
              "10   trip_type_CircleTrip    0.00\n",
              "11       trip_type_OneWay    0.00\n",
              "12    trip_type_RoundTrip    0.00"
            ],
            "text/html": [
              "\n",
              "  <div id=\"df-5c2e5d8f-8c7a-4e84-874d-16a46ad37fed\">\n",
              "    <div class=\"colab-df-container\">\n",
              "      <div>\n",
              "<style scoped>\n",
              "    .dataframe tbody tr th:only-of-type {\n",
              "        vertical-align: middle;\n",
              "    }\n",
              "\n",
              "    .dataframe tbody tr th {\n",
              "        vertical-align: top;\n",
              "    }\n",
              "\n",
              "    .dataframe thead th {\n",
              "        text-align: right;\n",
              "    }\n",
              "</style>\n",
              "<table border=\"1\" class=\"dataframe\">\n",
              "  <thead>\n",
              "    <tr style=\"text-align: right;\">\n",
              "      <th></th>\n",
              "      <th>Features</th>\n",
              "      <th>Values</th>\n",
              "    </tr>\n",
              "  </thead>\n",
              "  <tbody>\n",
              "    <tr>\n",
              "      <th>0</th>\n",
              "      <td>length_of_stay</td>\n",
              "      <td>0.22</td>\n",
              "    </tr>\n",
              "    <tr>\n",
              "      <th>1</th>\n",
              "      <td>flight_duration</td>\n",
              "      <td>0.22</td>\n",
              "    </tr>\n",
              "    <tr>\n",
              "      <th>2</th>\n",
              "      <td>purchase_lead</td>\n",
              "      <td>0.15</td>\n",
              "    </tr>\n",
              "    <tr>\n",
              "      <th>3</th>\n",
              "      <td>flight_hour</td>\n",
              "      <td>0.15</td>\n",
              "    </tr>\n",
              "    <tr>\n",
              "      <th>4</th>\n",
              "      <td>flight_day</td>\n",
              "      <td>0.11</td>\n",
              "    </tr>\n",
              "    <tr>\n",
              "      <th>5</th>\n",
              "      <td>num_passengers</td>\n",
              "      <td>0.05</td>\n",
              "    </tr>\n",
              "    <tr>\n",
              "      <th>6</th>\n",
              "      <td>wants_extra_baggage</td>\n",
              "      <td>0.04</td>\n",
              "    </tr>\n",
              "    <tr>\n",
              "      <th>7</th>\n",
              "      <td>sales_channel</td>\n",
              "      <td>0.02</td>\n",
              "    </tr>\n",
              "    <tr>\n",
              "      <th>8</th>\n",
              "      <td>wants_preferred_seat</td>\n",
              "      <td>0.02</td>\n",
              "    </tr>\n",
              "    <tr>\n",
              "      <th>9</th>\n",
              "      <td>wants_in_flight_meals</td>\n",
              "      <td>0.02</td>\n",
              "    </tr>\n",
              "    <tr>\n",
              "      <th>10</th>\n",
              "      <td>trip_type_CircleTrip</td>\n",
              "      <td>0.00</td>\n",
              "    </tr>\n",
              "    <tr>\n",
              "      <th>11</th>\n",
              "      <td>trip_type_OneWay</td>\n",
              "      <td>0.00</td>\n",
              "    </tr>\n",
              "    <tr>\n",
              "      <th>12</th>\n",
              "      <td>trip_type_RoundTrip</td>\n",
              "      <td>0.00</td>\n",
              "    </tr>\n",
              "  </tbody>\n",
              "</table>\n",
              "</div>\n",
              "      <button class=\"colab-df-convert\" onclick=\"convertToInteractive('df-5c2e5d8f-8c7a-4e84-874d-16a46ad37fed')\"\n",
              "              title=\"Convert this dataframe to an interactive table.\"\n",
              "              style=\"display:none;\">\n",
              "        \n",
              "  <svg xmlns=\"http://www.w3.org/2000/svg\" height=\"24px\"viewBox=\"0 0 24 24\"\n",
              "       width=\"24px\">\n",
              "    <path d=\"M0 0h24v24H0V0z\" fill=\"none\"/>\n",
              "    <path d=\"M18.56 5.44l.94 2.06.94-2.06 2.06-.94-2.06-.94-.94-2.06-.94 2.06-2.06.94zm-11 1L8.5 8.5l.94-2.06 2.06-.94-2.06-.94L8.5 2.5l-.94 2.06-2.06.94zm10 10l.94 2.06.94-2.06 2.06-.94-2.06-.94-.94-2.06-.94 2.06-2.06.94z\"/><path d=\"M17.41 7.96l-1.37-1.37c-.4-.4-.92-.59-1.43-.59-.52 0-1.04.2-1.43.59L10.3 9.45l-7.72 7.72c-.78.78-.78 2.05 0 2.83L4 21.41c.39.39.9.59 1.41.59.51 0 1.02-.2 1.41-.59l7.78-7.78 2.81-2.81c.8-.78.8-2.07 0-2.86zM5.41 20L4 18.59l7.72-7.72 1.47 1.35L5.41 20z\"/>\n",
              "  </svg>\n",
              "      </button>\n",
              "      \n",
              "  <style>\n",
              "    .colab-df-container {\n",
              "      display:flex;\n",
              "      flex-wrap:wrap;\n",
              "      gap: 12px;\n",
              "    }\n",
              "\n",
              "    .colab-df-convert {\n",
              "      background-color: #E8F0FE;\n",
              "      border: none;\n",
              "      border-radius: 50%;\n",
              "      cursor: pointer;\n",
              "      display: none;\n",
              "      fill: #1967D2;\n",
              "      height: 32px;\n",
              "      padding: 0 0 0 0;\n",
              "      width: 32px;\n",
              "    }\n",
              "\n",
              "    .colab-df-convert:hover {\n",
              "      background-color: #E2EBFA;\n",
              "      box-shadow: 0px 1px 2px rgba(60, 64, 67, 0.3), 0px 1px 3px 1px rgba(60, 64, 67, 0.15);\n",
              "      fill: #174EA6;\n",
              "    }\n",
              "\n",
              "    [theme=dark] .colab-df-convert {\n",
              "      background-color: #3B4455;\n",
              "      fill: #D2E3FC;\n",
              "    }\n",
              "\n",
              "    [theme=dark] .colab-df-convert:hover {\n",
              "      background-color: #434B5C;\n",
              "      box-shadow: 0px 1px 3px 1px rgba(0, 0, 0, 0.15);\n",
              "      filter: drop-shadow(0px 1px 2px rgba(0, 0, 0, 0.3));\n",
              "      fill: #FFFFFF;\n",
              "    }\n",
              "  </style>\n",
              "\n",
              "      <script>\n",
              "        const buttonEl =\n",
              "          document.querySelector('#df-5c2e5d8f-8c7a-4e84-874d-16a46ad37fed button.colab-df-convert');\n",
              "        buttonEl.style.display =\n",
              "          google.colab.kernel.accessAllowed ? 'block' : 'none';\n",
              "\n",
              "        async function convertToInteractive(key) {\n",
              "          const element = document.querySelector('#df-5c2e5d8f-8c7a-4e84-874d-16a46ad37fed');\n",
              "          const dataTable =\n",
              "            await google.colab.kernel.invokeFunction('convertToInteractive',\n",
              "                                                     [key], {});\n",
              "          if (!dataTable) return;\n",
              "\n",
              "          const docLinkHtml = 'Like what you see? Visit the ' +\n",
              "            '<a target=\"_blank\" href=https://colab.research.google.com/notebooks/data_table.ipynb>data table notebook</a>'\n",
              "            + ' to learn more about interactive tables.';\n",
              "          element.innerHTML = '';\n",
              "          dataTable['output_type'] = 'display_data';\n",
              "          await google.colab.output.renderOutput(dataTable, element);\n",
              "          const docLink = document.createElement('div');\n",
              "          docLink.innerHTML = docLinkHtml;\n",
              "          element.appendChild(docLink);\n",
              "        }\n",
              "      </script>\n",
              "    </div>\n",
              "  </div>\n",
              "  "
            ]
          },
          "metadata": {},
          "execution_count": 423
        }
      ],
      "source": [
        "#Making a dataframe for random forest feature importance\n",
        "rfi = pd.DataFrame({'Features' :  df2.columns[:-1], \n",
        "                    'Values'   :  rf_feat.round(2)})\n",
        "rfi.sort_values(by = 'Values', ascending = False, ignore_index = True)"
      ]
    },
    {
      "cell_type": "code",
      "source": [
        "#Visualisng the significant features\n",
        "plt.figure(figsize=(10,6))\n",
        "sns.barplot(data=rfi, x='Values', y='Features', order=rfi.sort_values('Values', ascending=False)['Features'], palette='inferno')\n",
        "plt.title('Random Forest signifcant features')\n",
        "plt.show()"
      ],
      "metadata": {
        "colab": {
          "base_uri": "https://localhost:8080/",
          "height": 404
        },
        "id": "X7SWPofL7pB8",
        "outputId": "a48e07ac-d7fd-4c8f-c2de-adde5727b985"
      },
      "execution_count": 424,
      "outputs": [
        {
          "output_type": "display_data",
          "data": {
            "text/plain": [
              "<Figure size 720x432 with 1 Axes>"
            ],
            "image/png": "[encoded data removed]"
          },
          "metadata": {
            "needs_background": "light"
          }
        }
      ]
    },
    {
      "cell_type": "markdown",
      "source": [
        "Note:\n",
        "* From above analysis, length_of_stay, flight_duration, purchase_lead, flight_hour, flight_day, num_passengers & wants_extra_baggage are the significant features as per random forest feature importance."
      ],
      "metadata": {
        "id": "74LYpFJLgMx9"
      }
    },
    {
      "cell_type": "markdown",
      "source": [
        "XGBoost Feature Importance"
      ],
      "metadata": {
        "id": "-HFtJ_sH7xWt"
      }
    },
    {
      "cell_type": "code",
      "source": [
        "#Drawing Important features from XGBoost model\n",
        "xgb_feat = xgb_mod3.feature_importances_"
      ],
      "metadata": {
        "id": "MIzSJcFU7o--"
      },
      "execution_count": 425,
      "outputs": []
    },
    {
      "cell_type": "code",
      "source": [
        "#Making a dataframe for XGBoost feature importance\n",
        "xgbi = pd.DataFrame({'Features' :  df2.columns[:-1], \n",
        "                    'Values'   :  xgb_feat.round(2)})\n",
        "xgbi.sort_values(by = 'Values', ascending = False, ignore_index = True)"
      ],
      "metadata": {
        "colab": {
          "base_uri": "https://localhost:8080/",
          "height": 456
        },
        "id": "qbUHeKbO7o8d",
        "outputId": "c27c2089-4aa9-4b4c-d58a-1a581e215a3c"
      },
      "execution_count": 426,
      "outputs": [
        {
          "output_type": "execute_result",
          "data": {
            "text/plain": [
              "                 Features  Values\n",
              "0         flight_duration    0.19\n",
              "1     wants_extra_baggage    0.17\n",
              "2          length_of_stay    0.16\n",
              "3              flight_day    0.12\n",
              "4           sales_channel    0.07\n",
              "5             flight_hour    0.07\n",
              "6    wants_preferred_seat    0.07\n",
              "7     trip_type_RoundTrip    0.06\n",
              "8          num_passengers    0.03\n",
              "9           purchase_lead    0.03\n",
              "10  wants_in_flight_meals    0.03\n",
              "11   trip_type_CircleTrip    0.00\n",
              "12       trip_type_OneWay    0.00"
            ],
            "text/html": [
              "\n",
              "  <div id=\"df-f0c5208f-81e6-424b-bf54-96e930dcac02\">\n",
              "    <div class=\"colab-df-container\">\n",
              "      <div>\n",
              "<style scoped>\n",
              "    .dataframe tbody tr th:only-of-type {\n",
              "        vertical-align: middle;\n",
              "    }\n",
              "\n",
              "    .dataframe tbody tr th {\n",
              "        vertical-align: top;\n",
              "    }\n",
              "\n",
              "    .dataframe thead th {\n",
              "        text-align: right;\n",
              "    }\n",
              "</style>\n",
              "<table border=\"1\" class=\"dataframe\">\n",
              "  <thead>\n",
              "    <tr style=\"text-align: right;\">\n",
              "      <th></th>\n",
              "      <th>Features</th>\n",
              "      <th>Values</th>\n",
              "    </tr>\n",
              "  </thead>\n",
              "  <tbody>\n",
              "    <tr>\n",
              "      <th>0</th>\n",
              "      <td>flight_duration</td>\n",
              "      <td>0.19</td>\n",
              "    </tr>\n",
              "    <tr>\n",
              "      <th>1</th>\n",
              "      <td>wants_extra_baggage</td>\n",
              "      <td>0.17</td>\n",
              "    </tr>\n",
              "    <tr>\n",
              "      <th>2</th>\n",
              "      <td>length_of_stay</td>\n",
              "      <td>0.16</td>\n",
              "    </tr>\n",
              "    <tr>\n",
              "      <th>3</th>\n",
              "      <td>flight_day</td>\n",
              "      <td>0.12</td>\n",
              "    </tr>\n",
              "    <tr>\n",
              "      <th>4</th>\n",
              "      <td>sales_channel</td>\n",
              "      <td>0.07</td>\n",
              "    </tr>\n",
              "    <tr>\n",
              "      <th>5</th>\n",
              "      <td>flight_hour</td>\n",
              "      <td>0.07</td>\n",
              "    </tr>\n",
              "    <tr>\n",
              "      <th>6</th>\n",
              "      <td>wants_preferred_seat</td>\n",
              "      <td>0.07</td>\n",
              "    </tr>\n",
              "    <tr>\n",
              "      <th>7</th>\n",
              "      <td>trip_type_RoundTrip</td>\n",
              "      <td>0.06</td>\n",
              "    </tr>\n",
              "    <tr>\n",
              "      <th>8</th>\n",
              "      <td>num_passengers</td>\n",
              "      <td>0.03</td>\n",
              "    </tr>\n",
              "    <tr>\n",
              "      <th>9</th>\n",
              "      <td>purchase_lead</td>\n",
              "      <td>0.03</td>\n",
              "    </tr>\n",
              "    <tr>\n",
              "      <th>10</th>\n",
              "      <td>wants_in_flight_meals</td>\n",
              "      <td>0.03</td>\n",
              "    </tr>\n",
              "    <tr>\n",
              "      <th>11</th>\n",
              "      <td>trip_type_CircleTrip</td>\n",
              "      <td>0.00</td>\n",
              "    </tr>\n",
              "    <tr>\n",
              "      <th>12</th>\n",
              "      <td>trip_type_OneWay</td>\n",
              "      <td>0.00</td>\n",
              "    </tr>\n",
              "  </tbody>\n",
              "</table>\n",
              "</div>\n",
              "      <button class=\"colab-df-convert\" onclick=\"convertToInteractive('df-f0c5208f-81e6-424b-bf54-96e930dcac02')\"\n",
              "              title=\"Convert this dataframe to an interactive table.\"\n",
              "              style=\"display:none;\">\n",
              "        \n",
              "  <svg xmlns=\"http://www.w3.org/2000/svg\" height=\"24px\"viewBox=\"0 0 24 24\"\n",
              "       width=\"24px\">\n",
              "    <path d=\"M0 0h24v24H0V0z\" fill=\"none\"/>\n",
              "    <path d=\"M18.56 5.44l.94 2.06.94-2.06 2.06-.94-2.06-.94-.94-2.06-.94 2.06-2.06.94zm-11 1L8.5 8.5l.94-2.06 2.06-.94-2.06-.94L8.5 2.5l-.94 2.06-2.06.94zm10 10l.94 2.06.94-2.06 2.06-.94-2.06-.94-.94-2.06-.94 2.06-2.06.94z\"/><path d=\"M17.41 7.96l-1.37-1.37c-.4-.4-.92-.59-1.43-.59-.52 0-1.04.2-1.43.59L10.3 9.45l-7.72 7.72c-.78.78-.78 2.05 0 2.83L4 21.41c.39.39.9.59 1.41.59.51 0 1.02-.2 1.41-.59l7.78-7.78 2.81-2.81c.8-.78.8-2.07 0-2.86zM5.41 20L4 18.59l7.72-7.72 1.47 1.35L5.41 20z\"/>\n",
              "  </svg>\n",
              "      </button>\n",
              "      \n",
              "  <style>\n",
              "    .colab-df-container {\n",
              "      display:flex;\n",
              "      flex-wrap:wrap;\n",
              "      gap: 12px;\n",
              "    }\n",
              "\n",
              "    .colab-df-convert {\n",
              "      background-color: #E8F0FE;\n",
              "      border: none;\n",
              "      border-radius: 50%;\n",
              "      cursor: pointer;\n",
              "      display: none;\n",
              "      fill: #1967D2;\n",
              "      height: 32px;\n",
              "      padding: 0 0 0 0;\n",
              "      width: 32px;\n",
              "    }\n",
              "\n",
              "    .colab-df-convert:hover {\n",
              "      background-color: #E2EBFA;\n",
              "      box-shadow: 0px 1px 2px rgba(60, 64, 67, 0.3), 0px 1px 3px 1px rgba(60, 64, 67, 0.15);\n",
              "      fill: #174EA6;\n",
              "    }\n",
              "\n",
              "    [theme=dark] .colab-df-convert {\n",
              "      background-color: #3B4455;\n",
              "      fill: #D2E3FC;\n",
              "    }\n",
              "\n",
              "    [theme=dark] .colab-df-convert:hover {\n",
              "      background-color: #434B5C;\n",
              "      box-shadow: 0px 1px 3px 1px rgba(0, 0, 0, 0.15);\n",
              "      filter: drop-shadow(0px 1px 2px rgba(0, 0, 0, 0.3));\n",
              "      fill: #FFFFFF;\n",
              "    }\n",
              "  </style>\n",
              "\n",
              "      <script>\n",
              "        const buttonEl =\n",
              "          document.querySelector('#df-f0c5208f-81e6-424b-bf54-96e930dcac02 button.colab-df-convert');\n",
              "        buttonEl.style.display =\n",
              "          google.colab.kernel.accessAllowed ? 'block' : 'none';\n",
              "\n",
              "        async function convertToInteractive(key) {\n",
              "          const element = document.querySelector('#df-f0c5208f-81e6-424b-bf54-96e930dcac02');\n",
              "          const dataTable =\n",
              "            await google.colab.kernel.invokeFunction('convertToInteractive',\n",
              "                                                     [key], {});\n",
              "          if (!dataTable) return;\n",
              "\n",
              "          const docLinkHtml = 'Like what you see? Visit the ' +\n",
              "            '<a target=\"_blank\" href=https://colab.research.google.com/notebooks/data_table.ipynb>data table notebook</a>'\n",
              "            + ' to learn more about interactive tables.';\n",
              "          element.innerHTML = '';\n",
              "          dataTable['output_type'] = 'display_data';\n",
              "          await google.colab.output.renderOutput(dataTable, element);\n",
              "          const docLink = document.createElement('div');\n",
              "          docLink.innerHTML = docLinkHtml;\n",
              "          element.appendChild(docLink);\n",
              "        }\n",
              "      </script>\n",
              "    </div>\n",
              "  </div>\n",
              "  "
            ]
          },
          "metadata": {},
          "execution_count": 426
        }
      ]
    },
    {
      "cell_type": "code",
      "source": [
        "#Visualisng the significant features\n",
        "plt.figure(figsize=(10,6))\n",
        "sns.barplot(data=xgbi, x='Values', y='Features', order=xgbi.sort_values('Values', ascending=False)['Features'], palette='gist_rainbow_r')\n",
        "plt.title('XGBoost signifcant features')\n",
        "plt.show()"
      ],
      "metadata": {
        "colab": {
          "base_uri": "https://localhost:8080/",
          "height": 404
        },
        "id": "CAaTf9Vef_yL",
        "outputId": "fd6019b3-edb4-4914-cf33-effd294548b1"
      },
      "execution_count": 427,
      "outputs": [
        {
          "output_type": "display_data",
          "data": {
            "text/plain": [
              "<Figure size 720x432 with 1 Axes>"
            ],
            "image/png": "[encoded data removed]"
          },
          "metadata": {
            "needs_background": "light"
          }
        }
      ]
    },
    {
      "cell_type": "markdown",
      "source": [
        "Note:\n",
        "* From above analysis, flight_duration, wants_extra_baggage, length_of_stay, flight_day, sales_channel, flight_hour & wants_preferred_seat are the significant features as per XGBoost feature importance."
      ],
      "metadata": {
        "id": "YnL8zuhJgFBD"
      }
    },
    {
      "cell_type": "markdown",
      "metadata": {
        "id": "7a37d9d7"
      },
      "source": [
        "## Building Model based on 7 significant features & smote-enn balanced sampled data"
      ]
    },
    {
      "cell_type": "code",
      "execution_count": 428,
      "metadata": {
        "id": "a8f30d87"
      },
      "outputs": [],
      "source": [
        "#Preparing two separate dataframe for train & test\n",
        "data2 = pd.DataFrame(data = X_train_se, columns = X_cols)\n",
        "data3 = pd.DataFrame(data = X_test_se, columns = X_cols)"
      ]
    },
    {
      "cell_type": "code",
      "execution_count": 429,
      "metadata": {
        "id": "a3eb4e6c"
      },
      "outputs": [],
      "source": [
        "#Selecting only 7 significant features for training\n",
        "X_train_fi = data2.loc[:, ['num_passengers', 'purchase_lead', 'length_of_stay', 'flight_hour',\n",
        "       'flight_day', 'flight_duration', 'wants_extra_baggage']]"
      ]
    },
    {
      "cell_type": "code",
      "execution_count": 430,
      "metadata": {
        "id": "498b3fe9"
      },
      "outputs": [],
      "source": [
        "#Selecting only 7 significant features for tetsing\n",
        "X_test_fi = data3.loc[:, ['num_passengers', 'purchase_lead', 'length_of_stay', 'flight_hour',\n",
        "       'flight_day', 'flight_duration', 'wants_extra_baggage']]"
      ]
    },
    {
      "cell_type": "code",
      "execution_count": 431,
      "metadata": {
        "id": "90c3f290",
        "outputId": "07e030fa-cad6-457c-93ff-1762bbf34e85",
        "colab": {
          "base_uri": "https://localhost:8080/"
        }
      },
      "outputs": [
        {
          "output_type": "execute_result",
          "data": {
            "text/plain": [
              "((36412, 7), (36412,))"
            ]
          },
          "metadata": {},
          "execution_count": 431
        }
      ],
      "source": [
        "#Size of train data\n",
        "X_train_fi.shape, y_train_se.shape"
      ]
    },
    {
      "cell_type": "code",
      "execution_count": 432,
      "metadata": {
        "id": "3fa70253",
        "outputId": "1e095409-1194-4eb8-89c8-f7ea6519a13a",
        "colab": {
          "base_uri": "https://localhost:8080/"
        }
      },
      "outputs": [
        {
          "output_type": "execute_result",
          "data": {
            "text/plain": [
              "((19607, 7), (19607,))"
            ]
          },
          "metadata": {},
          "execution_count": 432
        }
      ],
      "source": [
        "#Size of test data\n",
        "X_test_fi.shape, y_test_se.shape"
      ]
    },
    {
      "cell_type": "code",
      "execution_count": 433,
      "metadata": {
        "id": "cd8016e1"
      },
      "outputs": [],
      "source": [
        "#Model Building\n",
        "rf_mod4  = RandomForestClassifier(n_estimators=100, criterion='gini', max_depth=None, random_state=0)\n",
        "xgb_mod4 = XGBClassifier(n_estimators=100, random_state=0)"
      ]
    },
    {
      "cell_type": "markdown",
      "metadata": {
        "id": "605d38e6"
      },
      "source": [
        "### Model Training"
      ]
    },
    {
      "cell_type": "code",
      "execution_count": 434,
      "metadata": {
        "id": "619ecc2b",
        "outputId": "23b38bcb-8188-45d9-86cc-a1fa5e455a17",
        "colab": {
          "base_uri": "https://localhost:8080/"
        }
      },
      "outputs": [
        {
          "output_type": "stream",
          "name": "stdout",
          "text": [
            "CPU times: user 7.22 s, sys: 13.1 ms, total: 7.23 s\n",
            "Wall time: 7.22 s\n"
          ]
        },
        {
          "output_type": "execute_result",
          "data": {
            "text/plain": [
              "XGBClassifier()"
            ]
          },
          "metadata": {},
          "execution_count": 434
        }
      ],
      "source": [
        "%%time\n",
        "rf_mod4.fit(X_train_fi, y_train_se)\n",
        "xgb_mod4.fit(X_train_fi, y_train_se)"
      ]
    },
    {
      "cell_type": "markdown",
      "metadata": {
        "id": "e299b5a2"
      },
      "source": [
        "### Model Testing & Evaluation"
      ]
    },
    {
      "cell_type": "code",
      "execution_count": 435,
      "metadata": {
        "id": "bc30222d",
        "outputId": "867b13c2-d5a1-4196-bfce-bc9b312ce30d",
        "colab": {
          "base_uri": "https://localhost:8080/"
        }
      },
      "outputs": [
        {
          "output_type": "stream",
          "name": "stdout",
          "text": [
            "CPU times: user 569 ms, sys: 3.78 ms, total: 573 ms\n",
            "Wall time: 573 ms\n"
          ]
        }
      ],
      "source": [
        "%%time\n",
        "y_pred_rf4  = rf_mod4.predict(X_test_fi)\n",
        "y_pred_xgb4 = xgb_mod4.predict(X_test_fi)"
      ]
    },
    {
      "cell_type": "code",
      "execution_count": 436,
      "metadata": {
        "scrolled": false,
        "id": "e09ba662",
        "outputId": "288a2b1c-89ca-4d70-a914-fa16047230ed",
        "colab": {
          "base_uri": "https://localhost:8080/"
        }
      },
      "outputs": [
        {
          "output_type": "stream",
          "name": "stdout",
          "text": [
            "ROC-AUC score for all models\n",
            "\n",
            "====================================\n",
            "Random Forest : 0.9\n",
            "==================================== \n",
            "\n",
            "\n",
            "====================================\n",
            "XGB : 0.84\n",
            "==================================== \n",
            "\n"
          ]
        }
      ],
      "source": [
        "#Testing the roc-auc score for all models\n",
        "cc = [y_pred_rf4, y_pred_xgb4]\n",
        "mm = ['Random Forest', 'XGB']\n",
        "\n",
        "print('ROC-AUC score for all models')\n",
        "\n",
        "for i,j in zip(cc, mm):\n",
        "    print('\\n====================================')\n",
        "    print(j, ':', roc_auc_score(y_test_se, i).round(2))\n",
        "    print('====================================', '\\n')"
      ]
    },
    {
      "cell_type": "code",
      "execution_count": 437,
      "metadata": {
        "scrolled": false,
        "id": "1689ba90",
        "outputId": "810443d2-66dd-40e8-ff85-1531bcb42b83",
        "colab": {
          "base_uri": "https://localhost:8080/",
          "height": 703
        }
      },
      "outputs": [
        {
          "output_type": "stream",
          "name": "stdout",
          "text": [
            "Confusion Matrix for all models\n",
            "\n",
            " ======================================== \n",
            "\n",
            "Random Forest\n"
          ]
        },
        {
          "output_type": "display_data",
          "data": {
            "text/plain": [
              "<Figure size 432x288 with 2 Axes>"
            ],
            "image/png": "[encoded data removed]"
          },
          "metadata": {
            "needs_background": "light"
          }
        },
        {
          "output_type": "stream",
          "name": "stdout",
          "text": [
            "\n",
            " ======================================== \n",
            "\n",
            "XGB\n"
          ]
        },
        {
          "output_type": "display_data",
          "data": {
            "text/plain": [
              "<Figure size 432x288 with 2 Axes>"
            ],
            "image/png": "[encoded data removed]"
          },
          "metadata": {
            "needs_background": "light"
          }
        }
      ],
      "source": [
        "#Plotting Confusion Matrix for all models\n",
        "mm = ['Random Forest', 'XGB']\n",
        "dd = [rf_mod4, xgb_mod4]\n",
        "\n",
        "print('Confusion Matrix for all models')\n",
        "\n",
        "for i,j in zip(dd, mm):\n",
        "    print('\\n','========================================', '\\n')\n",
        "    print(j)\n",
        "    plot_confusion_matrix(i, X_test_fi, y_test_se, display_labels= ['Not-Booked', 'Booked'], values_format = 'g')   \n",
        "    plt.show()"
      ]
    },
    {
      "cell_type": "code",
      "execution_count": 438,
      "metadata": {
        "scrolled": false,
        "id": "593a4f53",
        "outputId": "b6276172-5190-4f43-c3e9-79aad765ccb1",
        "colab": {
          "base_uri": "https://localhost:8080/"
        }
      },
      "outputs": [
        {
          "output_type": "stream",
          "name": "stdout",
          "text": [
            "======================================================\n",
            "Random Forest \n",
            "               precision    recall  f1-score   support\n",
            "\n",
            "           0       0.86      0.90      0.88      7982\n",
            "           1       0.93      0.90      0.91     11625\n",
            "\n",
            "    accuracy                           0.90     19607\n",
            "   macro avg       0.90      0.90      0.90     19607\n",
            "weighted avg       0.90      0.90      0.90     19607\n",
            "\n",
            "====================================================== \n",
            "\n",
            "======================================================\n",
            "XGB \n",
            "               precision    recall  f1-score   support\n",
            "\n",
            "           0       0.79      0.84      0.81      7982\n",
            "           1       0.89      0.84      0.86     11625\n",
            "\n",
            "    accuracy                           0.84     19607\n",
            "   macro avg       0.84      0.84      0.84     19607\n",
            "weighted avg       0.85      0.84      0.84     19607\n",
            "\n",
            "====================================================== \n",
            "\n"
          ]
        }
      ],
      "source": [
        "#Classification Report for all models\n",
        "cc = [y_pred_rf4, y_pred_xgb4]\n",
        "mm = ['Random Forest', 'XGB']\n",
        "\n",
        "for i,j in zip(cc, mm):\n",
        "    print('======================================================')\n",
        "    print(j, '\\n', classification_report(y_test_se, i))\n",
        "    print('======================================================', '\\n')"
      ]
    },
    {
      "cell_type": "code",
      "execution_count": 439,
      "metadata": {
        "id": "e20339f8",
        "outputId": "58129caa-f7fc-48d4-a60d-c08ac29cf710",
        "colab": {
          "base_uri": "https://localhost:8080/",
          "height": 112
        }
      },
      "outputs": [
        {
          "output_type": "execute_result",
          "data": {
            "text/plain": [
              "               All 19 Feat.  7 Feat.  %Change in Score\n",
              "Random Forest          0.93     0.90             -0.03\n",
              "XGB                    0.84     0.84              0.00"
            ],
            "text/html": [
              "\n",
              "  <div id=\"df-8341b1ae-02b8-457c-8079-313dd73b81a3\">\n",
              "    <div class=\"colab-df-container\">\n",
              "      <div>\n",
              "<style scoped>\n",
              "    .dataframe tbody tr th:only-of-type {\n",
              "        vertical-align: middle;\n",
              "    }\n",
              "\n",
              "    .dataframe tbody tr th {\n",
              "        vertical-align: top;\n",
              "    }\n",
              "\n",
              "    .dataframe thead th {\n",
              "        text-align: right;\n",
              "    }\n",
              "</style>\n",
              "<table border=\"1\" class=\"dataframe\">\n",
              "  <thead>\n",
              "    <tr style=\"text-align: right;\">\n",
              "      <th></th>\n",
              "      <th>All 19 Feat.</th>\n",
              "      <th>7 Feat.</th>\n",
              "      <th>%Change in Score</th>\n",
              "    </tr>\n",
              "  </thead>\n",
              "  <tbody>\n",
              "    <tr>\n",
              "      <th>Random Forest</th>\n",
              "      <td>0.93</td>\n",
              "      <td>0.90</td>\n",
              "      <td>-0.03</td>\n",
              "    </tr>\n",
              "    <tr>\n",
              "      <th>XGB</th>\n",
              "      <td>0.84</td>\n",
              "      <td>0.84</td>\n",
              "      <td>0.00</td>\n",
              "    </tr>\n",
              "  </tbody>\n",
              "</table>\n",
              "</div>\n",
              "      <button class=\"colab-df-convert\" onclick=\"convertToInteractive('df-8341b1ae-02b8-457c-8079-313dd73b81a3')\"\n",
              "              title=\"Convert this dataframe to an interactive table.\"\n",
              "              style=\"display:none;\">\n",
              "        \n",
              "  <svg xmlns=\"http://www.w3.org/2000/svg\" height=\"24px\"viewBox=\"0 0 24 24\"\n",
              "       width=\"24px\">\n",
              "    <path d=\"M0 0h24v24H0V0z\" fill=\"none\"/>\n",
              "    <path d=\"M18.56 5.44l.94 2.06.94-2.06 2.06-.94-2.06-.94-.94-2.06-.94 2.06-2.06.94zm-11 1L8.5 8.5l.94-2.06 2.06-.94-2.06-.94L8.5 2.5l-.94 2.06-2.06.94zm10 10l.94 2.06.94-2.06 2.06-.94-2.06-.94-.94-2.06-.94 2.06-2.06.94z\"/><path d=\"M17.41 7.96l-1.37-1.37c-.4-.4-.92-.59-1.43-.59-.52 0-1.04.2-1.43.59L10.3 9.45l-7.72 7.72c-.78.78-.78 2.05 0 2.83L4 21.41c.39.39.9.59 1.41.59.51 0 1.02-.2 1.41-.59l7.78-7.78 2.81-2.81c.8-.78.8-2.07 0-2.86zM5.41 20L4 18.59l7.72-7.72 1.47 1.35L5.41 20z\"/>\n",
              "  </svg>\n",
              "      </button>\n",
              "      \n",
              "  <style>\n",
              "    .colab-df-container {\n",
              "      display:flex;\n",
              "      flex-wrap:wrap;\n",
              "      gap: 12px;\n",
              "    }\n",
              "\n",
              "    .colab-df-convert {\n",
              "      background-color: #E8F0FE;\n",
              "      border: none;\n",
              "      border-radius: 50%;\n",
              "      cursor: pointer;\n",
              "      display: none;\n",
              "      fill: #1967D2;\n",
              "      height: 32px;\n",
              "      padding: 0 0 0 0;\n",
              "      width: 32px;\n",
              "    }\n",
              "\n",
              "    .colab-df-convert:hover {\n",
              "      background-color: #E2EBFA;\n",
              "      box-shadow: 0px 1px 2px rgba(60, 64, 67, 0.3), 0px 1px 3px 1px rgba(60, 64, 67, 0.15);\n",
              "      fill: #174EA6;\n",
              "    }\n",
              "\n",
              "    [theme=dark] .colab-df-convert {\n",
              "      background-color: #3B4455;\n",
              "      fill: #D2E3FC;\n",
              "    }\n",
              "\n",
              "    [theme=dark] .colab-df-convert:hover {\n",
              "      background-color: #434B5C;\n",
              "      box-shadow: 0px 1px 3px 1px rgba(0, 0, 0, 0.15);\n",
              "      filter: drop-shadow(0px 1px 2px rgba(0, 0, 0, 0.3));\n",
              "      fill: #FFFFFF;\n",
              "    }\n",
              "  </style>\n",
              "\n",
              "      <script>\n",
              "        const buttonEl =\n",
              "          document.querySelector('#df-8341b1ae-02b8-457c-8079-313dd73b81a3 button.colab-df-convert');\n",
              "        buttonEl.style.display =\n",
              "          google.colab.kernel.accessAllowed ? 'block' : 'none';\n",
              "\n",
              "        async function convertToInteractive(key) {\n",
              "          const element = document.querySelector('#df-8341b1ae-02b8-457c-8079-313dd73b81a3');\n",
              "          const dataTable =\n",
              "            await google.colab.kernel.invokeFunction('convertToInteractive',\n",
              "                                                     [key], {});\n",
              "          if (!dataTable) return;\n",
              "\n",
              "          const docLinkHtml = 'Like what you see? Visit the ' +\n",
              "            '<a target=\"_blank\" href=https://colab.research.google.com/notebooks/data_table.ipynb>data table notebook</a>'\n",
              "            + ' to learn more about interactive tables.';\n",
              "          element.innerHTML = '';\n",
              "          dataTable['output_type'] = 'display_data';\n",
              "          await google.colab.output.renderOutput(dataTable, element);\n",
              "          const docLink = document.createElement('div');\n",
              "          docLink.innerHTML = docLinkHtml;\n",
              "          element.appendChild(docLink);\n",
              "        }\n",
              "      </script>\n",
              "    </div>\n",
              "  </div>\n",
              "  "
            ]
          },
          "metadata": {},
          "execution_count": 439
        }
      ],
      "source": [
        "#Comparing the models imbalance & model smote_balance data with balanced accuracy score\n",
        "mod_comp = pd.DataFrame(index=mm, columns=['All 19 Feat.', '7 Feat.'], data={'All 19 Feat.': [roc_auc_score(y_test_se ,y_pred_rf3).round(2),  roc_auc_score(y_test_se ,y_pred_xgb3).round(2)], \n",
        "                                                                      '7 Feat.': [roc_auc_score(y_test_se ,y_pred_rf4).round(2),  roc_auc_score(y_test_se ,y_pred_xgb4).round(2)]\n",
        "                                                                       })\n",
        "mod_comp['%Change in Score'] = mod_comp['7 Feat.'] - mod_comp['All 19 Feat.']\n",
        "\n",
        "mod_comp.sort_values(by = '7 Feat.', ascending = False)"
      ]
    },
    {
      "cell_type": "markdown",
      "source": [
        "Note:\n",
        "* We can finalise, Random Forest model for our dataset.\n",
        "* Random Forest model has outperformed compared to XGBoost model with SMOTE as well as SMOTEENN balanced data with all features vs 7 significant features.\n",
        "* As we can see, with 7 significant features Random forest model is still stable with around 90% accuracy."
      ],
      "metadata": {
        "id": "NBMTmAYOhTRZ"
      }
    },
    {
      "cell_type": "markdown",
      "source": [
        "Thank you!!"
      ],
      "metadata": {
        "id": "T-BmiFBNh2Ay"
      }
    }
  ],
  "metadata": {
    "kernelspec": {
      "display_name": "Python 3.9.13 ('venv': venv)",
      "language": "python",
      "name": "python3"
    },
    "language_info": {
      "codemirror_mode": {
        "name": "ipython",
        "version": 3
      },
      "file_extension": ".py",
      "mimetype": "text/x-python",
      "name": "python",
      "nbconvert_exporter": "python",
      "pygments_lexer": "ipython3",
      "version": "3.9.13"
    },
    "orig_nbformat": 4,
    "vscode": {
      "interpreter": {
        "hash": "4f7924c4c56b083e0e50eadfe7ef592a7a8ef70df33a0047f82280e6be1afe15"
      }
    },
    "colab": {
      "provenance": [],
      "collapsed_sections": [
        "ed1ce873",
        "403e785b",
        "ac627e64"
      ]
    },
    "accelerator": "TPU",
    "gpuClass": "standard"
  },
  "nbformat": 4,
  "nbformat_minor": 0
}