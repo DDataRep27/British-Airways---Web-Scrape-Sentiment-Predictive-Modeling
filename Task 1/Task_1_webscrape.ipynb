{
  "cells": [
    {
      "cell_type": "markdown",
      "source": [
        "# British Airways - Customer Reviews Sentiment Analysis\n",
        "*British Airways (BA) is the flag carrier airline of the United Kingdom (UK). Every day, thousands of BA flights arrive to and depart from the UK, carrying customers across the world. Whether it’s for holidays, work or any other reason, the end-to-end process of scheduling, planning, boarding, fuelling, transporting, landing, and continuously running flights on time, efficiently and with top-class customer service is a huge task with many highly important responsibilities.*\n"
      ],
      "metadata": {
        "id": "2yYYHe2DO_Ey"
      }
    },
    {
      "cell_type": "markdown",
      "source": [
        "# Business Objective\n",
        "* Customers who book a flight with BA will experience many interaction points with the BA brand. Understanding a customer's feelings, needs, and feedback is crucial for any business, including BA.\n",
        "\n",
        "* Our goal is to examine how customers are communicating their positive and negative experiences about the airline. What are the attributes that customers are considering while travelling with an airline. \n",
        "\n",
        "* With this decision-makers can understand which elements of their service influence more in forming a positive review or improves airline brand image."
      ],
      "metadata": {
        "id": "wVl24bG9OR0T"
      }
    },
    {
      "cell_type": "markdown",
      "source": [
        "## Import required Libraries"
      ],
      "metadata": {
        "id": "4T_TPaC9VpBP"
      }
    },
    {
      "cell_type": "code",
      "execution_count": null,
      "metadata": {
        "id": "ST6VBmIm9Jg3"
      },
      "outputs": [],
      "source": [
        "#Import Libraries\n",
        "import requests\n",
        "from bs4 import BeautifulSoup\n",
        "import pandas as pd\n",
        "import re\n",
        "from itertools import chain"
      ]
    },
    {
      "cell_type": "markdown",
      "source": [
        "## Data Preprocessing\n",
        "* Web Scraping\n",
        "* Storing & Integrating data\n",
        "* Transform raw data into readable format\n",
        "* Saving the file for further analysis"
      ],
      "metadata": {
        "id": "z34ou5CZUwaN"
      }
    },
    {
      "cell_type": "code",
      "execution_count": null,
      "metadata": {
        "colab": {
          "base_uri": "https://localhost:8080/"
        },
        "id": "CAkpMJ3i9Jg5",
        "outputId": "4c2b4af1-22de-4ce4-d084-ecc58068636a"
      },
      "outputs": [
        {
          "output_type": "stream",
          "name": "stdout",
          "text": [
            "Enter the no. pages to be scraped: 35\n",
            "   ---> 3454 total reviews\n",
            "   ---> 3489 total ratings\n",
            "   ---> 3454 total countries\n",
            "   ---> 3454 total date\n",
            "   ---> 13300 total travellers\n"
          ]
        }
      ],
      "source": [
        "#Webscraping the data from the website using below base_url link\n",
        "base_url = \"https://www.airlinequality.com/airline-reviews/british-airways\"\n",
        "\n",
        "\n",
        "#Defining page size and multipages number\n",
        "pages = int(input(\"Enter the no. pages to be scraped: \"))\n",
        "page_size = 100\n",
        "\n",
        "\n",
        "#Creating an empty list to store the scraped data\n",
        "reviews = []\n",
        "rating = []\n",
        "country = []\n",
        "date = []\n",
        "traveller = []\n",
        "\n",
        "\n",
        "#Created a Loop to extract the data from website using beautiful soup:\n",
        "for i in range(1, pages + 1):\n",
        "    \n",
        "    #print(f\"Scraping page {i}\")\n",
        "\n",
        "    # Create URL to collect links from paginated data\n",
        "    url = f\"{base_url}/page/{i}/?sortby=post_date%3ADesc&pagesize={page_size}\"\n",
        "\n",
        "    # Collect HTML data from this page\n",
        "    response = requests.get(url)\n",
        "\n",
        "    # Parse content\n",
        "    content = response.content\n",
        "    parsed_content = BeautifulSoup(content, 'html.parser')\n",
        "\n",
        "    for para in parsed_content.find_all(\"div\", {\"class\": \"text_content\"}):\n",
        "        reviews.append(para.get_text())\n",
        "    \n",
        "    for rat in parsed_content.find_all('div', {'class':'rating-10'}):\n",
        "        rating.append(rat.getText())\n",
        "\n",
        "    for ctr in parsed_content.find_all('h3'):\n",
        "        country.append(ctr.span.next_sibling)\n",
        "\n",
        "    for dt in parsed_content.find_all('time'):\n",
        "        date.append(dt.get_text())\n",
        "\n",
        "    for tvr in parsed_content.find_all('td', {\"class\":\"review-value \"}):\n",
        "        traveller.append(tvr.get_text())\n",
        "\n",
        "\n",
        "print(f\"   ---> {len(reviews)} total reviews\")\n",
        "print(f\"   ---> {len(rating)} total ratings\")\n",
        "print(f\"   ---> {len(country)} total countries\")\n",
        "print(f\"   ---> {len(date)} total date\")\n",
        "print(f\"   ---> {len(traveller)} total travellers\")"
      ]
    },
    {
      "cell_type": "code",
      "source": [
        "#Reviewing the rating data\n",
        "date[0:5]"
      ],
      "metadata": {
        "colab": {
          "base_uri": "https://localhost:8080/"
        },
        "id": "_oEIlNhsmzw_",
        "outputId": "117da26a-07ea-4672-c176-d19c01b61e24"
      },
      "execution_count": null,
      "outputs": [
        {
          "output_type": "execute_result",
          "data": {
            "text/plain": [
              "['9th January 2023',\n",
              " '8th January 2023',\n",
              " '6th January 2023',\n",
              " '2nd January 2023',\n",
              " '2nd January 2023']"
            ]
          },
          "metadata": {},
          "execution_count": 181
        }
      ]
    },
    {
      "cell_type": "code",
      "source": [
        "#Reviewing the rating data\n",
        "rating[0:5]"
      ],
      "metadata": {
        "colab": {
          "base_uri": "https://localhost:8080/"
        },
        "id": "-W_6EM9PtXEB",
        "outputId": "2bf284f0-2cbc-4e33-aa3a-4d3655a62b06"
      },
      "execution_count": null,
      "outputs": [
        {
          "output_type": "execute_result",
          "data": {
            "text/plain": [
              "['\\n\\n\\t\\t\\t\\t\\t\\t\\t\\t\\t\\t\\t\\t\\t5/10 ',\n",
              " '\\n4/10\\n',\n",
              " '\\n5/10\\n',\n",
              " '\\n1/10\\n',\n",
              " '\\n1/10\\n']"
            ]
          },
          "metadata": {},
          "execution_count": 182
        }
      ]
    },
    {
      "cell_type": "code",
      "source": [
        "#Checking the unique values in rating\n",
        "set(rating)"
      ],
      "metadata": {
        "id": "3ClwODA7tW_1",
        "colab": {
          "base_uri": "https://localhost:8080/"
        },
        "outputId": "82685176-bd0b-45d5-97c5-814c204e99c9"
      },
      "execution_count": null,
      "outputs": [
        {
          "output_type": "execute_result",
          "data": {
            "text/plain": [
              "{'\\n\\n\\t\\t\\t\\t\\t\\t\\t\\t\\t\\t\\t\\t\\t5/10 ',\n",
              " '\\n1/10\\n',\n",
              " '\\n10/10\\n',\n",
              " '\\n2/10\\n',\n",
              " '\\n3/10\\n',\n",
              " '\\n4/10\\n',\n",
              " '\\n5/10\\n',\n",
              " '\\n6/10\\n',\n",
              " '\\n7/10\\n',\n",
              " '\\n8/10\\n',\n",
              " '\\n9/10\\n',\n",
              " '\\r\\n                        na\\r\\n                    '}"
            ]
          },
          "metadata": {},
          "execution_count": 183
        }
      ]
    },
    {
      "cell_type": "code",
      "source": [
        "#Counting the error values\n",
        "rating.count('\\r\\n                        na\\r\\n                    ')"
      ],
      "metadata": {
        "colab": {
          "base_uri": "https://localhost:8080/"
        },
        "id": "M1sAEAfOCzLC",
        "outputId": "90a5cbc4-64c6-45bd-a994-ed4e5e54bcb1"
      },
      "execution_count": null,
      "outputs": [
        {
          "output_type": "execute_result",
          "data": {
            "text/plain": [
              "5"
            ]
          },
          "metadata": {},
          "execution_count": 184
        }
      ]
    },
    {
      "cell_type": "code",
      "source": [
        "#Replacing the error values with NaN\n",
        "for i in range(len(rating)):\n",
        "    if rating[i]=='\\r\\n                        na\\r\\n                    ':\n",
        "        rating[i]='NaN'\n",
        "\n",
        "#Checking the unique values\n",
        "b = set(rating)\n",
        "b = list(b)\n",
        "print(b)\n",
        "\n",
        "#Checking the count\n",
        "print('Total Count: ', len(rating))"
      ],
      "metadata": {
        "colab": {
          "base_uri": "https://localhost:8080/"
        },
        "id": "no5dBBYwC0yG",
        "outputId": "5fdf133e-5217-42e8-82da-91e52050b547"
      },
      "execution_count": null,
      "outputs": [
        {
          "output_type": "stream",
          "name": "stdout",
          "text": [
            "['\\n4/10\\n', '\\n9/10\\n', '\\n6/10\\n', '\\n8/10\\n', '\\n\\n\\t\\t\\t\\t\\t\\t\\t\\t\\t\\t\\t\\t\\t5/10 ', '\\n2/10\\n', '\\n10/10\\n', 'NaN', '\\n7/10\\n', '\\n1/10\\n', '\\n5/10\\n', '\\n3/10\\n']\n",
            "Total Count:  3489\n"
          ]
        }
      ]
    },
    {
      "cell_type": "code",
      "source": [
        "#Counting the overall rating value for total reviews\n",
        "rating.count('\\n\\n\\t\\t\\t\\t\\t\\t\\t\\t\\t\\t\\t\\t\\t5/10 ')"
      ],
      "metadata": {
        "id": "8G31WBaftXBt",
        "colab": {
          "base_uri": "https://localhost:8080/"
        },
        "outputId": "859d7984-e686-469c-e8b2-1b99af6c41be"
      },
      "execution_count": null,
      "outputs": [
        {
          "output_type": "execute_result",
          "data": {
            "text/plain": [
              "35"
            ]
          },
          "metadata": {},
          "execution_count": 186
        }
      ]
    },
    {
      "cell_type": "code",
      "source": [
        "#Removing the above value\n",
        "rating = [x for x in rating if x!='\\n\\n\\t\\t\\t\\t\\t\\t\\t\\t\\t\\t\\t\\t\\t5/10 ']\n",
        "\n",
        "#Checking the unique values\n",
        "b = set(rating)\n",
        "b = list(b)\n",
        "print(b)\n",
        "\n",
        "#Checking the count\n",
        "print('Total Count: ', len(rating))"
      ],
      "metadata": {
        "colab": {
          "base_uri": "https://localhost:8080/"
        },
        "id": "-y_clYlbCurw",
        "outputId": "f42b13a2-a47a-4acc-83b1-de1146ba2d47"
      },
      "execution_count": null,
      "outputs": [
        {
          "output_type": "stream",
          "name": "stdout",
          "text": [
            "['\\n4/10\\n', '\\n9/10\\n', '\\n6/10\\n', '\\n8/10\\n', '\\n2/10\\n', '\\n10/10\\n', 'NaN', '\\n7/10\\n', '\\n1/10\\n', '\\n5/10\\n', '\\n3/10\\n']\n",
            "Total Count:  3454\n"
          ]
        }
      ]
    },
    {
      "cell_type": "code",
      "source": [
        "#Extracting only the ratings number from rating data \n",
        "rat_1 = [item.split('/', 1)[0] for item in rating]\n",
        "rat_2 = [item.split() for item in rat_1]\n",
        "fin_ratings = list(chain.from_iterable(rat_2))\n",
        "\n",
        "#Reviewing the cleaned rating data\n",
        "print('Count of total ratings:', len(fin_ratings),'\\n')\n",
        "\n",
        "#Checking the unique values in cleaned data\n",
        "b = set(fin_ratings)\n",
        "b = list(b)\n",
        "print(b)"
      ],
      "metadata": {
        "colab": {
          "base_uri": "https://localhost:8080/"
        },
        "id": "2uLY6GrnSaoK",
        "outputId": "8989f970-1901-4654-83c8-2bb2381ef0c7"
      },
      "execution_count": null,
      "outputs": [
        {
          "output_type": "stream",
          "name": "stdout",
          "text": [
            "Count of total ratings: 3454 \n",
            "\n",
            "['1', '8', '6', '7', 'NaN', '5', '3', '2', '10', '9', '4']\n"
          ]
        }
      ]
    },
    {
      "cell_type": "code",
      "source": [
        "#Reviewing the country\n",
        "country[0:5]"
      ],
      "metadata": {
        "colab": {
          "base_uri": "https://localhost:8080/"
        },
        "id": "KX7PbTaUkQUT",
        "outputId": "1b56fc32-a6ec-482f-b778-ff060a44e50e"
      },
      "execution_count": null,
      "outputs": [
        {
          "output_type": "execute_result",
          "data": {
            "text/plain": [
              "[' (United Kingdom) ',\n",
              " ' (United Kingdom) ',\n",
              " ' (Canada) ',\n",
              " ' (United States) ',\n",
              " ' (United States) ']"
            ]
          },
          "metadata": {},
          "execution_count": 189
        }
      ]
    },
    {
      "cell_type": "code",
      "source": [
        "#Extracting only the country name from country data \n",
        "for i in range(len(country)):\n",
        "    \n",
        "    country[i] = re.sub(r\"\\W\", \" \", country[i]) #Replacing non-alpha numeric character with empty space\n",
        "    country[i] = country[i].strip()\n",
        "\n",
        "print(f\"   ---> {len(country)} total country entries\")"
      ],
      "metadata": {
        "colab": {
          "base_uri": "https://localhost:8080/"
        },
        "id": "mgT5KhFdJrnh",
        "outputId": "9ba6a1a1-eaf3-425d-cf99-211a7b17bcd1"
      },
      "execution_count": null,
      "outputs": [
        {
          "output_type": "stream",
          "name": "stdout",
          "text": [
            "   ---> 3454 total country entries\n"
          ]
        }
      ]
    },
    {
      "cell_type": "code",
      "source": [
        "#After above operation\n",
        "country[0]"
      ],
      "metadata": {
        "colab": {
          "base_uri": "https://localhost:8080/",
          "height": 35
        },
        "id": "srjWggqDpWVQ",
        "outputId": "9cb88aae-9cf5-4b29-e8ff-6bcd08e1d466"
      },
      "execution_count": null,
      "outputs": [
        {
          "output_type": "execute_result",
          "data": {
            "text/plain": [
              "'United Kingdom'"
            ],
            "application/vnd.google.colaboratory.intrinsic+json": {
              "type": "string"
            }
          },
          "metadata": {},
          "execution_count": 191
        }
      ]
    },
    {
      "cell_type": "code",
      "source": [
        "#Reviewing the scraped reviews\n",
        "reviews[0:3]"
      ],
      "metadata": {
        "id": "uoV30-bEf0GO",
        "colab": {
          "base_uri": "https://localhost:8080/"
        },
        "outputId": "98c96d33-0caa-44cf-e195-393483da339c"
      },
      "execution_count": null,
      "outputs": [
        {
          "output_type": "execute_result",
          "data": {
            "text/plain": [
              "['✅ Trip Verified |  Flew ATL to LHR 8th Jan 2023. Was unlucky enough to be on board a 23 year old 777. Refit gave it a decent IFE screen and the seat looked decent. Although combine the IFE with the cheap and nasty earbuds, and any movie can be ruined. Headrest was great, just a pity little padding is used on the seat as my Wife and I were very uncomfortable. The leg room in general is poor, especially when passengers keep their seat reclined from start to finish. Zero room. Aircraft was tired. Rubber spacers falling out, silicone sealer falling apart in the toilets. Toilet seats old, stained. Rubber on arm rest was hanging off. No post take off drinks/snacks offered.  Meal was sent out after a couple of hours. Was poor. Chicken cubes that reminded me of dog food, mashed potatoes that were purified within an inch of their life. Stale rock hard roll, salad which was rice and carrots?! Dried crackers with no cheese. Kids meal was just as sad. Tiny leaf salad with enough dressing to refloat a shipwreck. Coffee creamer was given with the kids meal? Snack was decent for the adults, bagel with cheese and egg. Hot and tasty. Kids snack was a green wrap with spinach and onions in it.  Very very poor. Mix the food, BA service with a grunt, being crammed into a seat for 7 hours, landing at a remote stand and enduring a bus to the terminal and BA in my opinion, is terrible. This flight was so disappointing. Other than one great member of cabin crew, everything else was just average.',\n",
              " 'Not Verified |  Great thing about British Airways A380 is the economy section upstairs. Get this if you can as it allows you to have small stowage cupboards at the window seats. Despite being not very old, the A380 looked tired inside. Broken side stowage, a seat that reclined uncontrollably and slow to react IFE. The food was supposed to be Christmas dinner. 3 wafer thin bits of dry turkey, 4 over cooked sprouts and some cubed potatoes. Poor in taste and quality. Mousse desert was great though. Slight issue during the snack meal. Ordered a childs option which was marked as such. Regular meal arrived as well and they were exactly the same. Asked a crew member to be told the difference was the sticker on the box. Staff were ok. Couple decent but mostly just ok. Overall, BA just seems a tad cheap these days. Great to sit upstairs but that was where the enjoyment ended. Just seemed a bit dull and like BA are just an average airline.\\r\\n',\n",
              " 'Not Verified | The staff are friendly. The plane was cold, we were shivering, they gave light blankets but they were not enough. Meals were basic. Entertainment was basic. Luggage is delayed, today is day 6 and BA staff over the phone say \"call after 72 hours\". Tracking system is very vague, had to extract information from staff that they arrived to Vancouver on Jan 2nd. I offered to collect baggage but very vague answer \"call the Airport\", asked her for BA phone number at YVR but she said \"we don\\'t have a phone number for you to call, call the main Airport\". Their policy states you can make a claim only after 21 days.',\n",
              " '✅ Trip Verified | Probably the worst business class experience I\\'ve ever had on an airline. Just a few of the issues: Required to purchase seats on international (Club World) business class. This was not made known during the ticket purchase process and cost me an additional $600 on a single leg (LHR-LAX) for a family of four. Given the very strange business class seating layout on BA A380s, leaving the seat selection to change could have been disastrous for my family. Ridiculously long boarding times on even small aircraft. On my VIE-LHR leg, the boarding time for the A320 was over 50 minutes long, leading to a delayed departure. There was no urgency on the part of staff to speed up the boarding times. Severe overcrowding in the boarding area in satellite C of terminal 5 at Heathrow. Boarding staff would not allow passengers to enter the roped off queue area before boarding (I have no idea why not) and so crowding was extreme. The overall boarding area was far too small for an A380, and I believe this satellite was designed and built after the first A380s were delivered. Online check-in in advance of flights appears to be completely broken. I was urged repeatedly (on the BA website, and via email and text) to \"upload my COVID documents\" even though, at the end of 2022, there are no COVID documents required for travel. After I filled in basic contact information on the website - and did not upload any \"COVID documentation\" - I was informed (several hours later) that my \"COVID documents have been verified\". I then received another text message urging me to \"upload my COVID documentation\". On the VIE-LHR leg, the shop.ba.com page that one is directed to after attempting to connect to wifi on the plane indicated ridiculously incorrect remaining flight times - over six hours, and then four hours just before landing. BA lounges for Club Europe and Club World at Heathrow are often seriously overcrowded. Furniture and carpeting and other finishes in the clubs are worn or dirty. That said, the food in the lounges was of pretty good quality. The food quality in BA lounges at Heathrow may be the only redeeming thing about this airline. Onboard, food and beverage service was far below average for international business class. Terrible, one might say. On the LHR-LAX leg, there was no pre-meal beverage service and there were NO mid-flight beverage services at all. Unlike most business class offerings on other airlines, there was no taking a meal order by flight attendants at the beginning of the flight. Meals were brought out haphazardly shortly after take off, with the \"chicken or fish?\" type of meal selection similar to economy class. There was no coffee or tea service after meals. Food quality was poor, with the pre-landing snack of a \"ploughman\\'s lunch\" being downright disgusting. . There was no beverage or bar set-up in the galley areas - beverages available to passengers during the flight - as is standard on most international business class offerings. Even bottles of water seemed be hidden away, requiring one to ask the flight attendants for water. I won\\'t comment on the bizarre seating layout on the A380, as others have rightly panned the awkwardness and extremely poor design of the seating. The seats are not 6\\' 2\" long as stated on the BA website, and I found the seats too short for my 6\\' 2\" height. The \"Priority\" luggage tags were not followed in the baggage delivery.',\n",
              " '✅ Trip Verified | Definitely not recommended, especially for business class. The seats are ridiculous and small, the food is mediocre if that, and good luck with the internet even if you pay for full internet for the entire flight. The service however has been great. My attendant saved me from crying. I don’t know who designed this aircraft but in this expensive business class, in order to move out of you middle seat to go to the bathroom you must rudely climb over the person’s legs sitting in the aisle seat. Your seat is like an enclosed tiny cubicle with no storage space. I’ve unfortunately traveled British Airways business class at least 4 times within the last 4 months. Never again unless there is no other choice. By the way, the business class lounge south at Heathrow is a cattle pen.']"
            ]
          },
          "metadata": {},
          "execution_count": 192
        }
      ]
    },
    {
      "cell_type": "code",
      "source": [
        "#Cleaning the reviews from reviews data \n",
        "for i in range(len(reviews)):\n",
        "    \n",
        "    reviews[i] = re.sub(r\"✅ Trip Verified \"+\"| \", \" \", reviews[i])\n",
        "    reviews[i] = re.sub(r\"Not Verified \"+\"| \", \" \", reviews[i])\n",
        "    reviews[i] = reviews[i].strip(\" | \")\n",
        "\n",
        "print(f\"   ---> {len(reviews)} total reviews entries\")"
      ],
      "metadata": {
        "colab": {
          "base_uri": "https://localhost:8080/"
        },
        "id": "YmPXjJgs5uyu",
        "outputId": "9054fbde-7712-4001-98f7-87443eabcdec"
      },
      "execution_count": null,
      "outputs": [
        {
          "output_type": "stream",
          "name": "stdout",
          "text": [
            "   ---> 3454 total reviews entries\n"
          ]
        }
      ]
    },
    {
      "cell_type": "code",
      "source": [
        "#Reviewing the reviews after above operation\n",
        "reviews[0:3]"
      ],
      "metadata": {
        "colab": {
          "base_uri": "https://localhost:8080/"
        },
        "id": "E18_j-3Q5unB",
        "outputId": "f0663cb7-fcb6-4e1e-9596-6dc9003bf9b1"
      },
      "execution_count": null,
      "outputs": [
        {
          "output_type": "execute_result",
          "data": {
            "text/plain": [
              "['Flew ATL to LHR 8th Jan 2023. Was unlucky enough to be on board a 23 year old 777. Refit gave it a decent IFE screen and the seat looked decent. Although combine the IFE with the cheap and nasty earbuds, and any movie can be ruined. Headrest was great, just a pity little padding is used on the seat as my Wife and I were very uncomfortable. The leg room in general is poor, especially when passengers keep their seat reclined from start to finish. Zero room. Aircraft was tired. Rubber spacers falling out, silicone sealer falling apart in the toilets. Toilet seats old, stained. Rubber on arm rest was hanging off. No post take off drinks/snacks offered.  Meal was sent out after a couple of hours. Was poor. Chicken cubes that reminded me of dog food, mashed potatoes that were purified within an inch of their life. Stale rock hard roll, salad which was rice and carrots?! Dried crackers with no cheese. Kids meal was just as sad. Tiny leaf salad with enough dressing to refloat a shipwreck. Coffee creamer was given with the kids meal? Snack was decent for the adults, bagel with cheese and egg. Hot and tasty. Kids snack was a green wrap with spinach and onions in it.  Very very poor. Mix the food, BA service with a grunt, being crammed into a seat for 7 hours, landing at a remote stand and enduring a bus to the terminal and BA in my opinion, is terrible. This flight was so disappointing. Other than one great member of cabin crew, everything else was just average.',\n",
              " 'Great thing about British Airways A380 is the economy section upstairs. Get this if you can as it allows you to have small stowage cupboards at the window seats. Despite being not very old, the A380 looked tired inside. Broken side stowage, a seat that reclined uncontrollably and slow to react IFE. The food was supposed to be Christmas dinner. 3 wafer thin bits of dry turkey, 4 over cooked sprouts and some cubed potatoes. Poor in taste and quality. Mousse desert was great though. Slight issue during the snack meal. Ordered a childs option which was marked as such. Regular meal arrived as well and they were exactly the same. Asked a crew member to be told the difference was the sticker on the box. Staff were ok. Couple decent but mostly just ok. Overall, BA just seems a tad cheap these days. Great to sit upstairs but that was where the enjoyment ended. Just seemed a bit dull and like BA are just an average airline.\\r\\n',\n",
              " 'The staff are friendly. The plane was cold, we were shivering, they gave light blankets but they were not enough. Meals were basic. Entertainment was basic. Luggage is delayed, today is day 6 and BA staff over the phone say \"call after 72 hours\". Tracking system is very vague, had to extract information from staff that they arrived to Vancouver on Jan 2nd. I offered to collect baggage but very vague answer \"call the Airport\", asked her for BA phone number at YVR but she said \"we don\\'t have a phone number for you to call, call the main Airport\". Their policy states you can make a claim only after 21 days.',\n",
              " 'Probably the worst business class experience I\\'ve ever had on an airline. Just a few of the issues: Required to purchase seats on international (Club World) business class. This was not made known during the ticket purchase process and cost me an additional $600 on a single leg (LHR-LAX) for a family of four. Given the very strange business class seating layout on BA A380s, leaving the seat selection to change could have been disastrous for my family. Ridiculously long boarding times on even small aircraft. On my VIE-LHR leg, the boarding time for the A320 was over 50 minutes long, leading to a delayed departure. There was no urgency on the part of staff to speed up the boarding times. Severe overcrowding in the boarding area in satellite C of terminal 5 at Heathrow. Boarding staff would not allow passengers to enter the roped off queue area before boarding (I have no idea why not) and so crowding was extreme. The overall boarding area was far too small for an A380, and I believe this satellite was designed and built after the first A380s were delivered. Online check-in in advance of flights appears to be completely broken. I was urged repeatedly (on the BA website, and via email and text) to \"upload my COVID documents\" even though, at the end of 2022, there are no COVID documents required for travel. After I filled in basic contact information on the website - and did not upload any \"COVID documentation\" - I was informed (several hours later) that my \"COVID documents have been verified\". I then received another text message urging me to \"upload my COVID documentation\". On the VIE-LHR leg, the shop.ba.com page that one is directed to after attempting to connect to wifi on the plane indicated ridiculously incorrect remaining flight times - over six hours, and then four hours just before landing. BA lounges for Club Europe and Club World at Heathrow are often seriously overcrowded. Furniture and carpeting and other finishes in the clubs are worn or dirty. That said, the food in the lounges was of pretty good quality. The food quality in BA lounges at Heathrow may be the only redeeming thing about this airline. Onboard, food and beverage service was far below average for international business class. Terrible, one might say. On the LHR-LAX leg, there was no pre-meal beverage service and there were NO mid-flight beverage services at all. Unlike most business class offerings on other airlines, there was no taking a meal order by flight attendants at the beginning of the flight. Meals were brought out haphazardly shortly after take off, with the \"chicken or fish?\" type of meal selection similar to economy class. There was no coffee or tea service after meals. Food quality was poor, with the pre-landing snack of a \"ploughman\\'s lunch\" being downright disgusting. . There was no beverage or bar set-up in the galley areas - beverages available to passengers during the flight - as is standard on most international business class offerings. Even bottles of water seemed be hidden away, requiring one to ask the flight attendants for water. I won\\'t comment on the bizarre seating layout on the A380, as others have rightly panned the awkwardness and extremely poor design of the seating. The seats are not 6\\' 2\" long as stated on the BA website, and I found the seats too short for my 6\\' 2\" height. The \"Priority\" luggage tags were not followed in the baggage delivery.',\n",
              " 'Definitely not recommended, especially for business class. The seats are ridiculous and small, the food is mediocre if that, and good luck with the internet even if you pay for full internet for the entire flight. The service however has been great. My attendant saved me from crying. I don’t know who designed this aircraft but in this expensive business class, in order to move out of you middle seat to go to the bathroom you must rudely climb over the person’s legs sitting in the aisle seat. Your seat is like an enclosed tiny cubicle with no storage space. I’ve unfortunately traveled British Airways business class at least 4 times within the last 4 months. Never again unless there is no other choice. By the way, the business class lounge south at Heathrow is a cattle pen.']"
            ]
          },
          "metadata": {},
          "execution_count": 194
        }
      ]
    },
    {
      "cell_type": "code",
      "source": [
        "#Reviewing the travellers data\n",
        "traveller[0:15]"
      ],
      "metadata": {
        "colab": {
          "base_uri": "https://localhost:8080/"
        },
        "id": "8IHhxzSs222C",
        "outputId": "9a3b22fc-740f-4ea3-9aa3-6df820bad469"
      },
      "execution_count": null,
      "outputs": [
        {
          "output_type": "execute_result",
          "data": {
            "text/plain": [
              "['Boeing 777-200',\n",
              " 'Family Leisure',\n",
              " 'Economy Class',\n",
              " 'Atlanta to London',\n",
              " 'January 2023',\n",
              " 'A380',\n",
              " 'Family Leisure',\n",
              " 'Economy Class',\n",
              " 'London to Chicago',\n",
              " 'December 2022',\n",
              " 'Family Leisure',\n",
              " 'Economy Class',\n",
              " 'Istanbul to Vancouver via Heathrow',\n",
              " 'January 2023',\n",
              " 'A320, A380']"
            ]
          },
          "metadata": {},
          "execution_count": 195
        }
      ]
    },
    {
      "cell_type": "code",
      "source": [
        "#Extracting only the Class type from travellers data \n",
        "r = []\n",
        "\n",
        "for i in range(len(traveller)): \n",
        "    r.append(re.findall(r\"[a-zA-Z]+\\sClass|Premium\\s+Economy\", traveller[i]))\n",
        "\n",
        "r = [x for x in r if x != []]\n",
        "print(len(r))"
      ],
      "metadata": {
        "colab": {
          "base_uri": "https://localhost:8080/"
        },
        "id": "nA54aP4Jysg5",
        "outputId": "7027cdc4-157a-4c46-eca2-fa2c5800c6a8"
      },
      "execution_count": null,
      "outputs": [
        {
          "output_type": "stream",
          "name": "stdout",
          "text": [
            "3453\n"
          ]
        }
      ]
    },
    {
      "cell_type": "code",
      "source": [
        "#Reviewing the list\n",
        "r[0:10]"
      ],
      "metadata": {
        "colab": {
          "base_uri": "https://localhost:8080/"
        },
        "id": "4K9mT-OM37v7",
        "outputId": "03cf6930-53bc-450d-f69a-d52d4574807f"
      },
      "execution_count": null,
      "outputs": [
        {
          "output_type": "execute_result",
          "data": {
            "text/plain": [
              "[['Economy Class'],\n",
              " ['Economy Class'],\n",
              " ['Economy Class'],\n",
              " ['Business Class'],\n",
              " ['Business Class'],\n",
              " ['Economy Class'],\n",
              " ['Economy Class'],\n",
              " ['Business Class'],\n",
              " ['Premium Economy'],\n",
              " ['Business Class']]"
            ]
          },
          "metadata": {},
          "execution_count": 197
        }
      ]
    },
    {
      "cell_type": "code",
      "source": [
        "#Converting 2D list to 1D\n",
        "seat = []\n",
        "\n",
        "for j in range(len(r)):\n",
        "    seat.append(r[j][0])"
      ],
      "metadata": {
        "id": "6Kcu0ME23DU1"
      },
      "execution_count": null,
      "outputs": []
    },
    {
      "cell_type": "code",
      "source": [
        "#Reviewing the list\n",
        "seat[0:10]"
      ],
      "metadata": {
        "colab": {
          "base_uri": "https://localhost:8080/"
        },
        "id": "oRgSQmxEnYIQ",
        "outputId": "eb97a880-b9fa-4dbd-e26d-f19a22ec414a"
      },
      "execution_count": null,
      "outputs": [
        {
          "output_type": "execute_result",
          "data": {
            "text/plain": [
              "['Economy Class',\n",
              " 'Economy Class',\n",
              " 'Economy Class',\n",
              " 'Business Class',\n",
              " 'Business Class',\n",
              " 'Economy Class',\n",
              " 'Economy Class',\n",
              " 'Business Class',\n",
              " 'Premium Economy',\n",
              " 'Business Class']"
            ]
          },
          "metadata": {},
          "execution_count": 199
        }
      ]
    },
    {
      "cell_type": "code",
      "source": [
        "#Checking the length\n",
        "len(seat)"
      ],
      "metadata": {
        "colab": {
          "base_uri": "https://localhost:8080/"
        },
        "id": "8T7TW6Z_3uLf",
        "outputId": "d124e601-f31e-49fe-b19d-fa6b120bfd05"
      },
      "execution_count": null,
      "outputs": [
        {
          "output_type": "execute_result",
          "data": {
            "text/plain": [
              "3453"
            ]
          },
          "metadata": {},
          "execution_count": 200
        }
      ]
    },
    {
      "cell_type": "code",
      "source": [
        "#Reviewing the length of data before making the DataFrame\n",
        "print(f\"   ---> {len(reviews)} total reviews\")\n",
        "print(f\"   ---> {len(fin_ratings)} total ratings\")\n",
        "print(f\"   ---> {len(country)} total countries\")\n",
        "print(f\"   ---> {len(date)} total date\")\n",
        "print(f\"   ---> {len(seat)} total seats\")\n",
        "\n",
        "\n",
        "#Imputing NaN if length are not equal \n",
        "if len(reviews) != len(seat):\n",
        "    # Append NaN values to the list with smaller length\n",
        "    if len(reviews) > len(seat):\n",
        "        value = 'NaN'\n",
        "        seat += (len(reviews)-len(seat)) * [value]\n",
        "\n",
        "print(f\"   ---> {len(seat)} total seats after imputing\")"
      ],
      "metadata": {
        "colab": {
          "base_uri": "https://localhost:8080/"
        },
        "id": "rSMQPP_Q7zMX",
        "outputId": "2404f206-a577-4b1f-91ca-2dd56e4ceb19"
      },
      "execution_count": null,
      "outputs": [
        {
          "output_type": "stream",
          "name": "stdout",
          "text": [
            "   ---> 3454 total reviews\n",
            "   ---> 3454 total ratings\n",
            "   ---> 3454 total countries\n",
            "   ---> 3454 total date\n",
            "   ---> 3454 total seats\n",
            "   ---> 3454 total seats after above operation\n"
          ]
        }
      ]
    },
    {
      "cell_type": "code",
      "execution_count": null,
      "metadata": {
        "id": "7yxYKwVc9Jg6",
        "colab": {
          "base_uri": "https://localhost:8080/",
          "height": 241
        },
        "outputId": "cf8ff2fa-fddd-49ca-c96c-f343f69e0c03"
      },
      "outputs": [
        {
          "output_type": "stream",
          "name": "stdout",
          "text": [
            "Shape of dataset (3454, 5) \n",
            "\n"
          ]
        },
        {
          "output_type": "execute_result",
          "data": {
            "text/plain": [
              "               Date                                            Reviews Rating  \\\n",
              "0  9th January 2023  Flew ATL to LHR 8th Jan 2023. Was unlucky enou...      4   \n",
              "1  8th January 2023  Great thing about British Airways A380 is the ...      5   \n",
              "2  6th January 2023  The staff are friendly. The plane was cold, we...      1   \n",
              "3  2nd January 2023  Probably the worst business class experience I...      1   \n",
              "4  2nd January 2023  Definitely not recommended, especially for bus...      2   \n",
              "\n",
              "            Class         Country  \n",
              "0   Economy Class  United Kingdom  \n",
              "1   Economy Class  United Kingdom  \n",
              "2   Economy Class          Canada  \n",
              "3  Business Class   United States  \n",
              "4  Business Class   United States  "
            ],
            "text/html": [
              "\n",
              "  <div id=\"df-5ebf9b3e-417e-4661-909f-9b592a8838da\">\n",
              "    <div class=\"colab-df-container\">\n",
              "      <div>\n",
              "<style scoped>\n",
              "    .dataframe tbody tr th:only-of-type {\n",
              "        vertical-align: middle;\n",
              "    }\n",
              "\n",
              "    .dataframe tbody tr th {\n",
              "        vertical-align: top;\n",
              "    }\n",
              "\n",
              "    .dataframe thead th {\n",
              "        text-align: right;\n",
              "    }\n",
              "</style>\n",
              "<table border=\"1\" class=\"dataframe\">\n",
              "  <thead>\n",
              "    <tr style=\"text-align: right;\">\n",
              "      <th></th>\n",
              "      <th>Date</th>\n",
              "      <th>Reviews</th>\n",
              "      <th>Rating</th>\n",
              "      <th>Class</th>\n",
              "      <th>Country</th>\n",
              "    </tr>\n",
              "  </thead>\n",
              "  <tbody>\n",
              "    <tr>\n",
              "      <th>0</th>\n",
              "      <td>9th January 2023</td>\n",
              "      <td>Flew ATL to LHR 8th Jan 2023. Was unlucky enou...</td>\n",
              "      <td>4</td>\n",
              "      <td>Economy Class</td>\n",
              "      <td>United Kingdom</td>\n",
              "    </tr>\n",
              "    <tr>\n",
              "      <th>1</th>\n",
              "      <td>8th January 2023</td>\n",
              "      <td>Great thing about British Airways A380 is the ...</td>\n",
              "      <td>5</td>\n",
              "      <td>Economy Class</td>\n",
              "      <td>United Kingdom</td>\n",
              "    </tr>\n",
              "    <tr>\n",
              "      <th>2</th>\n",
              "      <td>6th January 2023</td>\n",
              "      <td>The staff are friendly. The plane was cold, we...</td>\n",
              "      <td>1</td>\n",
              "      <td>Economy Class</td>\n",
              "      <td>Canada</td>\n",
              "    </tr>\n",
              "    <tr>\n",
              "      <th>3</th>\n",
              "      <td>2nd January 2023</td>\n",
              "      <td>Probably the worst business class experience I...</td>\n",
              "      <td>1</td>\n",
              "      <td>Business Class</td>\n",
              "      <td>United States</td>\n",
              "    </tr>\n",
              "    <tr>\n",
              "      <th>4</th>\n",
              "      <td>2nd January 2023</td>\n",
              "      <td>Definitely not recommended, especially for bus...</td>\n",
              "      <td>2</td>\n",
              "      <td>Business Class</td>\n",
              "      <td>United States</td>\n",
              "    </tr>\n",
              "  </tbody>\n",
              "</table>\n",
              "</div>\n",
              "      <button class=\"colab-df-convert\" onclick=\"convertToInteractive('df-5ebf9b3e-417e-4661-909f-9b592a8838da')\"\n",
              "              title=\"Convert this dataframe to an interactive table.\"\n",
              "              style=\"display:none;\">\n",
              "        \n",
              "  <svg xmlns=\"http://www.w3.org/2000/svg\" height=\"24px\"viewBox=\"0 0 24 24\"\n",
              "       width=\"24px\">\n",
              "    <path d=\"M0 0h24v24H0V0z\" fill=\"none\"/>\n",
              "    <path d=\"M18.56 5.44l.94 2.06.94-2.06 2.06-.94-2.06-.94-.94-2.06-.94 2.06-2.06.94zm-11 1L8.5 8.5l.94-2.06 2.06-.94-2.06-.94L8.5 2.5l-.94 2.06-2.06.94zm10 10l.94 2.06.94-2.06 2.06-.94-2.06-.94-.94-2.06-.94 2.06-2.06.94z\"/><path d=\"M17.41 7.96l-1.37-1.37c-.4-.4-.92-.59-1.43-.59-.52 0-1.04.2-1.43.59L10.3 9.45l-7.72 7.72c-.78.78-.78 2.05 0 2.83L4 21.41c.39.39.9.59 1.41.59.51 0 1.02-.2 1.41-.59l7.78-7.78 2.81-2.81c.8-.78.8-2.07 0-2.86zM5.41 20L4 18.59l7.72-7.72 1.47 1.35L5.41 20z\"/>\n",
              "  </svg>\n",
              "      </button>\n",
              "      \n",
              "  <style>\n",
              "    .colab-df-container {\n",
              "      display:flex;\n",
              "      flex-wrap:wrap;\n",
              "      gap: 12px;\n",
              "    }\n",
              "\n",
              "    .colab-df-convert {\n",
              "      background-color: #E8F0FE;\n",
              "      border: none;\n",
              "      border-radius: 50%;\n",
              "      cursor: pointer;\n",
              "      display: none;\n",
              "      fill: #1967D2;\n",
              "      height: 32px;\n",
              "      padding: 0 0 0 0;\n",
              "      width: 32px;\n",
              "    }\n",
              "\n",
              "    .colab-df-convert:hover {\n",
              "      background-color: #E2EBFA;\n",
              "      box-shadow: 0px 1px 2px rgba(60, 64, 67, 0.3), 0px 1px 3px 1px rgba(60, 64, 67, 0.15);\n",
              "      fill: #174EA6;\n",
              "    }\n",
              "\n",
              "    [theme=dark] .colab-df-convert {\n",
              "      background-color: #3B4455;\n",
              "      fill: #D2E3FC;\n",
              "    }\n",
              "\n",
              "    [theme=dark] .colab-df-convert:hover {\n",
              "      background-color: #434B5C;\n",
              "      box-shadow: 0px 1px 3px 1px rgba(0, 0, 0, 0.15);\n",
              "      filter: drop-shadow(0px 1px 2px rgba(0, 0, 0, 0.3));\n",
              "      fill: #FFFFFF;\n",
              "    }\n",
              "  </style>\n",
              "\n",
              "      <script>\n",
              "        const buttonEl =\n",
              "          document.querySelector('#df-5ebf9b3e-417e-4661-909f-9b592a8838da button.colab-df-convert');\n",
              "        buttonEl.style.display =\n",
              "          google.colab.kernel.accessAllowed ? 'block' : 'none';\n",
              "\n",
              "        async function convertToInteractive(key) {\n",
              "          const element = document.querySelector('#df-5ebf9b3e-417e-4661-909f-9b592a8838da');\n",
              "          const dataTable =\n",
              "            await google.colab.kernel.invokeFunction('convertToInteractive',\n",
              "                                                     [key], {});\n",
              "          if (!dataTable) return;\n",
              "\n",
              "          const docLinkHtml = 'Like what you see? Visit the ' +\n",
              "            '<a target=\"_blank\" href=https://colab.research.google.com/notebooks/data_table.ipynb>data table notebook</a>'\n",
              "            + ' to learn more about interactive tables.';\n",
              "          element.innerHTML = '';\n",
              "          dataTable['output_type'] = 'display_data';\n",
              "          await google.colab.output.renderOutput(dataTable, element);\n",
              "          const docLink = document.createElement('div');\n",
              "          docLink.innerHTML = docLinkHtml;\n",
              "          element.appendChild(docLink);\n",
              "        }\n",
              "      </script>\n",
              "    </div>\n",
              "  </div>\n",
              "  "
            ]
          },
          "metadata": {},
          "execution_count": 208
        }
      ],
      "source": [
        "#Creating a Dataframe and storing above values \n",
        "df = pd.DataFrame({\"Date\": date, \"Reviews\":reviews, \"Rating\":fin_ratings, \"Class\":seat, \"Country\":country})\n",
        "\n",
        "print(\"Shape of dataset\", df.shape, '\\n')\n",
        "\n",
        "df.head()"
      ]
    },
    {
      "cell_type": "code",
      "execution_count": null,
      "metadata": {
        "id": "TJ89YAT79Jg6"
      },
      "outputs": [],
      "source": [
        "#Saving dataframe into the csv file\n",
        "#df.to_csv(\"/content/BA_reviews.csv\", date_format='Date', index=False)"
      ]
    },
    {
      "cell_type": "markdown",
      "source": [
        "**Note:**\n",
        "* We have successfully collected the BA reviews data from the source(website), stored, retrieved, transformed and integrated into dataframe.\n",
        "* In next notebook file, we will perform data cleaning, exploratory data analysis, visualisations, sentiment analysis, etc."
      ],
      "metadata": {
        "id": "regFh9pqXjLo"
      }
    },
    {
      "cell_type": "markdown",
      "source": [
        "#### Thank you!"
      ],
      "metadata": {
        "id": "1cDfuN4RWePn"
      }
    }
  ],
  "metadata": {
    "kernelspec": {
      "display_name": "Python 3.9.13 ('venv': venv)",
      "language": "python",
      "name": "python3"
    },
    "language_info": {
      "codemirror_mode": {
        "name": "ipython",
        "version": 3
      },
      "file_extension": ".py",
      "mimetype": "text/x-python",
      "name": "python",
      "nbconvert_exporter": "python",
      "pygments_lexer": "ipython3",
      "version": "3.9.13"
    },
    "orig_nbformat": 4,
    "vscode": {
      "interpreter": {
        "hash": "4f7924c4c56b083e0e50eadfe7ef592a7a8ef70df33a0047f82280e6be1afe15"
      }
    },
    "colab": {
      "provenance": []
    },
    "gpuClass": "standard"
  },
  "nbformat": 4,
  "nbformat_minor": 0
}